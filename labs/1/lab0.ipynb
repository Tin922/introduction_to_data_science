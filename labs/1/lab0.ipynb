{
 "cells": [
  {
   "cell_type": "markdown",
   "metadata": {},
   "source": [
    "## Kratki pregled za Jupyter Notebook"
   ]
  },
  {
   "cell_type": "markdown",
   "metadata": {},
   "source": [
    "Jupyter Notebook je okruženje za kodiranje temeljeno na pregledniku, koje se intenzivno koristi za izradu prototipa i interaktivni razvoj u aplikacijama za podatkovnu znanost. Jupyter Notebook je evolucija starijeg projekta koji se zove IPython Noteboook (ovo je podrijetlo ekstenzije datoteke prijenosnika “.ipynb”), i dok (kao što ime sugerira) Jupyter Notebook podržava jezike koji nisu Python, trenutno Python je daleko najčešći jezik za ove bilježnice. Opće informacije o Jupyter Notebooku i povezanim projektima mogu se pronaći na stranici [Jupyter project page](http://jupyter.org/)."
   ]
  },
  {
   "cell_type": "markdown",
   "metadata": {},
   "source": [
    "Središnja jedinica unutar Jupyter Notebooka su \"ćelije\". Ove ćelije mogu sadržavati kod ili Markdown (jednostavan jezik za oblikovanje, koji također može uključivati stvari poput LaTeX jednadžbe). Padajući izbornik na vrhu zaslona označava vrstu trenutne ćelije.\n",
    "\n",
    "Ćelije s kodovima mogu se izvršiti pritiskom na gumb ▶❚ na vrhu bilježnice ili češće putem naredbi Shift-Enter (izvrši i prijeđi na sljedeću ćeliju) ili Control-Enter (izvrši i ostani na toj ćeliji). Sav Python kod se izvodi u jednom radnom Python okruženju, koje se zove \"Kernel\" u Jupyter bilježnici. Varijable se dijele u svim ćelijama, a kod se izvršava redoslijedom kojim se ćelije izvode (ne nužno sekvencijalno u bilježnici), što vašu bilježnicu može dovesti u prilično zbunjujuća stanja ako ćelije ne izvršavate uvijek redom.\n",
    "\n",
    "Pogledajmo nekoliko primjera."
   ]
  },
  {
   "cell_type": "code",
   "execution_count": 1,
   "metadata": {},
   "outputs": [
    {
     "data": {
      "text/plain": [
       "3"
      ]
     },
     "execution_count": 1,
     "metadata": {},
     "output_type": "execute_result"
    }
   ],
   "source": [
    "1+2"
   ]
  },
  {
   "cell_type": "code",
   "execution_count": 2,
   "metadata": {},
   "outputs": [],
   "source": [
    "a = 1.0\n",
    "b = 2.0"
   ]
  },
  {
   "cell_type": "code",
   "execution_count": 3,
   "metadata": {},
   "outputs": [
    {
     "name": "stdout",
     "output_type": "stream",
     "text": [
      "1.0\n"
     ]
    },
    {
     "data": {
      "text/plain": [
       "2.0"
      ]
     },
     "execution_count": 3,
     "metadata": {},
     "output_type": "execute_result"
    }
   ],
   "source": [
    "print(a)\n",
    "b"
   ]
  },
  {
   "cell_type": "code",
   "execution_count": 4,
   "metadata": {},
   "outputs": [
    {
     "name": "stdout",
     "output_type": "stream",
     "text": [
      "0\n",
      "1\n",
      "2\n",
      "3\n",
      "4\n",
      "5\n",
      "6\n",
      "7\n",
      "8\n",
      "9\n"
     ]
    }
   ],
   "source": [
    "for i in range(10):\n",
    "    print(i)"
   ]
  },
  {
   "cell_type": "markdown",
   "metadata": {},
   "source": [
    "Sve naredbe za `print` ispisat će se u odjeljak izlaza iz ćelije, a izlaz će također sadržavati string reprezentaciju objekta koju vraća zadnji red u ćeliji. Dakle, u gornjoj postavci gdje se varijabla `b` pojavljuje u zadnjem retku ćelije, njen sadržaj se ispisuje na kraju izlaza ćelije, nakon svih prethodnih naredbi za ispis koje su se dogodile prije.\n",
    "\n",
    "Bilo koji Python kod bit će valjan u tim ćelijama, tako da možemo uvesti vanjske biblioteke, definirati klase i funkcije itd."
   ]
  },
  {
   "cell_type": "code",
   "execution_count": 5,
   "metadata": {},
   "outputs": [],
   "source": [
    "import requests"
   ]
  },
  {
   "cell_type": "code",
   "execution_count": 7,
   "metadata": {},
   "outputs": [],
   "source": [
    "def square(x):\n",
    "    \"\"\"Square the input x\"\"\"\n",
    "    return x*x"
   ]
  },
  {
   "cell_type": "code",
   "execution_count": 75,
   "metadata": {},
   "outputs": [
    {
     "data": {
      "text/plain": [
       "16"
      ]
     },
     "execution_count": 75,
     "metadata": {},
     "output_type": "execute_result"
    }
   ],
   "source": [
    "square(4)"
   ]
  },
  {
   "cell_type": "markdown",
   "metadata": {},
   "source": [
    "### Cell magics\n",
    "\n",
    "Osim pokretanja Python koda, Jupyter Notebook ima neke ugrađene rutine za izvođenje operacija izvan Pythona, mjerenje vremena ili analizu izvođenja koda, itd. Ovim \"cell magics\" prethodi `%` (na početku retka ... ovo je tehnički se naziva \"linijska magija\") za single line cell magic i `%%` na početku ćelije za cell magics cjalokupne ćelije. Nećemo pokriti mnoge od njih, ali neke su vrlo korisne pa bi se bilo ok upoznati s osnovama. Puno iscrpniji popis se nalazi se ovdje: [Built-in cell magics](http://ipython.readthedocs.io/en/stable/interactive/magics.html).\n",
    "\n",
    "- Vremenske operacije s `%timeit` (za jednu liniju), `%%timeit` (za cijelu ćeliju). Ova naredba će pokrenuti liniju ili ćeliju više puta i dati prosječno vrijeme. Prilagodljiva je, tako da se operacije koje traju manje vremena izvode češće, kako bi se osigurala bolja procjena vremena izvođenja (dakle, vrijeme potrebno za izvođenje ove naredbe nije indikativno za stvarno vrijeme koje je potrebno za izvođenje kod. Ako želite samo mjeriti vrijeme jednog prolaza, koristeći `%time` ili `%%time`."
   ]
  },
  {
   "cell_type": "code",
   "execution_count": 8,
   "metadata": {},
   "outputs": [
    {
     "name": "stdout",
     "output_type": "stream",
     "text": [
      "CPU times: total: 0 ns\n",
      "Wall time: 917 μs\n"
     ]
    },
    {
     "data": {
      "text/plain": [
       "333283335000"
      ]
     },
     "execution_count": 8,
     "metadata": {},
     "output_type": "execute_result"
    }
   ],
   "source": [
    "%time sum(x**2 for x in range(10000))"
   ]
  },
  {
   "cell_type": "markdown",
   "metadata": {},
   "source": [
    "- Izvršite bash naredbe s `%%bash`. Koristite ovo vrlo umjereno."
   ]
  },
  {
   "cell_type": "code",
   "execution_count": 10,
   "metadata": {},
   "outputs": [
    {
     "name": "stdout",
     "output_type": "stream",
     "text": [
      "\u0000\u0000i\u0000n\u0000d\u0000o\u0000w\u0000s\u0000 \u0000S\u0000u\u0000b\u0000s\u0000y\u0000s\u0000t\u0000e\u0000m\u0000 \u0000f\u0000o\u0000r\u0000 \u0000L\u0000i\u0000n\u0000u\u0000x\u0000 \u0000h\u0000a\u0000s\u0000 \u0000n\u0000o\u0000 \u0000i\u0000n\u0000s\u0000t\u0000a\u0000l\u0000l\u0000e\u0000d\u0000 \u0000d\u0000i\u0000s\u0000t\u0000r\u0000i\u0000b\u0000u\u0000t\u0000i\u0000o\u0000n\u0000s\u0000.\u0000\n",
      "\u0000D\u0000i\u0000s\u0000t\u0000r\u0000i\u0000b\u0000u\u0000t\u0000i\u0000o\u0000n\u0000s\u0000 \u0000c\u0000a\u0000n\u0000 \u0000b\u0000e\u0000 \u0000i\u0000n\u0000s\u0000t\u0000a\u0000l\u0000l\u0000e\u0000d\u0000 \u0000b\u0000y\u0000 \u0000v\u0000i\u0000s\u0000i\u0000t\u0000i\u0000n\u0000g\u0000 \u0000t\u0000h\u0000e\u0000 \u0000M\u0000i\u0000c\u0000r\u0000o\u0000s\u0000o\u0000f\u0000t\u0000 \u0000S\u0000t\u0000o\u0000r\u0000e\u0000:\u0000\n",
      "\u0000h\u0000t\u0000t\u0000p\u0000s\u0000:\u0000/\u0000/\u0000a\u0000k\u0000a\u0000.\u0000m\u0000s\u0000/\u0000w\u0000s\u0000l\u0000s\u0000t\u0000o\u0000r\u0000e\u0000\n",
      "\u0000"
     ]
    },
    {
     "ename": "CalledProcessError",
     "evalue": "Command 'b'ls\\n'' returned non-zero exit status 1.",
     "output_type": "error",
     "traceback": [
      "\u001b[1;31m---------------------------------------------------------------------------\u001b[0m",
      "\u001b[1;31mCalledProcessError\u001b[0m                        Traceback (most recent call last)",
      "Cell \u001b[1;32mIn[10], line 1\u001b[0m\n\u001b[1;32m----> 1\u001b[0m \u001b[43mget_ipython\u001b[49m\u001b[43m(\u001b[49m\u001b[43m)\u001b[49m\u001b[38;5;241;43m.\u001b[39;49m\u001b[43mrun_cell_magic\u001b[49m\u001b[43m(\u001b[49m\u001b[38;5;124;43m'\u001b[39;49m\u001b[38;5;124;43mbash\u001b[39;49m\u001b[38;5;124;43m'\u001b[39;49m\u001b[43m,\u001b[49m\u001b[43m \u001b[49m\u001b[38;5;124;43m'\u001b[39;49m\u001b[38;5;124;43m'\u001b[39;49m\u001b[43m,\u001b[49m\u001b[43m \u001b[49m\u001b[38;5;124;43m'\u001b[39;49m\u001b[38;5;124;43mls\u001b[39;49m\u001b[38;5;130;43;01m\\n\u001b[39;49;00m\u001b[38;5;124;43m'\u001b[39;49m\u001b[43m)\u001b[49m\n",
      "File \u001b[1;32mc:\\Users\\Administrator\\Desktop\\Podatkovna\\new\\labs\\Lib\\site-packages\\IPython\\core\\interactiveshell.py:2541\u001b[0m, in \u001b[0;36mInteractiveShell.run_cell_magic\u001b[1;34m(self, magic_name, line, cell)\u001b[0m\n\u001b[0;32m   2539\u001b[0m \u001b[38;5;28;01mwith\u001b[39;00m \u001b[38;5;28mself\u001b[39m\u001b[38;5;241m.\u001b[39mbuiltin_trap:\n\u001b[0;32m   2540\u001b[0m     args \u001b[38;5;241m=\u001b[39m (magic_arg_s, cell)\n\u001b[1;32m-> 2541\u001b[0m     result \u001b[38;5;241m=\u001b[39m \u001b[43mfn\u001b[49m\u001b[43m(\u001b[49m\u001b[38;5;241;43m*\u001b[39;49m\u001b[43margs\u001b[49m\u001b[43m,\u001b[49m\u001b[43m \u001b[49m\u001b[38;5;241;43m*\u001b[39;49m\u001b[38;5;241;43m*\u001b[39;49m\u001b[43mkwargs\u001b[49m\u001b[43m)\u001b[49m\n\u001b[0;32m   2543\u001b[0m \u001b[38;5;66;03m# The code below prevents the output from being displayed\u001b[39;00m\n\u001b[0;32m   2544\u001b[0m \u001b[38;5;66;03m# when using magics with decorator @output_can_be_silenced\u001b[39;00m\n\u001b[0;32m   2545\u001b[0m \u001b[38;5;66;03m# when the last Python token in the expression is a ';'.\u001b[39;00m\n\u001b[0;32m   2546\u001b[0m \u001b[38;5;28;01mif\u001b[39;00m \u001b[38;5;28mgetattr\u001b[39m(fn, magic\u001b[38;5;241m.\u001b[39mMAGIC_OUTPUT_CAN_BE_SILENCED, \u001b[38;5;28;01mFalse\u001b[39;00m):\n",
      "File \u001b[1;32mc:\\Users\\Administrator\\Desktop\\Podatkovna\\new\\labs\\Lib\\site-packages\\IPython\\core\\magics\\script.py:155\u001b[0m, in \u001b[0;36mScriptMagics._make_script_magic.<locals>.named_script_magic\u001b[1;34m(line, cell)\u001b[0m\n\u001b[0;32m    153\u001b[0m \u001b[38;5;28;01melse\u001b[39;00m:\n\u001b[0;32m    154\u001b[0m     line \u001b[38;5;241m=\u001b[39m script\n\u001b[1;32m--> 155\u001b[0m \u001b[38;5;28;01mreturn\u001b[39;00m \u001b[38;5;28;43mself\u001b[39;49m\u001b[38;5;241;43m.\u001b[39;49m\u001b[43mshebang\u001b[49m\u001b[43m(\u001b[49m\u001b[43mline\u001b[49m\u001b[43m,\u001b[49m\u001b[43m \u001b[49m\u001b[43mcell\u001b[49m\u001b[43m)\u001b[49m\n",
      "File \u001b[1;32mc:\\Users\\Administrator\\Desktop\\Podatkovna\\new\\labs\\Lib\\site-packages\\IPython\\core\\magics\\script.py:315\u001b[0m, in \u001b[0;36mScriptMagics.shebang\u001b[1;34m(self, line, cell)\u001b[0m\n\u001b[0;32m    310\u001b[0m \u001b[38;5;28;01mif\u001b[39;00m args\u001b[38;5;241m.\u001b[39mraise_error \u001b[38;5;129;01mand\u001b[39;00m p\u001b[38;5;241m.\u001b[39mreturncode \u001b[38;5;241m!=\u001b[39m \u001b[38;5;241m0\u001b[39m:\n\u001b[0;32m    311\u001b[0m     \u001b[38;5;66;03m# If we get here and p.returncode is still None, we must have\u001b[39;00m\n\u001b[0;32m    312\u001b[0m     \u001b[38;5;66;03m# killed it but not yet seen its return code. We don't wait for it,\u001b[39;00m\n\u001b[0;32m    313\u001b[0m     \u001b[38;5;66;03m# in case it's stuck in uninterruptible sleep. -9 = SIGKILL\u001b[39;00m\n\u001b[0;32m    314\u001b[0m     rc \u001b[38;5;241m=\u001b[39m p\u001b[38;5;241m.\u001b[39mreturncode \u001b[38;5;129;01mor\u001b[39;00m \u001b[38;5;241m-\u001b[39m\u001b[38;5;241m9\u001b[39m\n\u001b[1;32m--> 315\u001b[0m     \u001b[38;5;28;01mraise\u001b[39;00m CalledProcessError(rc, cell)\n",
      "\u001b[1;31mCalledProcessError\u001b[0m: Command 'b'ls\\n'' returned non-zero exit status 1."
     ]
    }
   ],
   "source": [
    "%%bash\n",
    "ls"
   ]
  },
  {
   "cell_type": "markdown",
   "metadata": {
    "id": "VY48mAXCuRa-"
   },
   "source": [
    "# Uvod u Python\n",
    "\n",
    "Python je moćan interpretirani jezik visoke razine."
   ]
  },
  {
   "cell_type": "markdown",
   "metadata": {
    "id": "qgtLgu0-uplS"
   },
   "source": [
    "## Varijable"
   ]
  },
  {
   "cell_type": "markdown",
   "metadata": {
    "id": "aJ0yODE9dpV6"
   },
   "source": [
    "Cijeli brojevi"
   ]
  },
  {
   "cell_type": "code",
   "execution_count": 11,
   "metadata": {
    "id": "EJ4tZ5gYdrOv"
   },
   "outputs": [
    {
     "name": "stdout",
     "output_type": "stream",
     "text": [
      "Sum, difference, division: 3 -1 0\n"
     ]
    }
   ],
   "source": [
    "a = 1\n",
    "b = 2\n",
    "print(\"Sum, difference, division:\", a + b, a - b, a // b)"
   ]
  },
  {
   "cell_type": "markdown",
   "metadata": {
    "id": "ZPpnUzuudus2"
   },
   "source": [
    "Brojevi s pomičnim zarezom"
   ]
  },
  {
   "cell_type": "code",
   "execution_count": 12,
   "metadata": {
    "id": "oRM7cXildxrf"
   },
   "outputs": [
    {
     "name": "stdout",
     "output_type": "stream",
     "text": [
      "Brojevi s pomičnim zarezom: 0.5\n"
     ]
    }
   ],
   "source": [
    "print(\"Brojevi s pomičnim zarezom:\", 1.0 / 2.0)"
   ]
  },
  {
   "cell_type": "markdown",
   "metadata": {
    "id": "Q6IzYW72d2Na"
   },
   "source": [
    "Kompleksni brojevi"
   ]
  },
  {
   "cell_type": "code",
   "execution_count": 13,
   "metadata": {
    "id": "3ooBQ-HAd4R-"
   },
   "outputs": [
    {
     "name": "stdout",
     "output_type": "stream",
     "text": [
      "Kompleksni brojevi: (1+1j)\n"
     ]
    }
   ],
   "source": [
    "print(\"Kompleksni brojevi:\", 1.0 + 1.0j)"
   ]
  },
  {
   "cell_type": "markdown",
   "metadata": {
    "id": "aRtsNkxLd7AB"
   },
   "source": [
    "Booleans"
   ]
  },
  {
   "cell_type": "code",
   "execution_count": 14,
   "metadata": {
    "id": "mzvtZ2RceARU"
   },
   "outputs": [
    {
     "name": "stdout",
     "output_type": "stream",
     "text": [
      "Boolean operations: True False False\n"
     ]
    }
   ],
   "source": [
    "a = True\n",
    "b = False\n",
    "print(\"Boolean operations:\", a or b, a and b, not a)"
   ]
  },
  {
   "cell_type": "markdown",
   "metadata": {
    "id": "uVzLWAp7eCch"
   },
   "source": [
    "Stringovi"
   ]
  },
  {
   "cell_type": "code",
   "execution_count": 15,
   "metadata": {
    "id": "jx9zZkzSeHH1"
   },
   "outputs": [
    {
     "name": "stdout",
     "output_type": "stream",
     "text": [
      "String: Ovo je string u Pythonu\n"
     ]
    }
   ],
   "source": [
    "a = \"Ovo je string u Pythonu\"\n",
    "print(\"String:\", a)"
   ]
  },
  {
   "cell_type": "markdown",
   "metadata": {
    "id": "kgTGxeOFeLd1"
   },
   "source": [
    "Mogu se upotrebljavati i jednostruki navodnici"
   ]
  },
  {
   "cell_type": "code",
   "execution_count": 16,
   "metadata": {
    "id": "EkSoAMuJeIlX"
   },
   "outputs": [
    {
     "data": {
      "text/plain": [
       "'Ovo je takodjer string'"
      ]
     },
     "execution_count": 16,
     "metadata": {},
     "output_type": "execute_result"
    }
   ],
   "source": [
    "a = 'Ovo je takodjer string'\n",
    "a"
   ]
  },
  {
   "cell_type": "markdown",
   "metadata": {
    "id": "IvlWLUGLePla"
   },
   "source": [
    "Dugačak string se može razdijeliti na sljedeći način"
   ]
  },
  {
   "cell_type": "code",
   "execution_count": 17,
   "metadata": {
    "id": "Kv_M49fpeS0E"
   },
   "outputs": [
    {
     "data": {
      "text/plain": [
       "'Veoma Veoma Veoma dugacak dugacak dugacak string u Pythonu'"
      ]
     },
     "execution_count": 17,
     "metadata": {},
     "output_type": "execute_result"
    }
   ],
   "source": [
    "a = (\"Veoma Veoma Veoma \"\n",
    "     \"dugacak dugacak dugacak \"\n",
    "     \"string u Pythonu\"\n",
    "    )\n",
    "a"
   ]
  },
  {
   "cell_type": "markdown",
   "metadata": {
    "id": "-_UfrpwQeXi4"
   },
   "source": [
    "Ili uspotrebljavajte multiline string"
   ]
  },
  {
   "cell_type": "code",
   "execution_count": 18,
   "metadata": {
    "id": "uAMadNw5eZQ7"
   },
   "outputs": [
    {
     "data": {
      "text/plain": [
       "'ovo\\nje\\nmultiline \\nstring'"
      ]
     },
     "execution_count": 18,
     "metadata": {},
     "output_type": "execute_result"
    }
   ],
   "source": [
    "a = \"\"\"ovo\n",
    "je\n",
    "multiline \n",
    "string\"\"\"\n",
    "a"
   ]
  },
  {
   "cell_type": "markdown",
   "metadata": {
    "id": "OJXyqzJ_ehNm"
   },
   "source": [
    "Konkatenacija Stringa"
   ]
  },
  {
   "cell_type": "code",
   "execution_count": 19,
   "metadata": {
    "id": "wxNX3yCOejzb"
   },
   "outputs": [
    {
     "data": {
      "text/plain": [
       "'string'"
      ]
     },
     "execution_count": 19,
     "metadata": {},
     "output_type": "execute_result"
    }
   ],
   "source": [
    "\"str\" + \"ing\""
   ]
  },
  {
   "cell_type": "markdown",
   "metadata": {
    "id": "gyJYt_dJepTs"
   },
   "source": [
    "Jedna od korisnih string metoda:"
   ]
  },
  {
   "cell_type": "code",
   "execution_count": 20,
   "metadata": {
    "id": "TfkggKXletFA"
   },
   "outputs": [
    {
     "name": "stdout",
     "output_type": "stream",
     "text": [
      "True\n"
     ]
    }
   ],
   "source": [
    "print(\"string\".startswith(\"str\"))"
   ]
  },
  {
   "cell_type": "markdown",
   "metadata": {
    "id": "vtQDPYB-fY7x"
   },
   "source": [
    "Testirajte sljedeće metode: `.endswith`, `.join`, `.capitalize`"
   ]
  },
  {
   "cell_type": "markdown",
   "metadata": {
    "id": "rWnykIjkfhly"
   },
   "source": [
    "String formatting"
   ]
  },
  {
   "cell_type": "code",
   "execution_count": 21,
   "metadata": {
    "id": "PToq0omNflP2"
   },
   "outputs": [
    {
     "data": {
      "text/plain": [
       "'This is a number 10, this is another number 20!'"
      ]
     },
     "execution_count": 21,
     "metadata": {},
     "output_type": "execute_result"
    }
   ],
   "source": [
    "\"This is a number {}, this is another number {}!\".format(10, 20)"
   ]
  },
  {
   "cell_type": "markdown",
   "metadata": {
    "id": "WgYzAHHSf00K"
   },
   "source": [
    "Moguće je specificirati kako je broj formatiran"
   ]
  },
  {
   "cell_type": "code",
   "execution_count": 22,
   "metadata": {
    "id": "zGGlXdZQuKnG"
   },
   "outputs": [
    {
     "data": {
      "text/plain": [
       "'This is pi 3.14!'"
      ]
     },
     "execution_count": 22,
     "metadata": {},
     "output_type": "execute_result"
    }
   ],
   "source": [
    "\"This is pi {:0.2f}!\".format(3.1415)"
   ]
  },
  {
   "cell_type": "markdown",
   "metadata": {
    "id": "e2UqKCEDf4n9"
   },
   "source": [
    "Format stringovi izgledaju ovako:"
   ]
  },
  {
   "cell_type": "code",
   "execution_count": 23,
   "metadata": {
    "id": "vao_Xk17f_BP"
   },
   "outputs": [
    {
     "data": {
      "text/plain": [
       "'This is sum of 2 and 3: 5'"
      ]
     },
     "execution_count": 23,
     "metadata": {},
     "output_type": "execute_result"
    }
   ],
   "source": [
    "f\"This is sum of 2 and 3: {2 + 3}\""
   ]
  },
  {
   "cell_type": "markdown",
   "metadata": {
    "id": "yDBje-obvc9B"
   },
   "source": [
    "## Jednostavne data strukture: lists, maps, sets, tuples\n",
    "\n",
    "Liste are zamišljenje za pohranjivanje vrijednosti u nizu."
   ]
  },
  {
   "cell_type": "markdown",
   "metadata": {
    "id": "qZp9Hx-9hIRC"
   },
   "source": [
    "### Liste"
   ]
  },
  {
   "cell_type": "code",
   "execution_count": 24,
   "metadata": {
    "id": "iEO10YjSgEiP"
   },
   "outputs": [
    {
     "data": {
      "text/plain": [
       "[1, 4, 2, 3, 8, 7, 6, 5]"
      ]
     },
     "execution_count": 24,
     "metadata": {},
     "output_type": "execute_result"
    }
   ],
   "source": [
    "array = [1, 4, 2, 3, 8, 7, 6, 5]\n",
    "array"
   ]
  },
  {
   "cell_type": "code",
   "execution_count": 25,
   "metadata": {
    "id": "vTBtlmzlgQUN"
   },
   "outputs": [
    {
     "data": {
      "text/plain": [
       "1"
      ]
     },
     "execution_count": 25,
     "metadata": {},
     "output_type": "execute_result"
    }
   ],
   "source": [
    "array[0]"
   ]
  },
  {
   "cell_type": "code",
   "execution_count": 26,
   "metadata": {
    "id": "tBZ0HPHLgeDc"
   },
   "outputs": [
    {
     "data": {
      "text/plain": [
       "[4, 2, 3, 8]"
      ]
     },
     "execution_count": 26,
     "metadata": {},
     "output_type": "execute_result"
    }
   ],
   "source": [
    "array[1:5]"
   ]
  },
  {
   "cell_type": "code",
   "execution_count": 27,
   "metadata": {
    "id": "0FU3YcmKgmWG"
   },
   "outputs": [
    {
     "data": {
      "text/plain": [
       "[1, 4, 2, 3, 8]"
      ]
     },
     "execution_count": 27,
     "metadata": {},
     "output_type": "execute_result"
    }
   ],
   "source": [
    "array[:5]"
   ]
  },
  {
   "cell_type": "code",
   "execution_count": 28,
   "metadata": {
    "id": "2ND4QRgggqbV"
   },
   "outputs": [
    {
     "data": {
      "text/plain": [
       "[7, 6, 5]"
      ]
     },
     "execution_count": 28,
     "metadata": {},
     "output_type": "execute_result"
    }
   ],
   "source": [
    "array[5:]"
   ]
  },
  {
   "cell_type": "code",
   "execution_count": 29,
   "metadata": {
    "id": "8AU5C2aZgxs-"
   },
   "outputs": [
    {
     "data": {
      "text/plain": [
       "[2, 8, 6]"
      ]
     },
     "execution_count": 29,
     "metadata": {},
     "output_type": "execute_result"
    }
   ],
   "source": [
    "array[2:7:2]"
   ]
  },
  {
   "cell_type": "markdown",
   "metadata": {
    "id": "UFoYM9Vtg33H"
   },
   "source": [
    "Liste mogu sadržavati vrijednosti različitih tipova"
   ]
  },
  {
   "cell_type": "code",
   "execution_count": 30,
   "metadata": {
    "id": "sgHBH0SAvcYB"
   },
   "outputs": [
    {
     "data": {
      "text/plain": [
       "[1, 1e-08, 'Hello']"
      ]
     },
     "execution_count": 30,
     "metadata": {},
     "output_type": "execute_result"
    }
   ],
   "source": [
    "[1, 1e-8, \"Hello\"]"
   ]
  },
  {
   "cell_type": "markdown",
   "metadata": {
    "id": "SPP1Cyajwpfa"
   },
   "source": [
    "### Mape\n",
    "Mape (riječnici) mogu pohraniti odnose između parova vrijednosti"
   ]
  },
  {
   "cell_type": "code",
   "execution_count": 31,
   "metadata": {
    "id": "E9B-8IZ2hVJo"
   },
   "outputs": [
    {
     "data": {
      "text/plain": [
       "{'height': 100.0, 'width': 20.0, 'depth': 10.0}"
      ]
     },
     "execution_count": 31,
     "metadata": {},
     "output_type": "execute_result"
    }
   ],
   "source": [
    "m = {\"height\": 100., \n",
    "     \"width\": 20.,\n",
    "     \"depth\": 10.}\n",
    "m"
   ]
  },
  {
   "cell_type": "markdown",
   "metadata": {
    "id": "_sJCy0_chf3h"
   },
   "source": [
    "Dohvaćanje vrijednosti po key-u"
   ]
  },
  {
   "cell_type": "code",
   "execution_count": 32,
   "metadata": {
    "id": "RyqblTcihk4i"
   },
   "outputs": [
    {
     "data": {
      "text/plain": [
       "20.0"
      ]
     },
     "execution_count": 32,
     "metadata": {},
     "output_type": "execute_result"
    }
   ],
   "source": [
    "m[\"width\"]"
   ]
  },
  {
   "cell_type": "markdown",
   "metadata": {
    "id": "GaRxKo1qhmca"
   },
   "source": [
    "Provjera sadrži li mapa key"
   ]
  },
  {
   "cell_type": "code",
   "execution_count": 33,
   "metadata": {
    "id": "WqOa9VOZh1OA"
   },
   "outputs": [
    {
     "data": {
      "text/plain": [
       "False"
      ]
     },
     "execution_count": 33,
     "metadata": {},
     "output_type": "execute_result"
    }
   ],
   "source": [
    "\"name\" in m"
   ]
  },
  {
   "cell_type": "markdown",
   "metadata": {
    "id": "s5Zeyapsh6Go"
   },
   "source": [
    "Dodavanje nove key-value para"
   ]
  },
  {
   "cell_type": "code",
   "execution_count": 34,
   "metadata": {
    "id": "O7iSJmrah-C1"
   },
   "outputs": [],
   "source": [
    "m[\"name\"] = \"rectangle\""
   ]
  },
  {
   "cell_type": "markdown",
   "metadata": {
    "id": "ILJJI_GFiBOy"
   },
   "source": [
    "Ili zamijeniti postojeći"
   ]
  },
  {
   "cell_type": "code",
   "execution_count": 35,
   "metadata": {
    "id": "PMGZPVR3iDcN"
   },
   "outputs": [],
   "source": [
    "m[\"name\"] = \"RECTANGLE\""
   ]
  },
  {
   "cell_type": "markdown",
   "metadata": {
    "id": "0R5Wm0sFiFlp"
   },
   "source": [
    "Izbrisati key/vrijednost"
   ]
  },
  {
   "cell_type": "code",
   "execution_count": 36,
   "metadata": {
    "id": "-cMBVYYEiHNT"
   },
   "outputs": [
    {
     "data": {
      "text/plain": [
       "'RECTANGLE'"
      ]
     },
     "execution_count": 36,
     "metadata": {},
     "output_type": "execute_result"
    }
   ],
   "source": [
    "m.pop(\"name\")"
   ]
  },
  {
   "cell_type": "markdown",
   "metadata": {
    "id": "kdYzR2X0zWNE"
   },
   "source": [
    "### Tuples\n",
    "Tuples su slične listama, ali su nepromjenjivi -- ne mogu se mijenjati"
   ]
  },
  {
   "cell_type": "code",
   "execution_count": 37,
   "metadata": {
    "id": "yJSXyvBqzBnc"
   },
   "outputs": [
    {
     "ename": "TypeError",
     "evalue": "'tuple' object does not support item assignment",
     "output_type": "error",
     "traceback": [
      "\u001b[1;31m---------------------------------------------------------------------------\u001b[0m",
      "\u001b[1;31mTypeError\u001b[0m                                 Traceback (most recent call last)",
      "Cell \u001b[1;32mIn[37], line 8\u001b[0m\n\u001b[0;32m      5\u001b[0m my_array[\u001b[38;5;241m0\u001b[39m] \u001b[38;5;241m=\u001b[39m \u001b[38;5;241m100\u001b[39m\n\u001b[0;32m      7\u001b[0m \u001b[38;5;66;03m# This will raise an exception\u001b[39;00m\n\u001b[1;32m----> 8\u001b[0m \u001b[43mmy_tuple\u001b[49m\u001b[43m[\u001b[49m\u001b[38;5;241;43m0\u001b[39;49m\u001b[43m]\u001b[49m \u001b[38;5;241m=\u001b[39m \u001b[38;5;241m100\u001b[39m\n",
      "\u001b[1;31mTypeError\u001b[0m: 'tuple' object does not support item assignment"
     ]
    }
   ],
   "source": [
    "my_array = [1, 2, 3]\n",
    "my_tuple = (1, 2, 3)\n",
    "\n",
    "# This is OK\n",
    "my_array[0] = 100\n",
    "\n",
    "# This will raise an exception\n",
    "my_tuple[0] = 100"
   ]
  },
  {
   "cell_type": "markdown",
   "metadata": {
    "id": "IBeeqq6u1EP9"
   },
   "source": [
    "### Sets\n",
    "Sets su neuređene zbirke koje podržavaju brzo pretraživanje, umetanje, brisanje i spajanje."
   ]
  },
  {
   "cell_type": "code",
   "execution_count": 38,
   "metadata": {
    "id": "I1aeG-bFzuL1"
   },
   "outputs": [
    {
     "data": {
      "text/plain": [
       "{'cat', 'dog', 'elephant'}"
      ]
     },
     "execution_count": 38,
     "metadata": {},
     "output_type": "execute_result"
    }
   ],
   "source": [
    "animals = {\"cat\", \"dog\", \"elephant\"}\n",
    "animals"
   ]
  },
  {
   "cell_type": "markdown",
   "metadata": {
    "id": "IKTFuoVCiU4U"
   },
   "source": [
    "Provjeri je li neki element u setu"
   ]
  },
  {
   "cell_type": "code",
   "execution_count": 39,
   "metadata": {
    "id": "M2SRdoJ9iZkt"
   },
   "outputs": [
    {
     "data": {
      "text/plain": [
       "True"
      ]
     },
     "execution_count": 39,
     "metadata": {},
     "output_type": "execute_result"
    }
   ],
   "source": [
    "\"cat\" in animals"
   ]
  },
  {
   "cell_type": "markdown",
   "metadata": {
    "id": "IMPig3GCidQP"
   },
   "source": [
    "Operacije nad setom: union, intersection, itd."
   ]
  },
  {
   "cell_type": "code",
   "execution_count": 40,
   "metadata": {
    "id": "zX06oDPPihJY"
   },
   "outputs": [
    {
     "data": {
      "text/plain": [
       "{'cat', 'dog', 'elephant', 'llama', 'zebra'}"
      ]
     },
     "execution_count": 40,
     "metadata": {},
     "output_type": "execute_result"
    }
   ],
   "source": [
    "animals.union({\"zebra\", \"llama\"})"
   ]
  },
  {
   "cell_type": "markdown",
   "metadata": {
    "id": "do27WDEZ1rKc"
   },
   "source": [
    "## Control flow"
   ]
  },
  {
   "cell_type": "markdown",
   "metadata": {
    "id": "ZRLfl1pTkw8w"
   },
   "source": [
    "if / elif"
   ]
  },
  {
   "cell_type": "code",
   "execution_count": 45,
   "metadata": {
    "id": "6RNIP5pmk0a9"
   },
   "outputs": [
    {
     "name": "stdout",
     "output_type": "stream",
     "text": [
      "a is between 3 and 6\n"
     ]
    }
   ],
   "source": [
    "a = int(input())\n",
    "if a > 6:\n",
    "    print(\"a is greater than 6\")\n",
    "elif a < 3:\n",
    "    print(\"a is less than 3\")\n",
    "else:\n",
    "    print(\"a is between 3 and 6\")"
   ]
  },
  {
   "cell_type": "markdown",
   "metadata": {
    "id": "iF11czrvk9Ve"
   },
   "source": [
    "Petlje"
   ]
  },
  {
   "cell_type": "code",
   "execution_count": 43,
   "metadata": {
    "id": "0FKPTPIklBuR"
   },
   "outputs": [
    {
     "name": "stdout",
     "output_type": "stream",
     "text": [
      "1\n",
      "2\n",
      "3\n",
      "4\n"
     ]
    }
   ],
   "source": [
    "for i in [1, 2, 3, 4]:\n",
    "    print(i)"
   ]
  },
  {
   "cell_type": "markdown",
   "metadata": {},
   "source": [
    "Range"
   ]
  },
  {
   "cell_type": "code",
   "execution_count": 110,
   "metadata": {},
   "outputs": [
    {
     "name": "stdout",
     "output_type": "stream",
     "text": [
      "0\n",
      "1\n",
      "2\n",
      "3\n",
      "4\n",
      "5\n",
      "6\n",
      "7\n",
      "8\n",
      "9\n",
      "1\n",
      "2\n",
      "3\n",
      "4\n",
      "5\n",
      "6\n",
      "7\n",
      "8\n",
      "9\n",
      "1\n",
      "3\n",
      "5\n",
      "7\n",
      "9\n",
      "20\n",
      "17\n",
      "14\n",
      "11\n"
     ]
    }
   ],
   "source": [
    "# Example 1:\n",
    "for i in range(10):\n",
    "    print(i)\n",
    "\n",
    "# Example 2:\n",
    "for i in range(1,10):\n",
    "    print(i)\n",
    "\n",
    "# Example 3:\n",
    "for i in range(1,10,2):\n",
    "    print(i)\n",
    "\n",
    "# Example 4:\n",
    "for i in range(20,10,-3):\n",
    "    print(i)"
   ]
  },
  {
   "cell_type": "markdown",
   "metadata": {},
   "source": [
    "Enumerate"
   ]
  },
  {
   "cell_type": "code",
   "execution_count": 46,
   "metadata": {},
   "outputs": [
    {
     "name": "stdout",
     "output_type": "stream",
     "text": [
      "0 a\n",
      "1 b\n",
      "2 c\n"
     ]
    }
   ],
   "source": [
    "# https://realpython.com/python-enumerate/\n",
    "\n",
    "values = [\"a\", \"b\", \"c\"]\n",
    "\n",
    "for count, value in enumerate(values):\n",
    "    print(count, value)"
   ]
  },
  {
   "cell_type": "markdown",
   "metadata": {},
   "source": [
    "zip"
   ]
  },
  {
   "cell_type": "code",
   "execution_count": 47,
   "metadata": {},
   "outputs": [
    {
     "name": "stdout",
     "output_type": "stream",
     "text": [
      "Letter: a\n",
      "Number: 0\n",
      "Letter: b\n",
      "Number: 1\n",
      "Letter: c\n",
      "Number: 2\n"
     ]
    }
   ],
   "source": [
    "letters = ['a', 'b', 'c']\n",
    "numbers = [0, 1, 2]\n",
    "for l, n in zip(letters, numbers):\n",
    "    print(f'Letter: {l}')\n",
    "    print(f'Number: {n}')"
   ]
  },
  {
   "cell_type": "markdown",
   "metadata": {
    "id": "DEXi6o3KlSTw"
   },
   "source": [
    "Iteracije rječnika"
   ]
  },
  {
   "cell_type": "code",
   "execution_count": 48,
   "metadata": {
    "id": "l4j34y5klVQD"
   },
   "outputs": [
    {
     "name": "stdout",
     "output_type": "stream",
     "text": [
      "height 100.0\n",
      "width 20.0\n",
      "depth 10.0\n"
     ]
    }
   ],
   "source": [
    "for k, v in m.items():\n",
    "    print(k, v)"
   ]
  },
  {
   "cell_type": "markdown",
   "metadata": {
    "id": "_82guvm2lb4Y"
   },
   "source": [
    "While petlja\n",
    "\n",
    "*Veoma rijetko se upotrebljava while petlja. Sljedeći primjer nije krakterističan za python!*"
   ]
  },
  {
   "cell_type": "code",
   "execution_count": 49,
   "metadata": {
    "id": "_xAlRHDNlcsV"
   },
   "outputs": [
    {
     "name": "stdout",
     "output_type": "stream",
     "text": [
      "20\n"
     ]
    }
   ],
   "source": [
    "stop = False\n",
    "i = 10\n",
    "while not stop:\n",
    "    i += 1\n",
    "    if i % 10 == 0:\n",
    "        stop = True\n",
    "        \n",
    "print(i)"
   ]
  },
  {
   "cell_type": "markdown",
   "metadata": {
    "id": "1XOUcES3U_7g"
   },
   "source": [
    "## List comprehensions"
   ]
  },
  {
   "cell_type": "code",
   "execution_count": 50,
   "metadata": {},
   "outputs": [
    {
     "data": {
      "text/plain": [
       "[2, 3, 4]"
      ]
     },
     "execution_count": 50,
     "metadata": {},
     "output_type": "execute_result"
    }
   ],
   "source": [
    "i = []\n",
    "for j in [1, 2, 3]:\n",
    "    i.append(j+1)\n",
    "i"
   ]
  },
  {
   "cell_type": "code",
   "execution_count": 51,
   "metadata": {
    "id": "2ii1YsF1VFQt"
   },
   "outputs": [
    {
     "data": {
      "text/plain": [
       "[2, 3, 4]"
      ]
     },
     "execution_count": 51,
     "metadata": {},
     "output_type": "execute_result"
    }
   ],
   "source": [
    "[i + 1 for i in [1, 2, 3]]"
   ]
  },
  {
   "cell_type": "markdown",
   "metadata": {
    "id": "sP1oejrKVUIo"
   },
   "source": [
    "Radi i za rječnike također"
   ]
  },
  {
   "cell_type": "code",
   "execution_count": 52,
   "metadata": {
    "id": "adCDsD7CVOXi"
   },
   "outputs": [
    {
     "data": {
      "text/plain": [
       "{'1': 2, '2': 3, '3': 4}"
      ]
     },
     "execution_count": 52,
     "metadata": {},
     "output_type": "execute_result"
    }
   ],
   "source": [
    "{str(i): i + 1 for i in [1, 2, 3]}"
   ]
  },
  {
   "cell_type": "markdown",
   "metadata": {
    "id": "Hr1sBDl6NBCt"
   },
   "source": [
    "## Funkcije"
   ]
  },
  {
   "cell_type": "markdown",
   "metadata": {
    "id": "GnLRc_CKxFsf"
   },
   "source": [
    "Definiranje funkcija"
   ]
  },
  {
   "cell_type": "code",
   "execution_count": 53,
   "metadata": {
    "id": "TZJF3UL2M7fg"
   },
   "outputs": [
    {
     "data": {
      "text/plain": [
       "True"
      ]
     },
     "execution_count": 53,
     "metadata": {},
     "output_type": "execute_result"
    }
   ],
   "source": [
    "def is_odd(a):\n",
    "    return a % 2 == 0\n",
    "\n",
    "is_odd(2)"
   ]
  },
  {
   "cell_type": "markdown",
   "metadata": {
    "id": "lPhb-mFxxNNp"
   },
   "source": [
    "Funkcije mogu biti definirane unutar funkcija"
   ]
  },
  {
   "cell_type": "code",
   "execution_count": 54,
   "metadata": {
    "id": "VYbAIDuBxRne"
   },
   "outputs": [
    {
     "data": {
      "text/plain": [
       "True"
      ]
     },
     "execution_count": 54,
     "metadata": {},
     "output_type": "execute_result"
    }
   ],
   "source": [
    "def is_odd(a):\n",
    "    \n",
    "    def is_divisible(number, base):\n",
    "        return number % base == 0\n",
    "    \n",
    "    return is_divisible(a, 2)\n",
    "\n",
    "is_odd(2)"
   ]
  },
  {
   "cell_type": "markdown",
   "metadata": {
    "id": "Hoh9vryhxckA"
   },
   "source": [
    "Možete dodijeliti predefinirane argumente."
   ]
  },
  {
   "cell_type": "code",
   "execution_count": 55,
   "metadata": {
    "id": "SbjDzfrVfmF6"
   },
   "outputs": [],
   "source": [
    "def add_or_subtract(first, second, operation=\"sum\"):\n",
    "    if operation == \"sum\":\n",
    "        return first + second\n",
    "    elif operation == \"sub\":\n",
    "        return first - second\n",
    "    else:\n",
    "        print(\"Operation not permitted\")"
   ]
  },
  {
   "cell_type": "markdown",
   "metadata": {
    "id": "1Lp6YB6fxqpP"
   },
   "source": [
    "Varargs: veličina argumenta varijable"
   ]
  },
  {
   "cell_type": "code",
   "execution_count": 56,
   "metadata": {
    "id": "181garp6xsKA"
   },
   "outputs": [
    {
     "name": "stdout",
     "output_type": "stream",
     "text": [
      "Sum of all integers up to 10 = 45\n"
     ]
    }
   ],
   "source": [
    "def sum_all(*args):\n",
    "    # args is a list of arguments\n",
    "    result = 0\n",
    "    for arg in args:\n",
    "        result += arg\n",
    "    return result\n",
    "\n",
    "# Call vararg function\n",
    "print(\"Sum of all integers up to 10 =\", sum_all(1, 2, 3, 4, 5, 6, 7, 8, 9))"
   ]
  },
  {
   "cell_type": "markdown",
   "metadata": {
    "id": "dmKKnwyox7Ai"
   },
   "source": [
    "Keyword argumenti"
   ]
  },
  {
   "cell_type": "code",
   "execution_count": 57,
   "metadata": {
    "id": "WJPliTlnx92u"
   },
   "outputs": [
    {
     "name": "stdout",
     "output_type": "stream",
     "text": [
      "a 1\n",
      "b 2\n"
     ]
    }
   ],
   "source": [
    "def print_pairs(**kwargs):\n",
    "    # kwargs is a map\n",
    "    for k, v in kwargs.items():\n",
    "        print(k, v)\n",
    "        \n",
    "print_pairs(a=1, b=2)"
   ]
  },
  {
   "cell_type": "markdown",
   "metadata": {
    "id": "51bg23Fmx-6b"
   },
   "source": [
    "Keyword-only argumenti"
   ]
  },
  {
   "cell_type": "code",
   "execution_count": 58,
   "metadata": {
    "id": "RqZwL6WHyHPN"
   },
   "outputs": [
    {
     "name": "stdout",
     "output_type": "stream",
     "text": [
      "Car created with speed 9 and size 3\n"
     ]
    }
   ],
   "source": [
    "def create_car(*, speed, size):\n",
    "    print(\"Car created with speed\", speed, \"and size\", size)\n",
    "    \n",
    "create_car(speed=9, size=3)"
   ]
  },
  {
   "cell_type": "markdown",
   "metadata": {
    "id": "k3Y-h7EAyYhS"
   },
   "source": [
    "Funkcije kao parametri\n",
    "\n",
    "Moguće je proslijediti funkciju kao argument, pretpostavlja se da operacija ovdje predstavlja funkciju"
   ]
  },
  {
   "cell_type": "code",
   "execution_count": 59,
   "metadata": {
    "id": "b_JDJT_6mrqu"
   },
   "outputs": [],
   "source": [
    "def reduce(array, operation):\n",
    "    result = 0\n",
    "    for k, v in enumerate(array):\n",
    "        if k == 0:\n",
    "            result = v\n",
    "        else:\n",
    "            result = operation(v, result)\n",
    "  \n",
    "    return result"
   ]
  },
  {
   "cell_type": "markdown",
   "metadata": {
    "id": "X43dSGaQzHye"
   },
   "source": [
    "Primijenite poziv funkcije sa drugom funkciojm `add_or_subtract`\n"
   ]
  },
  {
   "cell_type": "code",
   "execution_count": 60,
   "metadata": {
    "id": "6rE5TSZRzFWW"
   },
   "outputs": [
    {
     "name": "stdout",
     "output_type": "stream",
     "text": [
      "[1, 2, 3, 4, 5, 6, 7, 8, 9]\n",
      "Sum of the array\n"
     ]
    },
    {
     "data": {
      "text/plain": [
       "45"
      ]
     },
     "execution_count": 60,
     "metadata": {},
     "output_type": "execute_result"
    }
   ],
   "source": [
    "one_to_nine = [1, 2, 3, 4, 5, 6, 7, 8, 9]\n",
    "print(one_to_nine)\n",
    "\n",
    "print(\"Sum of the array\")\n",
    "#The operation is infered from the default parameter of add_or_subtract\n",
    "reduce(one_to_nine, add_or_subtract)"
   ]
  },
  {
   "cell_type": "markdown",
   "metadata": {
    "id": "8tiErQ4PzdFH"
   },
   "source": [
    "### Lambde\n",
    "\n",
    "Funkcija se može definirati anonimno"
   ]
  },
  {
   "cell_type": "code",
   "execution_count": 61,
   "metadata": {
    "id": "a8bWni3hzadd"
   },
   "outputs": [
    {
     "name": "stdout",
     "output_type": "stream",
     "text": [
      "Product of the array\n"
     ]
    },
    {
     "data": {
      "text/plain": [
       "362880"
      ]
     },
     "execution_count": 61,
     "metadata": {},
     "output_type": "execute_result"
    }
   ],
   "source": [
    "print(\"Product of the array\")\n",
    "reduce(one_to_nine, lambda x, y : x * y)"
   ]
  },
  {
   "cell_type": "markdown",
   "metadata": {
    "id": "8rBsR8TgzkhS"
   },
   "source": [
    "### Closures\n",
    "\n",
    "Funkcija može vratiti drugu funkciju s određenim ponašanjem ovisno o argumentima"
   ]
  },
  {
   "cell_type": "code",
   "execution_count": 62,
   "metadata": {
    "id": "NQ9l5wxZm4SV"
   },
   "outputs": [],
   "source": [
    "def get_loss(op_reduce, op_foreach):\n",
    "  \n",
    "    def loss(a, b):\n",
    "        c = []\n",
    "        for av, bv in zip(a, b):\n",
    "            c.append(op_foreach(av, bv))\n",
    "        return op_reduce(c)\n",
    "  \n",
    "    return loss"
   ]
  },
  {
   "cell_type": "markdown",
   "metadata": {
    "id": "-L5B35yEz4Ic"
   },
   "source": [
    "Ova funkcija može pomoći u definiranju srednje kvadratne pogreške"
   ]
  },
  {
   "cell_type": "code",
   "execution_count": 63,
   "metadata": {
    "id": "w4a2_Al4z4qW"
   },
   "outputs": [],
   "source": [
    "mse_loss = get_loss(lambda x : sum(x)/len(x), lambda a, b : (a - b) ** 2)"
   ]
  },
  {
   "cell_type": "markdown",
   "metadata": {
    "id": "jXVJNuY40ARh"
   },
   "source": [
    "Ili srednje apsolutne pogreške"
   ]
  },
  {
   "cell_type": "code",
   "execution_count": 64,
   "metadata": {
    "id": "MYcFxRq70A4K"
   },
   "outputs": [],
   "source": [
    "mae_loss = get_loss(lambda x : sum(x)/len(x), lambda a, b : abs(a - b))"
   ]
  },
  {
   "cell_type": "markdown",
   "metadata": {
    "id": "FDKP5V-c0GY8"
   },
   "source": [
    "Možemo provjeriti radi li kao što je predviđeno"
   ]
  },
  {
   "cell_type": "code",
   "execution_count": 65,
   "metadata": {
    "id": "oYIyTRmN0G6r"
   },
   "outputs": [
    {
     "name": "stdout",
     "output_type": "stream",
     "text": [
      "Two lists:\n",
      " [0, 1, 1, 3, 0, 2, 3] \n",
      " [1, 1, 2, 0, 0, 2, 3]\n",
      "MSE Loss: 1.5714285714285714\n",
      "MAE Loss: 0.7142857142857143\n"
     ]
    }
   ],
   "source": [
    "list1 = [0, 1, 1, 3, 0, 2, 3]\n",
    "list2 = [1, 1, 2, 0, 0, 2, 3]\n",
    "\n",
    "list_mse = mse_loss(list1, list2)\n",
    "list_mae = mae_loss(list1, list2)\n",
    "\n",
    "print(\"Two lists:\\n\", list1, \"\\n\", list2)\n",
    "print(\"MSE Loss: {}\\nMAE Loss: {}\".format(list_mse, list_mae))"
   ]
  },
  {
   "cell_type": "markdown",
   "metadata": {
    "id": "LoPGG5zNAjoU"
   },
   "source": [
    "## Exception"
   ]
  },
  {
   "cell_type": "code",
   "execution_count": null,
   "metadata": {
    "id": "eYsGH9tQAlHr"
   },
   "outputs": [
    {
     "ename": "Exception",
     "evalue": "",
     "output_type": "error",
     "traceback": [
      "\u001b[1;31m---------------------------------------------------------------------------\u001b[0m",
      "\u001b[1;31mException\u001b[0m                                 Traceback (most recent call last)",
      "Cell \u001b[1;32mIn[123], line 2\u001b[0m\n\u001b[0;32m      1\u001b[0m \u001b[38;5;66;03m# Throw exception\u001b[39;00m\n\u001b[1;32m----> 2\u001b[0m \u001b[38;5;28;01mraise\u001b[39;00m \u001b[38;5;167;01mException\u001b[39;00m\n\u001b[0;32m      4\u001b[0m \u001b[38;5;28;01mraise\u001b[39;00m \u001b[38;5;167;01mException\u001b[39;00m(\u001b[38;5;124m\"\u001b[39m\u001b[38;5;124mSomething went wrong\u001b[39m\u001b[38;5;124m\"\u001b[39m)\n\u001b[0;32m      5\u001b[0m \u001b[38;5;28;01mraise\u001b[39;00m \u001b[38;5;167;01mValueError\u001b[39;00m\n",
      "\u001b[1;31mException\u001b[0m: "
     ]
    }
   ],
   "source": [
    "# Throw exception\n",
    "raise Exception\n",
    "\n",
    "raise Exception(\"Something went wrong\")\n",
    "raise ValueError\n",
    "raise IndexError\n",
    "raise StopIteration"
   ]
  },
  {
   "cell_type": "code",
   "execution_count": null,
   "metadata": {
    "id": "IwpCXA3nA3Ap"
   },
   "outputs": [],
   "source": [
    "# Catch exceptions\n",
    "try:\n",
    "    raise ValueError\n",
    "except ValueError:\n",
    "    print(\"Do something else\")\n",
    "finally:\n",
    "    print(\"This part runs always. It is useful for closing files or \"\n",
    "          \"releasing other resources\")"
   ]
  },
  {
   "cell_type": "markdown",
   "metadata": {
    "id": "p1cOGDXHCR-O"
   },
   "source": [
    "## Klase"
   ]
  },
  {
   "cell_type": "markdown",
   "metadata": {
    "id": "r-PruhWd02K0"
   },
   "source": [
    "Definicija klase"
   ]
  },
  {
   "cell_type": "code",
   "execution_count": null,
   "metadata": {
    "id": "IRXa51OfCPEk"
   },
   "outputs": [],
   "source": [
    "class Shape:\n",
    "    pass"
   ]
  },
  {
   "cell_type": "markdown",
   "metadata": {
    "id": "y93ArCva06GI"
   },
   "source": [
    "`shape` je objekt klase `Shape`"
   ]
  },
  {
   "cell_type": "code",
   "execution_count": null,
   "metadata": {
    "id": "0m2SgTiS06tB"
   },
   "outputs": [],
   "source": [
    "shape = Shape()"
   ]
  },
  {
   "cell_type": "markdown",
   "metadata": {
    "id": "F6zvhV8H1BVA"
   },
   "source": [
    "U legacy python-u se koristio način pisanja\n",
    "```python\n",
    "class Shape(object):\n",
    "```\n",
    "Ovo nije više potrebno\n",
    "osim ako ne očekujete da će netko pokrenuti vaš kod u legacy okruženju"
   ]
  },
  {
   "cell_type": "markdown",
   "metadata": {
    "id": "C-Kvdhg41Ju3"
   },
   "source": [
    "Malo više o definiranju klasa"
   ]
  },
  {
   "cell_type": "code",
   "execution_count": null,
   "metadata": {
    "id": "1tCXVcPAB4YQ"
   },
   "outputs": [],
   "source": [
    "class Shape:\n",
    "    class_field = 9\n",
    "    \n",
    "    def __init__(self, name):\n",
    "        self.name = name\n",
    "        self.value = 42\n",
    "    \n",
    "    def method(self, a):\n",
    "        return a * 2 + self.value\n",
    "\n",
    "shape = Shape(\"UUPZ\")\n",
    "print(shape.name)"
   ]
  },
  {
   "cell_type": "markdown",
   "metadata": {
    "id": "dKU0asYuazOF"
   },
   "source": [
    "## Imports\n",
    "\n",
    "Dodavanje novih paketa u python vrlo je jednostavno i mnogi su paketi dostupni. Ako želite neku biblioteku, velika je vjerojatnost da ju je netko drugi već napisao.\n",
    "\n",
    "Općenito, to izgledao ovako:"
   ]
  },
  {
   "cell_type": "code",
   "execution_count": null,
   "metadata": {
    "id": "VFeYVIqocjsm"
   },
   "outputs": [],
   "source": [
    "import time\n",
    "\n",
    "time.time()"
   ]
  },
  {
   "cell_type": "markdown",
   "metadata": {
    "id": "0pNMsOuJctzb"
   },
   "source": [
    "Možete odrediti koje dijelove paketa želite uvesti"
   ]
  },
  {
   "cell_type": "code",
   "execution_count": null,
   "metadata": {
    "id": "jfy8OQqwcr0A"
   },
   "outputs": [],
   "source": [
    "from time import time, sleep\n",
    "\n",
    "print(time())\n",
    "sleep(2)\n",
    "print(time())"
   ]
  },
  {
   "cell_type": "markdown",
   "metadata": {
    "id": "mSBeBMM-Vi-z"
   },
   "source": [
    "## Druga zanimljiva svojstva"
   ]
  },
  {
   "cell_type": "markdown",
   "metadata": {
    "id": "LrQ4hw8KVliz"
   },
   "source": [
    "Multiple assignment"
   ]
  },
  {
   "cell_type": "code",
   "execution_count": null,
   "metadata": {
    "id": "xq5p8zc9VqW8"
   },
   "outputs": [],
   "source": [
    "a, b = 10, 11"
   ]
  },
  {
   "cell_type": "markdown",
   "metadata": {
    "id": "8M8zrRNkVuHM"
   },
   "source": [
    "It works with any kind of list-like objects!"
   ]
  },
  {
   "cell_type": "code",
   "execution_count": null,
   "metadata": {
    "id": "bKPgc-E2Vxfp"
   },
   "outputs": [],
   "source": [
    "a, b = [10, 11]"
   ]
  },
  {
   "cell_type": "markdown",
   "metadata": {
    "id": "rXH3h0TVVz8r"
   },
   "source": [
    "Starred assignment expressions"
   ]
  },
  {
   "cell_type": "code",
   "execution_count": null,
   "metadata": {
    "id": "ydvlwtxOV819"
   },
   "outputs": [
    {
     "name": "stdout",
     "output_type": "stream",
     "text": [
      "[2, 3, 4]\n"
     ]
    }
   ],
   "source": [
    "a, *b = [1, 2, 3, 4]\n",
    "print(b)"
   ]
  },
  {
   "cell_type": "markdown",
   "metadata": {
    "id": "FZ4l0DS_WB5-"
   },
   "source": [
    "Radi za prefikse i sufikse"
   ]
  },
  {
   "cell_type": "code",
   "execution_count": null,
   "metadata": {
    "id": "eX2_V2CRWHLh"
   },
   "outputs": [
    {
     "name": "stdout",
     "output_type": "stream",
     "text": [
      "[1, 2]\n"
     ]
    }
   ],
   "source": [
    "*a, b, c = [1, 2, 3, 4]\n",
    "print(a)"
   ]
  },
  {
   "cell_type": "markdown",
   "metadata": {
    "id": "XHmrP9ayaG6X"
   },
   "source": [
    "# Vježbe"
   ]
  },
  {
   "cell_type": "markdown",
   "metadata": {
    "id": "cUE9SvlVdc4_"
   },
   "source": [
    "## Vježba 1\n",
    "\n",
    "Napišite funkciju koja uzorkuje uniformni slučajni broj od `a` do `b`.\n",
    "\n",
    "Koristite funkciju `random.random` iz biblioteke `random`. Dokumentaciju možete pogledati [ovdje](https://docs.python.org/3.7/library/random.html)"
   ]
  },
  {
   "cell_type": "code",
   "execution_count": 66,
   "metadata": {
    "id": "Jy7ND3SRkeCj"
   },
   "outputs": [
    {
     "name": "stdout",
     "output_type": "stream",
     "text": [
      "2.768824582381609\n"
     ]
    }
   ],
   "source": [
    "import random\n",
    "\n",
    "def sample_one(*, start, end):\n",
    "    return start + (end - start) * random.random()\n",
    "\n",
    "print(sample_one(start=2, end=3))"
   ]
  },
  {
   "cell_type": "markdown",
   "metadata": {
    "id": "p7CIN4iWr3tx"
   },
   "source": [
    "## Vježba 2\n",
    "\n",
    "Napišite funkciju koja kreira listu duljine `n` sampleova kao što je to navedeno u Vježbi 1"
   ]
  },
  {
   "cell_type": "code",
   "execution_count": 67,
   "metadata": {
    "id": "_UFZLC4ssAm1"
   },
   "outputs": [
    {
     "name": "stdout",
     "output_type": "stream",
     "text": [
      "[2.1528798866182486, 2.687772565619024, 2.1479261069766906, 2.9364213647184467, 2.355089924730841]\n"
     ]
    }
   ],
   "source": [
    "import random\n",
    "\n",
    "def sample_many(*, start, end, n):\n",
    "    return [start + (end - start) * random.random() for _ in range(n)]\n",
    "print(sample_many(start=2, end=3, n=5))"
   ]
  },
  {
   "cell_type": "markdown",
   "metadata": {
    "id": "bDNxuKNHsI-L"
   },
   "source": [
    "## Vježba 3\n",
    "\n",
    "Napišite funkciju koja računa prosjek popisa brojeva."
   ]
  },
  {
   "cell_type": "code",
   "execution_count": 68,
   "metadata": {
    "id": "vhsHU8qXsH50"
   },
   "outputs": [
    {
     "name": "stdout",
     "output_type": "stream",
     "text": [
      "2.5\n"
     ]
    }
   ],
   "source": [
    "def average(array):\n",
    "    return sum(array) / len(array)\n",
    "array = [1,2,3,4]\n",
    "print(average(array))"
   ]
  },
  {
   "cell_type": "markdown",
   "metadata": {
    "id": "4RS0grGJsUsK"
   },
   "source": [
    "## Vježba 4\n",
    "\n",
    "Napišite funkciju koja kreira `m` lista kao što je navedeno u Vježbi 2 te računa prosjek svake liste"
   ]
  },
  {
   "cell_type": "code",
   "execution_count": 69,
   "metadata": {
    "id": "CCl07aGwsTqY"
   },
   "outputs": [
    {
     "name": "stdout",
     "output_type": "stream",
     "text": [
      "Populations: [[2.572270615249761, 2.0927121841221723, 2.515440776963505, 2.8377565135269585, 2.6013814851427144], [2.7676025082979026, 2.738513000217791, 2.092439182475729, 2.746731740811803, 2.781374557271663], [2.258185678494888, 2.0162096262040277, 2.9089433805137124, 2.384917828438527, 2.9316740997068997]]\n",
      "Averages: [2.5239123150010223, 2.625332197814978, 2.499986122671611]\n"
     ]
    }
   ],
   "source": [
    "import random\n",
    "\n",
    "def sample_one(*, start, end):\n",
    "    return start + (end - start) * random.random()\n",
    "\n",
    "def sample_many(*, start, end, n):\n",
    "    return [sample_one(start=start, end=end) for _ in range(n)]\n",
    "\n",
    "def create_population(*, start, end, n, size):\n",
    "    populations = [sample_many(start=start, end=end, n=n) for _ in range(size)]\n",
    "    averages = [average(pop) for pop in populations]\n",
    "    return populations, averages\n",
    "\n",
    "def average(array):\n",
    "    if len(array) == 0:\n",
    "        return 0\n",
    "    return sum(array) / len(array)\n",
    "\n",
    "populations, averages = create_population(start=2, end=3, n=5, size=3)\n",
    "print(\"Populations:\", populations)\n",
    "print(\"Averages:\", averages)\n"
   ]
  },
  {
   "cell_type": "markdown",
   "metadata": {},
   "source": [
    "## Vježba 5"
   ]
  },
  {
   "cell_type": "markdown",
   "metadata": {
    "id": "u1pZtZ18tr--"
   },
   "source": [
    "Napravite listu prosjeka brojeva između 1.0 i 2.0. Neka je svaka lista veličine 10. Mijenjajte broj prosjeka između 100 do 10000. Prilagodite broj binova u histogramu za najbolju vizualizaciju.\n",
    "\n",
    "Koristite `matplotlib` biblioteku kao što je navedeno:\n",
    "```python\n",
    "from matplotlib import pyplot as plt\n",
    "\n",
    "plt.figure()\n",
    "plt.hist(array, bins=50)\n",
    "plt.show()\n",
    "```"
   ]
  },
  {
   "cell_type": "code",
   "execution_count": 70,
   "metadata": {},
   "outputs": [
    {
     "name": "stdout",
     "output_type": "stream",
     "text": [
      "Populations: [[2.3896826430557327, 2.565803855821334, 2.6084862891196194, 2.0743517198053762, 2.015068555544424, 2.5605560410001447, 2.7426153118454732, 2.9995635780285403, 2.699749741755255, 2.0034161021794916], [2.3108413672569874, 2.2731846549533237, 2.629336752915412, 2.8030291131456724, 2.864777218908126, 2.9756868557904523, 2.033068524914561, 2.0209646008660553, 2.391444755161677, 2.3004481812493935], [2.6383740101479574, 2.755293990050538, 2.5190329527673265, 2.25200162505561, 2.670054797161126, 2.6833406601008956, 2.7495216259533213, 2.5392458537675022, 2.99246465263037, 2.218112637975124], [2.4301531526798956, 2.490603632328235, 2.995841657719521, 2.2418133426872524, 2.1800642299413795, 2.5904179691556903, 2.397955683875651, 2.45170380537995, 2.2863233584524503, 2.471885063657637], [2.849058722673778, 2.6103752470024864, 2.797389340675929, 2.259511905561304, 2.6776964255065394, 2.016097512686276, 2.7853170780148964, 2.0373523808351393, 2.464321930811267, 2.8374393028087694], [2.0703642848926966, 2.523711635992878, 2.6892837198477095, 2.868113579759798, 2.9019197520759623, 2.2388695990372645, 2.6684574150590867, 2.9560154585881206, 2.3953276744407064, 2.6882007004679283], [2.1898211899647406, 2.083449021524862, 2.2811204079545493, 2.3651239731636546, 2.1235392552898404, 2.3312989378285023, 2.021824432377553, 2.5196553747267973, 2.6922496967513494, 2.671517106520737], [2.1847203184914052, 2.172568268980048, 2.0019030674846787, 2.5214431884213298, 2.681035167488522, 2.379842699972417, 2.94609010402667, 2.134504343537076, 2.3413738430089617, 2.8192842703527967], [2.2104522242476587, 2.714801903861636, 2.380590053093154, 2.0460988721681375, 2.931053964626028, 2.276617237407041, 2.588635219721228, 2.455213244027008, 2.0065857808735235, 2.7669160421809247], [2.4900258568818785, 2.571339612508795, 2.311653138118627, 2.7733567058883635, 2.7818999395414012, 2.6215589477298247, 2.3295075878534495, 2.54782526929137, 2.8094082683676023, 2.38764339710791], [2.1485114210120546, 2.9384187594363858, 2.10805525829749, 2.2478791977488997, 2.5494381941601905, 2.924583160113378, 2.8307888031010497, 2.784294785385547, 2.8143955255199447, 2.6402151393986157], [2.670514728075508, 2.9371414792046666, 2.1386822572975257, 2.675240464035389, 2.167617619519623, 2.7879224058313072, 2.0863014069350925, 2.1268929699273396, 2.2755604855938394, 2.5985480884393057], [2.0328020602485166, 2.428222284354338, 2.068727261905768, 2.6392552846649777, 2.155412193627324, 2.8721734772257577, 2.011890555120412, 2.5638235507251523, 2.341159606602261, 2.7332761485313624], [2.4840502445468253, 2.6613951342158213, 2.6501530708111467, 2.0944868583101655, 2.231973676619426, 2.708560641050685, 2.9417450791104565, 2.419215778583595, 2.507432996701061, 2.7337996604726604], [2.0069194525468372, 2.7701449352666203, 2.964191861581267, 2.914198254964414, 2.050527847888043, 2.3053568199683503, 2.3280340680578777, 2.687281284059676, 2.452264707756384, 2.810320195198379], [2.94136871210366, 2.4404060791858946, 2.831097750400283, 2.943305232953092, 2.829274636203012, 2.699742635286044, 2.3719424076986204, 2.3600806210714613, 2.03807557303579, 2.2843501394915853], [2.384403041747772, 2.7363595608452833, 2.7485695816801723, 2.790027505212118, 2.004695858706861, 2.8440109993389533, 2.80804178321373, 2.4291636413088344, 2.980034831634599, 2.4450366888650548], [2.9048133779469203, 2.336279398903196, 2.0000578254384958, 2.4066472325140356, 2.916149079917713, 2.607738919911527, 2.5441089357478197, 2.7519342699746634, 2.526974188851843, 2.730703389585011], [2.333953210938785, 2.464454071720315, 2.1108646424935635, 2.039513409522394, 2.5220792463546475, 2.9077207773529015, 2.882928325538833, 2.5410651209421213, 2.625317312737201, 2.02062884384837], [2.3184235654574037, 2.343692838870334, 2.9920932349221694, 2.1947891138975786, 2.2545272012334827, 2.8209201260209293, 2.23972468859058, 2.4281364430129475, 2.6819514868768124, 2.05400943753578], [2.2801879406419108, 2.986876408334432, 2.3419781863234475, 2.7881484102966985, 2.415595060423942, 2.771357194537475, 2.9346053268291943, 2.6363231103568467, 2.2079977944810847, 2.5228155501411536], [2.545766250430573, 2.0235772679824127, 2.472616378318241, 2.5179707950897057, 2.262772235178525, 2.786766404920385, 2.760952596406163, 2.5848549671556724, 2.5237506680149595, 2.3392350434506444], [2.072895365499077, 2.9061167026518557, 2.4864856532437347, 2.0219730167796808, 2.3349350901688797, 2.78186499896264, 2.2253987419627417, 2.71253945657032, 2.8775669850649335, 2.8365316584829685], [2.7606293824705115, 2.509039212280803, 2.2481878802984387, 2.450086131481062, 2.597333992062882, 2.3210774202786064, 2.246034146963856, 2.4912646094268425, 2.5201804119795868, 2.8010481560087643], [2.079617140649882, 2.0551160862980073, 2.952311538432012, 2.6802700543960456, 2.339060961373696, 2.0158793001419353, 2.2507863751036195, 2.717270964931454, 2.504230834611044, 2.8232654179777565], [2.3351403553209855, 2.4671079585593554, 2.9530923761734966, 2.0542738162504914, 2.8546162635520327, 2.650127627419069, 2.4314882122027575, 2.7241614114105337, 2.7322581741296554, 2.6989438150491054], [2.0764607176019565, 2.897328177295706, 2.5278593738425164, 2.457765415386072, 2.1298327932163073, 2.1587434566072665, 2.487245744703355, 2.430119495128953, 2.4834040564286313, 2.4420939435156637], [2.242187323371948, 2.7310262145156265, 2.9428237564508413, 2.752573619950671, 2.795576115972588, 2.652518416757823, 2.538603277651136, 2.1760039736995593, 2.9901396514651797, 2.7480480857129157], [2.546997403355431, 2.382991863342196, 2.0767283618786117, 2.102166459724291, 2.6359353373128798, 2.826126444701056, 2.2698026057791827, 2.010079294977416, 2.831143474874568, 2.172590684698077], [2.5863937034485476, 2.9489777816760183, 2.729954586549712, 2.0084411975358645, 2.1774053512467857, 2.623741216688029, 2.4257708677262295, 2.7928967707337877, 2.8234322210933245, 2.8632717442942437], [2.4290470220920155, 2.0621670072107423, 2.7503444438145896, 2.1813659712331113, 2.249197545297384, 2.9147835760030043, 2.1656634620748596, 2.25353114139228, 2.29819232973532, 2.246320900009433], [2.484135580016332, 2.7217882323571017, 2.9361841406027147, 2.5877257073209496, 2.1206668780732256, 2.5940223379844927, 2.4500118940188242, 2.9496577687251135, 2.2104718109828236, 2.283722854310686], [2.013993248228056, 2.527466882944087, 2.1078572700751623, 2.6300204823433653, 2.0407114976549114, 2.9191283184858428, 2.8286414894908765, 2.6516413438605406, 2.549792892112284, 2.3352192473023363], [2.735676212535769, 2.510212614133195, 2.6098516207081826, 2.9440100750921543, 2.5243036168105344, 2.0379574880012106, 2.084211705983157, 2.107156929429789, 2.748234250175687, 2.00862119872732], [2.1178970957152727, 2.264449837260128, 2.1457622344007428, 2.3599524527323332, 2.0460564163674198, 2.400541245045344, 2.7736811468361298, 2.275212554161188, 2.25744850503398, 2.7165625188901226], [2.7589502911089614, 2.7120140218271445, 2.224988351323489, 2.035907016662811, 2.334674218184558, 2.500094510560121, 2.4745102805058705, 2.1753842890681216, 2.2889413501648477, 2.8699872113676808], [2.1642901456675223, 2.7141923726454578, 2.5823980537481317, 2.2375972844509753, 2.772777769403186, 2.8381849074186833, 2.8912982317183147, 2.175661274694658, 2.3315649653392585, 2.202290749340036], [2.598962697780602, 2.578061329242727, 2.3405547278008307, 2.9724332122588146, 2.1652770760630236, 2.6594636330312738, 2.491197573636456, 2.031390259027451, 2.8275275003662594, 2.7097729846646734], [2.7142376195288724, 2.4341449848893824, 2.719996819196546, 2.741938806223814, 2.3907001073763654, 2.324657740777947, 2.1628172120948075, 2.711684647524243, 2.6721158317420826, 2.454443933029941], [2.043492955043507, 2.1404631016348192, 2.8415990985486843, 2.582116125080651, 2.4008035917564023, 2.388650738658336, 2.0691352700855212, 2.0459811238130623, 2.5430249646357224, 2.96435194150976], [2.93643363493383, 2.3008282822266963, 2.7628086321457923, 2.8471859701874047, 2.215166100168842, 2.752030259644944, 2.5279528503277318, 2.3108597159084674, 2.0222557077513654, 2.0973972134987937], [2.600061300994128, 2.0419768587264233, 2.3882628017000287, 2.773687595073038, 2.895523152127815, 2.8429093092897375, 2.6598467530037313, 2.9162490878730987, 2.6309845779004433, 2.693577959353271], [2.4953440049539015, 2.485324544238085, 2.702362405477485, 2.929800536257521, 2.1217719388037546, 2.5569185351803316, 2.0711381243869, 2.533364603998143, 2.10548673197933, 2.0764321025990964], [2.7799233631225206, 2.0910015887471003, 2.201540756612869, 2.5962267329898436, 2.7843558661075596, 2.735098737348484, 2.050411515863376, 2.729287249556181, 2.197832497703389, 2.764064238032653], [2.9927467293417918, 2.424628595112723, 2.5156907213530664, 2.504271194611667, 2.5958613535480546, 2.3749667124337432, 2.715678561184867, 2.450856708988098, 2.9464715461111948, 2.8649046472059605], [2.7580008506024325, 2.3211751531704947, 2.3586761183920384, 2.1012206541844543, 2.224625844736438, 2.3311673319049873, 2.0863326678582768, 2.6971461281314433, 2.0470155051821632, 2.448481093280085], [2.008921629475661, 2.9950881705121697, 2.795859473350241, 2.3620672768596123, 2.351008416837751, 2.6807580643471294, 2.8088379164999497, 2.011014808053654, 2.052921096257182, 2.702975639053178], [2.8556077674699027, 2.008564074213147, 2.1662519480662, 2.6961491994768316, 2.528879167670406, 2.0674049629160014, 2.7207042146226854, 2.173567769447914, 2.78833057582362, 2.0246831154536435], [2.7650019842995004, 2.6746709600889225, 2.115869021477324, 2.3040641214392212, 2.04707353631785, 2.9156574508130406, 2.14742502069969, 2.54939078716171, 2.690876153919877, 2.8816520777738854], [2.985634537822729, 2.582284260513369, 2.721385881332153, 2.188025828372954, 2.8514119170791465, 2.5972692802430015, 2.4272256101505554, 2.5603579555419618, 2.5609492897106714, 2.757875236928919], [2.1004840992465423, 2.160023146240401, 2.5830005686784587, 2.961473488130413, 2.449366656625351, 2.5939181729016942, 2.199354104908791, 2.358974429652817, 2.7530328398078794, 2.965784339001761], [2.841021762700203, 2.1508302667656967, 2.5648923678402715, 2.05760674448627, 2.2859126722362264, 2.370190530529535, 2.8520113449034565, 2.2542563814228105, 2.449836346003984, 2.928302676433839], [2.246116167770218, 2.9192278568328707, 2.031211065003946, 2.3211661710443505, 2.3302148754787666, 2.432549043405917, 2.247364844841517, 2.838741260383571, 2.4539478736995983, 2.8102305295367103], [2.686279260973439, 2.424068657627145, 2.246746510045922, 2.0932072184418056, 2.604508498135774, 2.059715503153641, 2.7595587007153766, 2.1363395774918743, 2.0402499002714207, 2.489683095592436], [2.0393412129428126, 2.5924068071910646, 2.6594855496796193, 2.5136528528503828, 2.635182035199557, 2.743484341940505, 2.5529511444423427, 2.736169081625468, 2.2428468630933787, 2.5787831093769453], [2.433547892661272, 2.4276780775635327, 2.122123895176626, 2.865819895421865, 2.377967609228749, 2.042765390887147, 2.511951371216795, 2.108333462082913, 2.927248016287363, 2.183075244234306], [2.096913819170957, 2.9639697071982503, 2.1210036733838975, 2.052151728635801, 2.0459880828062884, 2.0107512811636568, 2.9752128829970887, 2.134084781230898, 2.200041624509273, 2.764070910007356], [2.969871784307033, 2.510719467096572, 2.262013544136102, 2.220545897616587, 2.783538444009319, 2.6647889985435813, 2.518903177004698, 2.1566668910339355, 2.297755215698547, 2.295579098931601], [2.2805697563656873, 2.949953474711376, 2.39771829786374, 2.795316465772432, 2.4822207417707647, 2.34986500026582, 2.2510308623996296, 2.2721667027176435, 2.092767178787465, 2.4161564206508803], [2.5522054821002964, 2.6761301538190496, 2.08524598684994, 2.0092164557539975, 2.7566602330051824, 2.7390403754833414, 2.941020595614742, 2.72870529645383, 2.9647048296194254, 2.53014161190659], [2.473581733242179, 2.192018059028248, 2.988101541811453, 2.8691893497370002, 2.017263081238944, 2.6834693081820715, 2.637778849710314, 2.1847682255683702, 2.415251164286465, 2.0079648508639463], [2.7917447003101543, 2.521627056167543, 2.7527874724071113, 2.5131290904089645, 2.910955860334269, 2.2526884011602037, 2.2046975714900965, 2.358552763000976, 2.415068098359208, 2.7349249640360647], [2.3487903233258987, 2.0822751092087324, 2.214040691609453, 2.622961513290532, 2.2771892298723415, 2.833493800480325, 2.4008568132373833, 2.5778039127855497, 2.4573857305268736, 2.7378038633081747], [2.4025282705322644, 2.068531383584479, 2.7210233501136987, 2.6959710959408625, 2.4591755483876656, 2.5079870413266896, 2.3686829801038236, 2.9275681513309877, 2.678241603081405, 2.923607745086841], [2.563271521257224, 2.3176696183127095, 2.8031795537106756, 2.050675107558517, 2.2265680470964733, 2.29867737600267, 2.3229018913709014, 2.3509279180320224, 2.954019504679886, 2.5493536345454233], [2.9971191239477735, 2.88403034825963, 2.298901137787275, 2.351507373882391, 2.3815825138766926, 2.5325546769615563, 2.8500476929488414, 2.973188425135117, 2.26126606131669, 2.7740414154228006], [2.46096893173677, 2.2433498460592025, 2.7240202168414194, 2.77425126854572, 2.358849956262671, 2.206142700232563, 2.9694121130964675, 2.317385898236571, 2.506977015696201, 2.0279786407173166], [2.7084851395789977, 2.0236062526740963, 2.2555856703457544, 2.702612692161733, 2.1731946000309907, 2.740724040706892, 2.7084697061943275, 2.0158988782130227, 2.580110198351547, 2.611016490367907], [2.3951991039108025, 2.1896825099278177, 2.0817886506556853, 2.2607518124795263, 2.8507620731279335, 2.2016123882974403, 2.5545949510853396, 2.2342016204177475, 2.3625635241815566, 2.2588324134653806], [2.407160270711887, 2.852093295719767, 2.8616045623574933, 2.0720298535836346, 2.7017934796606573, 2.5912469090081034, 2.90364738145004, 2.5123152177843218, 2.162053603868883, 2.8262886695652085], [2.4565512252337576, 2.1688616986763964, 2.446988758264296, 2.3995779382494353, 2.376486817404602, 2.1409336058695447, 2.735580817337696, 2.335646921668543, 2.828150313091087, 2.98551702651318], [2.786231429281778, 2.904755615448695, 2.1676799779814666, 2.405367429184327, 2.4667770643453184, 2.9221177069485735, 2.917141507928554, 2.1204619765485084, 2.119215804241548, 2.3817672313245524], [2.6618892648076242, 2.97935017834139, 2.045883056386245, 2.4121250446213907, 2.9437615721199637, 2.627978722923796, 2.410815808219015, 2.8761305652734643, 2.3726939139792735, 2.1173454168197443], [2.2200316000238853, 2.6648761123406484, 2.276884335809699, 2.794007329107694, 2.3760089822089974, 2.1080214148586194, 2.3041031787281754, 2.03771783913368, 2.4708987826510165, 2.791594266448409], [2.505797481186157, 2.0930141567184886, 2.1597106097844136, 2.9197733946507416, 2.6673033858863207, 2.499831205152814, 2.7667911002250642, 2.5817084874577363, 2.0463494400441657, 2.5572869085859162], [2.3899316411433507, 2.5718469400940043, 2.062162844966744, 2.968766564614283, 2.029820427774453, 2.3451023246663913, 2.941369003998594, 2.6702819717083757, 2.9154535356624005, 2.326744744195932], [2.1349074273944995, 2.0621137052491822, 2.8665463005245377, 2.555679151576991, 2.6044508846240655, 2.246533860134986, 2.7388542713664323, 2.320549277708024, 2.90000692798165, 2.9381684298085666], [2.0520870924265013, 2.4501970358714047, 2.6963992427282326, 2.12803867392841, 2.210237779121564, 2.95006161186912, 2.001365878922312, 2.3796373290881427, 2.6123342208548705, 2.010248658802642], [2.0188936629083525, 2.29574474094257, 2.4050287449000867, 2.9235288374850534, 2.7329608427272643, 2.7845634719856225, 2.3364998068536424, 2.1085351207152243, 2.058904199042183, 2.614197989676841], [2.8637821215176205, 2.6890984341266715, 2.897420105385975, 2.7173300939892977, 2.717152998162501, 2.139032012319265, 2.003484570220286, 2.50643854047341, 2.1032655663599016, 2.6075752196998456], [2.585074598036132, 2.3534991225441693, 2.0167983588254463, 2.431279610359293, 2.1922010229125606, 2.7774351510183277, 2.971203451848228, 2.7862878384389247, 2.2346955054362727, 2.0395314445626562], [2.0825608664453323, 2.513444591888014, 2.4710762007978015, 2.923804047848182, 2.9984449583089052, 2.9609539958316367, 2.1126605051552376, 2.1688463215715674, 2.5010407995517276, 2.024942042382511], [2.8455230099035957, 2.439206397836869, 2.986654981548402, 2.8361653960723068, 2.636326442300834, 2.3885839718342305, 2.6635935657534606, 2.154070560539717, 2.3311450041502115, 2.1532031418395556], [2.023972141866543, 2.3472951343282804, 2.4168277059019236, 2.9812799913998607, 2.643059059220688, 2.5065701366925044, 2.9611235855324667, 2.0538353827243077, 2.69684046627766, 2.809208222640091], [2.118703155880083, 2.904343560698877, 2.579972670993191, 2.38920625780265, 2.6500578700076005, 2.1530291199258937, 2.139116315981252, 2.8176336410425367, 2.103820654872065, 2.0441726505289317], [2.8412667942503673, 2.7351520789001333, 2.461209089977316, 2.7857603730206355, 2.0970704676614433, 2.0826779098533152, 2.124808077936566, 2.903874144859633, 2.482297071002425, 2.438321142913486], [2.166160509840035, 2.368025517783584, 2.7667387704515614, 2.6865281807347263, 2.167312373196001, 2.1843902950059735, 2.7620103486905614, 2.5087312381794153, 2.337732372834215, 2.357326017948721], [2.176328196917573, 2.5188319022035714, 2.609203867217951, 2.015636791102928, 2.4933265985539683, 2.888846954375783, 2.315264715610245, 2.2699370718992284, 2.4462330554022227, 2.8423383919669023], [2.955989638198334, 2.4210958838639365, 2.545633528712009, 2.81798244166717, 2.3335166960698484, 2.6515929733666956, 2.3884492534118604, 2.354990298319664, 2.6928762162046156, 2.709910186112735], [2.393230392221456, 2.5392950130876017, 2.187191886459657, 2.765316213363078, 2.167692152120489, 2.374725289946488, 2.678640077202111, 2.669142001721183, 2.3273971469692847, 2.715030854621604], [2.7908670340154345, 2.416741933632185, 2.994397272869893, 2.7316597295844254, 2.0555616934998615, 2.0526753262425195, 2.9332381700325443, 2.020984505403297, 2.8751890902761175, 2.186147776425855], [2.5024902405221057, 2.054300123717133, 2.8204236382909986, 2.983354097094773, 2.9986346506292794, 2.609943837484579, 2.824789350906812, 2.6139807696554316, 2.0563050818645734, 2.7064299183647096], [2.3382774591816284, 2.5370168569420133, 2.740810221292249, 2.2716193140226837, 2.832726708148531, 2.7196847651948475, 2.908400753704751, 2.5562467313495207, 2.771318513464323, 2.4403912958927227], [2.99050630821317, 2.884014971155151, 2.041908935265754, 2.268210760057979, 2.449469610970932, 2.6661993999902673, 2.3953350899098407, 2.1947878899924502, 2.722822991658281, 2.3927378797493666], [2.6375267500858364, 2.8637396724391073, 2.5712112695334213, 2.8042907788947935, 2.7550158014728945, 2.1263435394517343, 2.1547881249805076, 2.661916452917064, 2.453497170260431, 2.1881106342763976], [2.578651637469828, 2.914727119296572, 2.9631084756643657, 2.7894252889183724, 2.6825694426801716, 2.5820235653821504, 2.9167902122704463, 2.1559731416305183, 2.738685487590187, 2.4532971169300692], [2.319290533310788, 2.2708015511510657, 2.111453511772549, 2.656627182706563, 2.531382398382962, 2.8752376595294056, 2.776200137620382, 2.2827736958215015, 2.1021301821051366, 2.4063325410145096], [2.5316245742064876, 2.4498141306777415, 2.169548570251371, 2.0709149164569336, 2.965602662711856, 2.350318456272183, 2.049410006263426, 2.832025948498146, 2.0614694517827576, 2.980228418399218], [2.3200544859315824, 2.504524017323618, 2.9401246884082, 2.8242224275515184, 2.5121821007705605, 2.996084762724438, 2.748773758299784, 2.832177317372191, 2.2553706357684598, 2.780161110229924], [2.621875012438001, 2.2977133268119867, 2.356111055120209, 2.5318825987534037, 2.2864783746260953, 2.6470969156836417, 2.4170829833128558, 2.614456281674692, 2.932729058738902, 2.4682584401776144], [2.3364361395666386, 2.250775258607383, 2.2672600855625635, 2.8888569800358694, 2.7786338928914636, 2.0330456051615835, 2.8238103059923154, 2.9053916388552934, 2.6697147251708073, 2.4927786549742885], [2.753597803130501, 2.6677281059366362, 2.9355762910501717, 2.0428970252291148, 2.88536113228704, 2.8321682899074485, 2.8932452402414213, 2.6834614567811403, 2.6917795659836727, 2.2868020493972603], [2.0640388497665616, 2.5963728867502045, 2.494419072924665, 2.499074842373348, 2.283684927914129, 2.7286983782354484, 2.3128735590647755, 2.1526350469432805, 2.003557649547168, 2.4716574035825376], [2.9303904131997887, 2.5696232183250394, 2.3485795858027245, 2.6391447459437236, 2.7177484116766193, 2.1989992137922707, 2.5304083966707966, 2.877197687765115, 2.1172833525185695, 2.901854166416669], [2.1105118447170272, 2.205890000771711, 2.8811050404853913, 2.73637435260477, 2.9357295236949392, 2.006139610490985, 2.229062535566526, 2.013374417784342, 2.9217130836822083, 2.3336992551759073], [2.2298267359773165, 2.564515387543511, 2.8532428444175335, 2.7261937641212404, 2.700637116030157, 2.682621300472575, 2.014912829014417, 2.107818108185528, 2.8503638051466718, 2.8481047393616934], [2.1546389658300207, 2.973629158882381, 2.0345321762360906, 2.357615554424404, 2.5516910171447056, 2.3198821850923568, 2.6946588288427256, 2.14237004569278, 2.37331890674953, 2.1830714692563573], [2.6467924419170696, 2.32665477099002, 2.4296220574027574, 2.5993387278040987, 2.1594199662111935, 2.716980286122874, 2.671934745361557, 2.9270102157334503, 2.026032088862884, 2.107500224327631], [2.1736851715615844, 2.878068937525463, 2.6632077077946996, 2.9206960276545733, 2.3458477224122913, 2.9474637234636525, 2.3431823762938615, 2.5322710641344086, 2.6878744654831124, 2.174599235621717], [2.4553616515653345, 2.9980438823412583, 2.9347810778469383, 2.7398839059713636, 2.9870067969068366, 2.197458851066729, 2.600179720555916, 2.7823448251626957, 2.8293744419374107, 2.0165173270515657], [2.7576714180495507, 2.677952891367257, 2.1003749931252713, 2.2107678168631404, 2.4134872388182904, 2.279188712947298, 2.0064708812242635, 2.917058988516483, 2.698797664617341, 2.4841939754790943], [2.3916555768392804, 2.2626881418560174, 2.217179606485958, 2.309045133697992, 2.171582787420652, 2.053780294414172, 2.620078545063842, 2.307006704721611, 2.468908372035604, 2.124331254969151], [2.1369104306791593, 2.7853763674873138, 2.320161985941905, 2.071517393040457, 2.0756916496696154, 2.182368674915293, 2.911744918009646, 2.5217850243245357, 2.155259410102257, 2.616324119160047], [2.8305382222401407, 2.6456953713188427, 2.2519112314552254, 2.6744717346401465, 2.415852952970483, 2.461986214229428, 2.812971002669893, 2.2875921190167348, 2.171442041749013, 2.7047130744322945], [2.4695093323791153, 2.3375691079610657, 2.309489004278928, 2.3910339993562277, 2.420235177666509, 2.6445264235846, 2.253240540885871, 2.2862882894676755, 2.2689471469764557, 2.416940033314006], [2.641174360984546, 2.3009967511481397, 2.4528378113819507, 2.8176133946192747, 2.2066223655660684, 2.2878516948924417, 2.555745859488544, 2.2825888014702183, 2.1363301456289463, 2.6330335602550243], [2.9436079127999877, 2.079071481860378, 2.1915484304863444, 2.214308069695137, 2.007757602203289, 2.931423144543025, 2.1190380743254225, 2.3354849073032478, 2.8702608947995105, 2.404282218913133], [2.9208093323732083, 2.423942952210591, 2.2538313263991325, 2.347229135191384, 2.6562096241124458, 2.1277785410807173, 2.5777157917620594, 2.55567600586106, 2.810557281502574, 2.7150656530598396], [2.643680474144291, 2.3407122403876537, 2.055997246747367, 2.4305935251500506, 2.538086251567648, 2.6829744939081386, 2.0694338758292528, 2.2906673144271967, 2.2137821142639726, 2.076320853854548], [2.211372662718419, 2.222586909722691, 2.470526071865454, 2.392670353744326, 2.4423171936256853, 2.4022206691230936, 2.2225467506745424, 2.1190576244868655, 2.340174978309217, 2.486898535610706], [2.869858212145677, 2.267558220429021, 2.4529030294481684, 2.570290498086915, 2.5786765711975774, 2.334850920458309, 2.025024144147773, 2.6079346500230196, 2.473971841765697, 2.1784868537822906], [2.9585196959346547, 2.5813506466006713, 2.5105921864864142, 2.5790997600806, 2.107937942414411, 2.7486529281931213, 2.000298136214818, 2.5999584722494236, 2.381622390791057, 2.40798019757279], [2.60533096494226, 2.2998714120313615, 2.5590660264574603, 2.553183282332963, 2.792943938316837, 2.701883050616584, 2.0958607031923315, 2.453239203067125, 2.0940346310971307, 2.193698580786209], [2.578103434209794, 2.6791182399066114, 2.664427735463219, 2.930921392878725, 2.2666604885765795, 2.1136268816227197, 2.230013970560587, 2.3043426850607993, 2.3155375793378994, 2.3064158119895577], [2.6490278887348135, 2.224809030794219, 2.2418956165100647, 2.3384555565603384, 2.1029781048542713, 2.829248562986057, 2.3933945131877166, 2.569887054903959, 2.742710876365696, 2.4098908901397866], [2.680225711374862, 2.5726694783687343, 2.8691337045382745, 2.1790184719238224, 2.795455770663074, 2.1626702838148395, 2.803308799775876, 2.1955339531803704, 2.7202882591824986, 2.971967894596741], [2.1752182895920478, 2.1296348017947206, 2.5418566258057016, 2.5521035597380983, 2.2025966565922532, 2.386154785149851, 2.493710805783091, 2.556891008271799, 2.0426210333043233, 2.8173278527600236], [2.251899699171167, 2.1062681357129547, 2.4535141861832304, 2.6387289884355907, 2.957360491151747, 2.6189096988013363, 2.2017747099780838, 2.1633282531791114, 2.3771568488801718, 2.658354537168654], [2.9290272361715584, 2.364853997925014, 2.945796577993807, 2.7182636584182207, 2.3363362368128002, 2.3703391667058504, 2.1457074539122347, 2.6012412291946747, 2.0003289422524206, 2.7843467575882803], [2.867784198073246, 2.6107296562514226, 2.1071886429306597, 2.3882998306621896, 2.8388584604004294, 2.6067923178088064, 2.344880208603394, 2.772143332004591, 2.15851095536631, 2.18479003760472], [2.0916804095962305, 2.032375094765915, 2.6052278890207496, 2.508431978589071, 2.56324857877186, 2.7102032974582517, 2.2486324201795767, 2.9857739586592467, 2.193846606827754, 2.8564988379519933], [2.426462326357653, 2.7748785912481195, 2.8873717850931317, 2.026580214401199, 2.590668779888808, 2.9884001171773353, 2.268286011076943, 2.598053957683444, 2.7003019831332526, 2.790489225701111], [2.518994354827099, 2.116025255697944, 2.733156938668305, 2.4334590835813583, 2.1576425557422265, 2.9301081668953195, 2.6750584908168817, 2.3854062742270408, 2.933934071127686, 2.816375776305551], [2.3338624514361417, 2.1885107003419075, 2.9605964878427846, 2.172241662191605, 2.861650725805512, 2.9018536397984946, 2.794156637566807, 2.0139727790724398, 2.977402886363071, 2.5142642012118133], [2.9065904396620867, 2.8919458485579375, 2.3031358586797377, 2.3963308488324238, 2.3319180132749096, 2.324573722391113, 2.850265691656997, 2.665561426881049, 2.9167583586542856, 2.963105679745757], [2.8584683931052175, 2.6174966949789167, 2.12934846690609, 2.6018707035263775, 2.608157694266833, 2.9888887970071965, 2.9194434935283686, 2.3661808144209386, 2.9669540613449157, 2.129263908608717], [2.1893715290155913, 2.7198687428588473, 2.7032988444628225, 2.050374140965343, 2.0787661428256383, 2.7622222404975068, 2.6017997253886525, 2.805678465666233, 2.4782618290066, 2.867561391384736], [2.3111603852412266, 2.6106567950511184, 2.3851219545251467, 2.310529865254471, 2.992206211774114, 2.4003497509131715, 2.783931167576775, 2.541982122418477, 2.876321522232866, 2.045537158769651], [2.8735756698304717, 2.194285551947775, 2.8941946317026943, 2.9213723020552465, 2.670683778953591, 2.688534316644791, 2.579599146344254, 2.7600946957880867, 2.786129426488168, 2.136034361971898], [2.242782766105349, 2.307073151618647, 2.7262320949720866, 2.9085970936062733, 2.855636168524656, 2.127521807312097, 2.2139329722439496, 2.359002650819083, 2.5502807456634957, 2.6144189781024014], [2.5206997278393652, 2.2132912485261076, 2.157764336185193, 2.2972081871287946, 2.9761197713661693, 2.0984949177786607, 2.84833557238034, 2.4665764784250266, 2.0770225429396776, 2.0673859330134645], [2.40188277246051, 2.0417426923901028, 2.00114842545033, 2.424724634520831, 2.9576181987084813, 2.772648485768846, 2.367773486171692, 2.8884159461358268, 2.977702699579387, 2.443061024879533], [2.3205017250705393, 2.7089028392819468, 2.579837844429693, 2.5147970667988124, 2.5797633079694178, 2.1099559961898215, 2.2380593863679668, 2.834226172722735, 2.3361980267116182, 2.4135327620142677], [2.6332224868549163, 2.7413929123615346, 2.4332563944981938, 2.711574162526501, 2.168654788793645, 2.51701461074422, 2.1779522603705517, 2.8426837612994356, 2.6392430327821126, 2.40871537416737], [2.5849738184112114, 2.921454584454784, 2.754821841014141, 2.7772210785263702, 2.3132917584295933, 2.5060915652288904, 2.744616471923199, 2.484948446340403, 2.7263982341245927, 2.3096778828614912], [2.780672764010818, 2.593360386862434, 2.895932845165321, 2.224639952305103, 2.6654946460048707, 2.3609946997054303, 2.4779340336965605, 2.6020456784910913, 2.496435421225846, 2.3206911996942705], [2.866596239248277, 2.6522438303170395, 2.3671324574299892, 2.2990399401794837, 2.8021173789772895, 2.1494751162220833, 2.89683148658236, 2.0572795408122815, 2.5437369091133313, 2.2948956809418646], [2.5340559041769875, 2.683869159932242, 2.612247752907882, 2.931163663829179, 2.9092164767821926, 2.01727039311213, 2.952591435685652, 2.6147838645905197, 2.4475834678073047, 2.869427860623429], [2.099799464741956, 2.6525281353926657, 2.8833900318900363, 2.674594351023119, 2.1605710918727277, 2.486081107975597, 2.92972779382194, 2.9689761609832117, 2.340770480653844, 2.6667987128699493], [2.131493720941812, 2.321264699339147, 2.381788973771287, 2.417464000498355, 2.2135283907454633, 2.0939577362608452, 2.538327694643385, 2.5487468501095556, 2.6650903498766287, 2.9651323952178], [2.099425433807912, 2.725853379975896, 2.5487802243474857, 2.7892805690465092, 2.1047981943576755, 2.825718795146482, 2.570159792940812, 2.6510800730004918, 2.8946819294239763, 2.7240441313496797], [2.297743384919063, 2.0639950169036467, 2.326377600236621, 2.3997441350345956, 2.244675001373462, 2.326403794673757, 2.4490617374299455, 2.726953733021926, 2.80986645900976, 2.985878379627033], [2.8777136418469142, 2.133092100668896, 2.9924010144075375, 2.8870266665778193, 2.6110242777331534, 2.58537106010185, 2.416472464351732, 2.6332203108894534, 2.875378327097325, 2.31679907279353], [2.8913281253241925, 2.323856225852545, 2.9703659050893925, 2.0179254742063186, 2.5684551791479, 2.5067880369045805, 2.6034699120934084, 2.246902614703932, 2.590777004856246, 2.0550266380116033], [2.0093936691744423, 2.71323478149107, 2.894717059522252, 2.8520098998017795, 2.9714795117224293, 2.471232594837868, 2.077789697465557, 2.824954590038619, 2.6134747722699023, 2.850625960716209], [2.979467266804141, 2.5485873398615446, 2.7591370813412825, 2.391913507224051, 2.9428202282648632, 2.554526983759151, 2.277323390593845, 2.8340104216172883, 2.535218118921628, 2.0784782315259553], [2.7805191753403675, 2.6583750299304967, 2.8927869707728995, 2.1284689547105513, 2.3003755359943154, 2.2992758575216787, 2.3884002042608987, 2.421318063458538, 2.9368219915702447, 2.4176119201047075], [2.582146285525202, 2.9895084760986235, 2.910142970429022, 2.1236542125134954, 2.0933336108017495, 2.3230532977357394, 2.5330075619669277, 2.6140436428284834, 2.395056900991287, 2.6470945896090767], [2.9101571979851157, 2.873117846689847, 2.092303422703601, 2.913089446753904, 2.300579247133876, 2.197946800235888, 2.651954380217359, 2.163148274095896, 2.641834052337062, 2.004585878332227], [2.4239228995534523, 2.103432849592084, 2.3197940623648408, 2.6715006224927884, 2.4460426343194577, 2.590416636374111, 2.6242726323417798, 2.240177754908184, 2.269061574525056, 2.8731523381607667], [2.664488965569635, 2.907771092962732, 2.1790437223675188, 2.9371404725912615, 2.6925926500500412, 2.478334785210957, 2.8144517982177844, 2.947211993601924, 2.8505686538135526, 2.263986728863775], [2.2114300943911513, 2.2516587145886184, 2.081234619704597, 2.6534958254269085, 2.390946334005125, 2.073958422421022, 2.5658738947339357, 2.584736549647211, 2.8295694610819506, 2.0341377374869625], [2.193923595975094, 2.4648899166719302, 2.904563980346306, 2.052089406124848, 2.0813125813702955, 2.628515981947593, 2.8583692133731615, 2.9023689845968557, 2.8550839635580614, 2.905140035049808], [2.1893607125501022, 2.5088918755012286, 2.071180211886603, 2.164113158877515, 2.3650520083243327, 2.551165951872818, 2.9684727145690943, 2.7926435267629413, 2.3327917542368524, 2.0342442873881197], [2.2695169411774216, 2.0429972542473624, 2.533964399103689, 2.619708575274282, 2.9679986846551785, 2.962927439960141, 2.1646297505915033, 2.217382224516177, 2.0777695579429407, 2.0317603193792655], [2.00480417118, 2.278407412051298, 2.354804189740759, 2.2852701237001583, 2.8852760370239086, 2.9741941839242894, 2.8517162718891638, 2.3519694436514444, 2.99404537728149, 2.1469614567089597], [2.327970072083714, 2.2936315927825857, 2.4305665916020125, 2.826168260581942, 2.697763223585542, 2.1942674310143007, 2.6072906176565076, 2.5921012482399277, 2.6435425381789766, 2.103897305388894], [2.093936353840011, 2.8011218079143445, 2.4076441260236665, 2.38173953435749, 2.2329258709393076, 2.8249505263362114, 2.8307852479394295, 2.6135260583198505, 2.9107613892647435, 2.5653536930403016], [2.285684674096803, 2.7712063293875087, 2.9292986524227285, 2.714210909565606, 2.256300760376628, 2.022666021467706, 2.649846077690441, 2.657499958862253, 2.714790441200365, 2.0051598274112865], [2.310908571117798, 2.276940286088687, 2.031011729112433, 2.4862834844106616, 2.2016284135203152, 2.3284511164607586, 2.835642729795734, 2.6177913713227965, 2.127295065038824, 2.2024044148213147], [2.7817124281176393, 2.529234211231142, 2.246548178298081, 2.6800377749047843, 2.265210947210244, 2.026938448942507, 2.2910661289961483, 2.5106397897849173, 2.2104389847903434, 2.553011720709337], [2.880918145073239, 2.5896751493963146, 2.2075407893770747, 2.7982643221251173, 2.402355529410833, 2.572763684330254, 2.6513261038672784, 2.6326707320102853, 2.682425567054178, 2.244646564528648], [2.3748366861474772, 2.534116002571693, 2.1119588453520146, 2.475098961100047, 2.6395564630648, 2.0766164361215207, 2.3351080339225447, 2.188258515532294, 2.395577998305869, 2.281722085700962], [2.3370890354987455, 2.425816806747923, 2.036245483233917, 2.370963895357283, 2.543736928667779, 2.3236801772720277, 2.7996150064282417, 2.677885652814055, 2.179513684762693, 2.889827757353054], [2.927824775954033, 2.7893974089234086, 2.158968592359574, 2.8705939075318483, 2.7425785752368137, 2.160924714271356, 2.128838367283015, 2.6051658169118377, 2.9734388796770075, 2.9700612771643335], [2.6865475775061336, 2.678689051358446, 2.202130822061481, 2.6570400764805164, 2.2494296270980136, 2.3188231012451768, 2.0951213956577823, 2.0617434843848517, 2.616926878386364, 2.8532688797803933], [2.5051663206833465, 2.7266524569495676, 2.1251051102583043, 2.884158236668732, 2.16207019394174, 2.9272698501431695, 2.8250268764714783, 2.325457353639147, 2.0443243025789597, 2.147542709248287], [2.997831132230255, 2.7850003430893358, 2.27054011038784, 2.7246122438572846, 2.6755278419356694, 2.283093747297808, 2.5347024904180833, 2.87790838704392, 2.2612825926890388, 2.1674864715663524], [2.988932125087878, 2.885974990971215, 2.021302095333173, 2.7948533945640817, 2.715422990822278, 2.1682342456759924, 2.2259065722077755, 2.542591480922799, 2.391251806297628, 2.1179365569481687], [2.046310474915171, 2.666040264709522, 2.991938800356145, 2.449484470407236, 2.8828053356602616, 2.0924016739606652, 2.8918873656994446, 2.4641869216435586, 2.3662804222734346, 2.5619271339442062], [2.133761719114051, 2.9546724369937762, 2.371558447935353, 2.8023907144436104, 2.9575480026881635, 2.0142794529410035, 2.913718420503217, 2.1531207781745536, 2.129445978041148, 2.9799085357927915], [2.1084032756937834, 2.9873232939544216, 2.2065597112875905, 2.4106590289104126, 2.7070415840568285, 2.8407197497653334, 2.4509562123259947, 2.4067121465455052, 2.229125054526435, 2.0107981129647974], [2.4814526509150925, 2.7775503103008545, 2.580972026687286, 2.453857176905871, 2.509385406845607, 2.533443789515648, 2.150675907158253, 2.7783533122948665, 2.4388838868939304, 2.490046001463114], [2.071105373594568, 2.38990700756551, 2.702617855311272, 2.992101175737362, 2.571700787942689, 2.0865619826006507, 2.0251555093128735, 2.1135509783922544, 2.8348447991648116, 2.604314028640867], [2.8109123683035024, 2.982783168845698, 2.1206615709782444, 2.585303341104092, 2.6321603798015882, 2.288595244057449, 2.6397355368333315, 2.8224348432481134, 2.4372017794157297, 2.964199424265877], [2.481451549947667, 2.183263071672183, 2.824003496969192, 2.3883911754761726, 2.258734256696301, 2.673147747013579, 2.8190747812913965, 2.754764470721702, 2.5810641984962674, 2.323971715985009], [2.2655756309375357, 2.294885403963255, 2.6600906533476225, 2.403652799834509, 2.570517191887077, 2.9114700723297706, 2.8406528057456777, 2.3033127560391486, 2.2136333265695125, 2.6811533614945002], [2.9723798086431095, 2.592278318269386, 2.2576546588219024, 2.1233014123091007, 2.8049465213233753, 2.98071882291341, 2.8286413197750724, 2.431380492442856, 2.7166699903325897, 2.324781059373164], [2.163044790132644, 2.9515167019725252, 2.887324313609186, 2.683838524042, 2.038177793711711, 2.390636335414597, 2.0042565549265503, 2.3281373819401012, 2.022020797018119, 2.01311837004551], [2.0539270376826013, 2.752068826624601, 2.249523919563745, 2.9009771332151146, 2.6884301000274706, 2.568890797913695, 2.8721516986462543, 2.7500364947690965, 2.790469861548571, 2.806852031049409], [2.3395005666463775, 2.6810561121154173, 2.6133965777516837, 2.513167297341181, 2.0388280115403203, 2.354862151209662, 2.0580701392493097, 2.645339975281329, 2.6165995776556117, 2.1591288820399805], [2.644320371520358, 2.8517715136453443, 2.9630379389768717, 2.229098548959061, 2.3078954276971766, 2.928889051327997, 2.6736248994632796, 2.923115406651344, 2.2899162037930214, 2.9951560212679147], [2.3862498004221413, 2.508866570417119, 2.7947408432356817, 2.6015113504454535, 2.851183886728158, 2.0199646819567714, 2.8673291396514102, 2.501117881702018, 2.074458151915224, 2.6410084975064785], [2.547863842841818, 2.9462031661897274, 2.1285827376813806, 2.2643045869869445, 2.1665939917948536, 2.4155145280122494, 2.755460311196558, 2.3509434254010046, 2.0530958822438556, 2.868054832141617], [2.5373851699861594, 2.780233018637895, 2.4252416128497205, 2.384049263842573, 2.1401209586639296, 2.396385955868902, 2.9299976570900546, 2.1715738355591387, 2.977236391815052, 2.300246728973396], [2.2830602229404464, 2.981730017946928, 2.683110615709958, 2.132014556583057, 2.402425982634947, 2.787789791526274, 2.197107458648772, 2.0945810398552602, 2.212431700221492, 2.8576572072277244], [2.9208932668671124, 2.041140034000711, 2.490910361474801, 2.550992936912344, 2.3694442075269673, 2.3776782990332723, 2.9452689524096325, 2.889065585636666, 2.7321961973301074, 2.2303844957364487], [2.826971915310312, 2.604630339483871, 2.5938473576498517, 2.8289802416563212, 2.70255173464884, 2.3435863208257195, 2.489590213760741, 2.878289215462871, 2.751818003952792, 2.649014252353227], [2.0669620790913315, 2.731452481950811, 2.9620824527756717, 2.9976950379901934, 2.7210633620065217, 2.3394946814216286, 2.2994560217585853, 2.3659534516114284, 2.0972353327604676, 2.738107843105248], [2.421899890839428, 2.0731952003055234, 2.260068712435686, 2.480649668138578, 2.386587665128296, 2.3249948269237275, 2.3843709334706795, 2.0214344103611346, 2.225142691805062, 2.5050941426969437], [2.5606487053475626, 2.7443929269847236, 2.8558334847405225, 2.746710963090921, 2.2799724960493406, 2.3654486930825422, 2.652451582766818, 2.414915345370554, 2.1076029219756145, 2.087248984272793], [2.8480143161092535, 2.3503707423841376, 2.211849038652117, 2.7194431938548984, 2.7509622813229715, 2.748575539943033, 2.5208452622474895, 2.447417877675257, 2.1248698743777954, 2.57032659808934], [2.2055284970886255, 2.247244078826249, 2.1062601002780608, 2.0460353486357716, 2.2677946880733537, 2.1294180518199273, 2.9706810571789815, 2.9177510299807845, 2.4629779768139857, 2.71350418018269], [2.298590399364995, 2.7789444354627917, 2.0786867110876006, 2.745460941085435, 2.3240632058055644, 2.7248907819905286, 2.521330639358082, 2.5088751839817998, 2.9101926455073173, 2.6935907125436924], [2.9320299715611826, 2.4174877046869114, 2.958708735232645, 2.7591242661041435, 2.2935924639009713, 2.4470628080926384, 2.7307544191460025, 2.6169216024627593, 2.132376667190179, 2.086061807896683], [2.886961998691094, 2.3567914892996726, 2.2880322069115704, 2.1708528037936254, 2.396437302586679, 2.501041210301926, 2.696086753143416, 2.094514105310933, 2.9829224579551634, 2.7459797696021604], [2.7164280647574275, 2.511732894251484, 2.7979603048548625, 2.4957039957658775, 2.6227816816726808, 2.9113572653069912, 2.880094821502275, 2.5394330051424587, 2.5761782864239784, 2.8066193480901984], [2.8627407800826563, 2.2953286965264095, 2.278804726099103, 2.9648767353165115, 2.2239182502055845, 2.1711780316104266, 2.2764433406957014, 2.0739339255555165, 2.1060386730283884, 2.716041614296449], [2.8771600266802277, 2.153857700528472, 2.7705200119003726, 2.659125858509278, 2.820803508433879, 2.750012712619569, 2.4683255503999266, 2.911328285114093, 2.4131050520191843, 2.2287399994841604], [2.4102705456965996, 2.351376758341355, 2.308078014897666, 2.6143218979836433, 2.436350362547512, 2.997681131807735, 2.838477662532182, 2.5603165650167536, 2.4201333931043116, 2.310457781958596], [2.148660831126273, 2.3338803236291796, 2.024095824911023, 2.047770082046971, 2.1929930498887904, 2.9748922167751406, 2.5848714086444633, 2.36156859799057, 2.508459338358196, 2.6677069511217395], [2.630842909998366, 2.706925240426393, 2.4166134694712156, 2.6176434771170998, 2.8965063393690924, 2.7316467808726754, 2.9904927118527778, 2.2505580608500844, 2.862231808598244, 2.0620218771956766], [2.187498553400573, 2.874426856151188, 2.959410212022688, 2.856474491493072, 2.7161830543628973, 2.527356077482655, 2.4694509871692056, 2.4798671799408667, 2.0536809259020696, 2.7025558239589618], [2.037082857930169, 2.6593694823443514, 2.135579087283398, 2.565614713040872, 2.5281178205049497, 2.606829615771109, 2.565887269434893, 2.715357319723477, 2.8585353649776355, 2.2924952255011], [2.9276954544780773, 2.2628427571618754, 2.3374317823209547, 2.8496799249158635, 2.027643556259258, 2.5983843376579925, 2.0671038162921875, 2.4044550145658077, 2.9310822748200844, 2.396391316093539], [2.1759181573811786, 2.5298441286638838, 2.7208278524309133, 2.9660273002640953, 2.5974134960464665, 2.3318951448773237, 2.9607708233901033, 2.4681853913729865, 2.8168131737278856, 2.441517477294254], [2.8207937415019146, 2.8930409468531106, 2.5695770330872483, 2.7184671688395414, 2.1772889348889866, 2.7945410687365806, 2.2632477267059414, 2.423047931929837, 2.6993047670222103, 2.0788076466955263], [2.452579850734734, 2.803870539653297, 2.8348255151225534, 2.678822397079482, 2.159390511308435, 2.9555406534468305, 2.0766023391078723, 2.75920846351787, 2.7489002344163547, 2.966777483295778], [2.1575058915629737, 2.651467720723563, 2.7281800723473673, 2.7152293598553334, 2.3997141944354876, 2.3866252410363105, 2.0220160598767727, 2.9964635662176042, 2.273748756672588, 2.644187151152681], [2.1914877311164256, 2.2679409747658426, 2.0612029639817613, 2.8250508569251407, 2.7981915032335625, 2.18029484883979, 2.0442548503506615, 2.0087885213102763, 2.947127870547617, 2.976237836209218], [2.350692952845111, 2.912867791478268, 2.2976324115779625, 2.768808691757756, 2.0942398368490824, 2.3245673957326964, 2.9118578692737422, 2.666286189966972, 2.493487950434557, 2.3359203935704103], [2.309422415654967, 2.0174738918485127, 2.8598148259624283, 2.8002778676624214, 2.9751313150459757, 2.303946352820068, 2.540626056210905, 2.060949229133463, 2.6927526439704472, 2.417000360642515], [2.315060944895526, 2.518407137272122, 2.297941984494151, 2.502368503302349, 2.0167247704798235, 2.724374864968323, 2.353136380255674, 2.393234014068497, 2.3628837463636496, 2.6737569797908463], [2.755382402697615, 2.282065408630657, 2.614469203704734, 2.5479778174652776, 2.168744990208937, 2.418058892640056, 2.7977200367963806, 2.636561229801954, 2.778975647468117, 2.1410168563781764], [2.81483666940045, 2.856505478540824, 2.313359836875705, 2.9644534184383526, 2.8943342925611515, 2.4526254800990603, 2.1900289949616774, 2.1133139244806722, 2.0851700475628765, 2.456180573141193], [2.168912258912407, 2.303708784159504, 2.187940387424841, 2.2019655399851077, 2.7850647873744134, 2.2036227778796764, 2.7112416591304673, 2.1067836830293705, 2.908153401896595, 2.604168031382006], [2.315956307104825, 2.206992905759881, 2.2448733708492252, 2.7778187023958, 2.991131673808453, 2.6632920604038857, 2.3432743754593153, 2.446126850345299, 2.9753611186557887, 2.125970713776774], [2.181142543805507, 2.0105327213172837, 2.2111962479368854, 2.640701971652757, 2.9737721057926545, 2.0329918545854513, 2.7445732500789775, 2.945674740930601, 2.0973525610965775, 2.1910306853851855], [2.452879180182107, 2.8670612061307006, 2.58334965877392, 2.077132282625936, 2.539855440152098, 2.4901251965701663, 2.427113853437496, 2.407871314423842, 2.270011871184338, 2.8134641218045022], [2.798048881386621, 2.2961957309283396, 2.69870647964757, 2.7633472502511545, 2.552610205549835, 2.5004259204912023, 2.5262366493094572, 2.8245171430252576, 2.571929259870302, 2.3057706428517273], [2.2023630400848244, 2.604171494560936, 2.590475138846774, 2.437390172575017, 2.1408034683206942, 2.139319363751997, 2.481678864043623, 2.5995502884981896, 2.6559115337250065, 2.247249046588157], [2.9413532685578505, 2.7891821583079883, 2.283995378864647, 2.147016354715635, 2.2684633657053936, 2.06873804969203, 2.1799874624823934, 2.484134730995081, 2.9144618820216737, 2.0551036929805218], [2.3899761588605477, 2.7242181979460374, 2.985667620595847, 2.4750139494398704, 2.2525164246499245, 2.8126349300511735, 2.15522189705932, 2.9892259736010613, 2.3087065203604147, 2.9729776034879802], [2.699777516899299, 2.8207064006202245, 2.842309425244909, 2.960052592449733, 2.2428692209700847, 2.299873559270533, 2.56932848546512, 2.0722883653116675, 2.1531261272344913, 2.369960097073631], [2.5193001759801112, 2.444667824622212, 2.8464949833947686, 2.072812460398588, 2.597909613668432, 2.010765171942266, 2.6534813765910124, 2.0058493682905283, 2.006410055119656, 2.1307169269518282], [2.359625113494592, 2.354484933980028, 2.8838070079449594, 2.7276391979944448, 2.343976187265099, 2.615617753558255, 2.7009994811111793, 2.652980403584304, 2.501249297789818, 2.9958468798285742], [2.7050370005321307, 2.664357533250948, 2.2792014058590766, 2.677640144088507, 2.714871964987836, 2.261918052435697, 2.106580833213216, 2.9883360677570163, 2.9057056963671277, 2.1414991488513424], [2.2882222001863153, 2.1043470262990245, 2.4833249357655096, 2.1259080007763846, 2.411280109829878, 2.825130787086004, 2.052685252375593, 2.027488787790593, 2.0167180605109607, 2.8545265302071257], [2.535050709790518, 2.039002276248016, 2.9089212194274214, 2.7058978449777396, 2.1915299997374813, 2.610810839511069, 2.6724190895687476, 2.477451016511133, 2.2511868367112307, 2.145204353722796], [2.8578790812344352, 2.1528238038959406, 2.4453797413908394, 2.7461766459043906, 2.4451864773238396, 2.360627158082145, 2.0657376722310623, 2.845052964668684, 2.5740144413129955, 2.1211270020733037], [2.0196993267010104, 2.1623123183137154, 2.3886782772619344, 2.959101215531069, 2.1968440535401363, 2.724936820786143, 2.109483868890561, 2.341178068116772, 2.636987160904728, 2.123465262922573], [2.504654467238577, 2.5806518895068478, 2.4312403080898695, 2.900633742446305, 2.5907878256221997, 2.259350514366785, 2.7998104188699395, 2.896793451136845, 2.318682898151797, 2.1713371798447905], [2.6358778390916764, 2.602854702515752, 2.616355482748168, 2.35955102826155, 2.246871310434967, 2.75479699807691, 2.6632338077725484, 2.2642466815756066, 2.292833688801523, 2.6237697121570394], [2.885003055701603, 2.897509246899837, 2.3350339298520035, 2.4413128881038584, 2.2639625945804367, 2.7842235384091145, 2.442113809228346, 2.4653165008488713, 2.137473404309753, 2.545504411493216], [2.07810926276549, 2.96789266622988, 2.551761102540216, 2.254967731166113, 2.54634544481494, 2.285834845155509, 2.444450128813745, 2.400405912925337, 2.1298300466256896, 2.1310546917246995], [2.1488991391124292, 2.0023835886566754, 2.685238212767914, 2.6457579738122305, 2.618742347935716, 2.6644543023611753, 2.394403729438326, 2.93728399808402, 2.935015626346201, 2.0621299961498254], [2.234544471010506, 2.9949333293840383, 2.233558219497772, 2.399596531626384, 2.0404684444280017, 2.496053819323304, 2.262087040006434, 2.092465148506482, 2.236073482598532, 2.1958529330744967], [2.2953157312865367, 2.9089446081892025, 2.387816787429679, 2.736367181934, 2.9478045565548907, 2.432996609088874, 2.5794335200238163, 2.780452604839362, 2.548525085881371, 2.96381837324938], [2.2004516366442273, 2.661055542641741, 2.290342531305169, 2.8487169014311187, 2.369480476961948, 2.2413738924485047, 2.269115560805785, 2.6338572778924156, 2.8780608333016438, 2.6796296510176814], [2.774170918537327, 2.1647159803662164, 2.7778366063659634, 2.8764317265052104, 2.7736830256927023, 2.3815003808803983, 2.2581769020625986, 2.0646391422332306, 2.4178476382864638, 2.780688329754611], [2.8905330566697067, 2.902912423742688, 2.3854753523615067, 2.7491007098149707, 2.9428948288210464, 2.126955747056023, 2.702428746871958, 2.1401807316332, 2.2552330973915184, 2.798866425627428], [2.982997792754473, 2.701204806313354, 2.4109519896268465, 2.8941102539238326, 2.17454347630167, 2.212128779392583, 2.7243914772203026, 2.0895341772475944, 2.4513440164258946, 2.1259662821100287], [2.9673633912611828, 2.1185939909348797, 2.5974047037782313, 2.0106534830344716, 2.0107730094809355, 2.2775481972067855, 2.8139215124644528, 2.2764382267330387, 2.798983658569392, 2.070502429097852], [2.289200007585054, 2.445810689419741, 2.4087145215877785, 2.764781406407225, 2.268146116152122, 2.891974129152964, 2.083536838529387, 2.617246205225904, 2.072460815608085, 2.0387117399501307], [2.9617825147378647, 2.7503525577500385, 2.5283509673864475, 2.7243588424893375, 2.368978468362976, 2.5544699902823207, 2.7426573266022873, 2.455955253720013, 2.4621838778226053, 2.7982245813903384], [2.139348616858833, 2.384418646495417, 2.1822004480133614, 2.3259425002775695, 2.5146169053425425, 2.4344956144876173, 2.6260429729185844, 2.505205656980589, 2.9765396443516208, 2.8399074097203267], [2.353292692466501, 2.877698962254402, 2.377249920576442, 2.06012322651486, 2.813984682244776, 2.6005640450366307, 2.4578243453121384, 2.6731054393493108, 2.169409805987868, 2.018864797459903], [2.2806758832617566, 2.4371526095523888, 2.6703959150539514, 2.1009841503728444, 2.2463835919570787, 2.7078544420054853, 2.086166816705576, 2.01950733246987, 2.7578700626687684, 2.905259236185828], [2.1592122371718547, 2.992158535213643, 2.9643892440483315, 2.407999944839008, 2.6775886731624237, 2.6844559302930557, 2.6046086769457615, 2.840124539918161, 2.5543587828526295, 2.181887934479384], [2.310601651294552, 2.136667323164211, 2.993391456035495, 2.291602440584505, 2.5371101983640094, 2.6827979134200852, 2.0571761021156583, 2.072783196959916, 2.1873007255752563, 2.8894500284187004], [2.808061056901991, 2.6395115977454378, 2.799689269639642, 2.4875947720891496, 2.9123410791787627, 2.3638072573461466, 2.2042509352050486, 2.7238039627359796, 2.9779013681892117, 2.394999791344968], [2.6147682515147386, 2.957133991351063, 2.7714608758439216, 2.5437139859932234, 2.2840012070624893, 2.2183028917009824, 2.321196755856522, 2.737353342757822, 2.592565917338781, 2.820251578579975], [2.4069812760626035, 2.4877709204594316, 2.0970402831004633, 2.9209892155691883, 2.5208756664184957, 2.5701713314415384, 2.3996115834776583, 2.537520332823795, 2.7629763814964985, 2.7766278270422005], [2.0847920765723513, 2.088557093376721, 2.921230689594392, 2.5953108085527763, 2.7438921175713453, 2.58353362259959, 2.58772416641774, 2.036841308824642, 2.6262571755740494, 2.9996145901099722], [2.9529157157237993, 2.3676783821197533, 2.09184974907085, 2.556111345426211, 2.6924400848704946, 2.106671945357773, 2.9794367235763555, 2.359632193467088, 2.543617804071304, 2.516647896281907], [2.9216586687276003, 2.902121196537379, 2.100540846730615, 2.1518302714716815, 2.1348933299482016, 2.951747593291361, 2.451665217295501, 2.681087406869156, 2.4641122258711663, 2.301623548632614], [2.7147406056382186, 2.4424032522237136, 2.2474468686274642, 2.294650152062049, 2.715349144774535, 2.0600324493129847, 2.9215098603875727, 2.5134694044144363, 2.05345568193829, 2.917360131497378], [2.4459329135268417, 2.472757475850982, 2.304209939772015, 2.2508410227616307, 2.244459210253007, 2.9653120837845925, 2.8120304328247117, 2.3170147052920163, 2.019327771337265, 2.2488980539312053], [2.7223074551142115, 2.408567888916898, 2.309261267446187, 2.411916354970483, 2.7779040674325493, 2.5197555641094045, 2.6189491238643927, 2.3241794494658414, 2.7423223227732247, 2.782493464502356], [2.060362781986717, 2.4182803291013264, 2.2569663099756525, 2.81676821885604, 2.2444375535383916, 2.5233654816012003, 2.388583821909674, 2.913639326216858, 2.2413783253922768, 2.1279497427363108], [2.0120770500398137, 2.4769464488596817, 2.559785322478618, 2.5148530004867684, 2.9918200749129147, 2.8904159021239613, 2.361746267565243, 2.7993757557101526, 2.3666865100281527, 2.0017387699937648], [2.444847152864913, 2.8352577406206407, 2.4797635243171934, 2.615745079365805, 2.027959957786532, 2.6279999416771034, 2.9906260821007637, 2.1107294850496667, 2.3612176833609704, 2.6574903062673205], [2.3701900561762193, 2.3872414462553464, 2.563711730922266, 2.6703134169481944, 2.0011127815873544, 2.2463773449279394, 2.708859546560909, 2.6741676538255374, 2.7892452189885684, 2.609668648070401], [2.098744765523582, 2.7607629498426505, 2.711855463151215, 2.2395146643783264, 2.6838040325868304, 2.882844090717864, 2.3681908352671206, 2.562449151024, 2.5268505314618497, 2.9992023256570053], [2.3414146881020343, 2.071204830130336, 2.5231254845110724, 2.1511450335676554, 2.474482084953592, 2.1159003301480848, 2.8827592378538958, 2.9809774289478113, 2.8780082957445066, 2.605253287798901], [2.20320967595091, 2.8474807104660984, 2.477657338723585, 2.343064667142049, 2.430900095440508, 2.8622580706795104, 2.2076366439405017, 2.802926792145963, 2.565449790446093, 2.8201569240816315], [2.110518701797859, 2.2395760686649204, 2.3202963617264194, 2.2689998672632306, 2.0297595726742017, 2.601925683179315, 2.6002174042767856, 2.7451408820108787, 2.485424397915584, 2.3500793218759126], [2.09461529812382, 2.088712434156539, 2.3260720764636877, 2.151268472213042, 2.008271625962449, 2.7721863870875914, 2.1502293015996616, 2.9537004855716535, 2.0575422898876274, 2.7314383952453247], [2.9066143552910253, 2.8106507259292473, 2.1734743161614865, 2.7174212611157067, 2.9119552736639456, 2.278984096053056, 2.553903817853832, 2.042484761909139, 2.6113851534496124, 2.341566098997084], [2.681059905289483, 2.5688040556888034, 2.319917144172453, 2.4740047572638932, 2.7072177618005067, 2.9983496795964264, 2.48415454648821, 2.046370962520525, 2.163855379208525, 2.8006190230049546], [2.3164265354211784, 2.6385599614096336, 2.6503920411975876, 2.0513896427484855, 2.9183077262939903, 2.9662106426808963, 2.73037435389714, 2.615184280188353, 2.787219268199837, 2.9725545060550544], [2.1733610776306835, 2.0971045178804046, 2.2786167966280133, 2.76434285579665, 2.4243529667094115, 2.0306842112114687, 2.127468190203357, 2.2158135852661425, 2.740603830013708, 2.81638587354869], [2.3640035732296245, 2.0408902035356933, 2.1604134443648446, 2.2955367811124123, 2.3127682739154896, 2.813109385955794, 2.387102931195982, 2.214365141216085, 2.5144691391510348, 2.8158695254496857], [2.4663073966261138, 2.1101700983627083, 2.277288194252993, 2.9580110277070926, 2.0936139430686938, 2.1229996677383385, 2.2039745400148325, 2.6025111106406724, 2.8276934210891884, 2.1135116656878234], [2.09715515073624, 2.2202377794691603, 2.5144337713159457, 2.3526917104615994, 2.325131307969073, 2.5286451944555655, 2.1681614963196854, 2.1288524429682685, 2.2098692421473762, 2.8774966986283577], [2.0195731357269713, 2.0141426062847003, 2.1462182344399503, 2.9227469173697886, 2.011287849513283, 2.3537278159970856, 2.6331840809511746, 2.5584290027366396, 2.939901911698373, 2.8573855133910397], [2.491634624211514, 2.474691622076475, 2.273220003920349, 2.526123263561276, 2.231468870739212, 2.4452297470850124, 2.7158465645052456, 2.780789859277351, 2.017291197257202, 2.8063954193806806], [2.349948276823743, 2.0748340123019173, 2.819953033205822, 2.9967142332099, 2.609303814621775, 2.8331481876143174, 2.0266672438376356, 2.7322814052122, 2.3912692883058595, 2.337401472136184], [2.059295799386758, 2.0228191121050347, 2.732292494146421, 2.367570915995357, 2.0063372709836154, 2.902918448498601, 2.2623896383779556, 2.1092783559641184, 2.963688364111411, 2.103860173550632], [2.4585947338473293, 2.7684179582315864, 2.6768076739634985, 2.0453948237463244, 2.3722125198778468, 2.9792675664547392, 2.7407696288155248, 2.4646627245395125, 2.02284889038765, 2.4620846474128593], [2.4094616154709074, 2.1571905491924737, 2.1756865481601175, 2.193552786342855, 2.9290918327153284, 2.5411340470563566, 2.611217876233946, 2.183707896630304, 2.350118284442457, 2.7470595443002574], [2.1705593478500558, 2.91550041570136, 2.8471063100300835, 2.4965729996021655, 2.817783377648471, 2.0961558916105902, 2.312643125975287, 2.5559869508463873, 2.6073785171378523, 2.054535079442066], [2.357055061071223, 2.2798784234650573, 2.4087531368917503, 2.1416546789610673, 2.398296680183795, 2.6568425744665056, 2.594467752756923, 2.0787752839073548, 2.602722722287254, 2.6915638580332604], [2.7788953579577207, 2.8185694512095814, 2.3704532615704146, 2.5174934395065245, 2.372745279143213, 2.957209012896772, 2.7145827735979178, 2.7275113155641466, 2.6340727891337616, 2.575586015995291], [2.905971392228534, 2.602658889464717, 2.4208673036212147, 2.409229361667482, 2.2098392088546572, 2.998288922620219, 2.5907087242544713, 2.218809909063289, 2.2521652042111033, 2.449080840507335], [2.0436319266139664, 2.409137548175135, 2.9506823253985788, 2.5884458770203, 2.0449039133360003, 2.0770186614984176, 2.4428264535072888, 2.3184544255439423, 2.1553466712165794, 2.0307447710747004], [2.225483542653503, 2.512295812439574, 2.0640574143759225, 2.4150732285823358, 2.73730915761121, 2.2364460797031667, 2.047869148359812, 2.683412653757604, 2.3324868788505757, 2.196060459180755], [2.8034024209893404, 2.1215534324071688, 2.4316036436832884, 2.7477001915703485, 2.2629969643327152, 2.5766358465997286, 2.4880356837643207, 2.7331774536060216, 2.5083908504468986, 2.7210664078854587], [2.97066197812052, 2.5764675179560386, 2.9491784534584147, 2.860940586439742, 2.0782160570281487, 2.9735248927986095, 2.4987807175487182, 2.533072421837809, 2.3625492403203934, 2.1301956607438206], [2.0961092898933638, 2.3649905275049434, 2.89888081851274, 2.3900885880841645, 2.581391641434646, 2.562358534401977, 2.2295716285791025, 2.459760083920185, 2.1976415143300496, 2.8608467015595003], [2.8934112656616717, 2.5110567218541116, 2.634872838844578, 2.54021141607988, 2.835678083949928, 2.012204052372679, 2.447525597360336, 2.63279226060419, 2.1391444727444764, 2.8883134726474013], [2.1927002885654177, 2.399000583869958, 2.967066410209548, 2.4758024170742226, 2.3810318041895955, 2.841013277263988, 2.429679678134329, 2.368387748880959, 2.0179486169010765, 2.9802315838878948], [2.25057558958269, 2.7173056352571208, 2.3466398477974963, 2.7856172327530104, 2.136966309511431, 2.10128764839388, 2.6197032993709644, 2.923987630546282, 2.384850496574397, 2.2790285629043865], [2.168690461224109, 2.196578621340082, 2.558319580640772, 2.4236058367495334, 2.8233241352507994, 2.546368597533505, 2.192360603984084, 2.0553026995583044, 2.356348457153631, 2.611401391827536], [2.7011178578137898, 2.4288593946078576, 2.1486631932004725, 2.945118235765243, 2.1221069335752407, 2.027840947113539, 2.5367483745592985, 2.5866594154157596, 2.6165187900136906, 2.8482902065810562], [2.690788929955053, 2.917709045149188, 2.308934151814523, 2.5102917443492245, 2.6100350954692297, 2.098224248313381, 2.1018680566216688, 2.702057478000991, 2.873936841227485, 2.590029107950951], [2.03178022072045, 2.2400336885777525, 2.3185833970911762, 2.7959129897598722, 2.962758156810281, 2.7391459253821386, 2.218794531710847, 2.6890807518918205, 2.7620200780301607, 2.8815442669059697], [2.3341527598873197, 2.8534905090933553, 2.2204629212173224, 2.9096376582794505, 2.3288953545820448, 2.152955616947273, 2.735951235111814, 2.774027273144941, 2.984742278323286, 2.078380211583], [2.8935168602136554, 2.504793819146253, 2.5876838198022596, 2.8388832005691444, 2.007166838206447, 2.1557961710260987, 2.8264831824814927, 2.1018768715602674, 2.6266447783491116, 2.092695600195915], [2.3644988204622535, 2.794344458770842, 2.1170889067675507, 2.6614611189651756, 2.880194449500877, 2.7148309062940115, 2.4793838009949427, 2.105043956462556, 2.475619265183349, 2.332218079221951], [2.4689469120574237, 2.3671630685833835, 2.7385155928713125, 2.4758648254345665, 2.751814559808029, 2.3099556840782096, 2.0834059288611715, 2.9336575197879284, 2.5826513108538185, 2.584132052586451], [2.216792349043427, 2.833173043604777, 2.962794532571017, 2.228869784867393, 2.835902671209677, 2.288156642300875, 2.027822874618993, 2.818019934968085, 2.08841643499019, 2.621333437519427], [2.28500302288938, 2.7815165567006765, 2.6250240637350633, 2.173672649072246, 2.3813732291961904, 2.5167145902532333, 2.0126177149104056, 2.3432324580565003, 2.1764512253602577, 2.6237584123130944], [2.76154315007806, 2.0429562030027992, 2.47856550037763, 2.204843110837449, 2.892133689743074, 2.3774658092428695, 2.406092288395432, 2.4125966572894253, 2.925337559495371, 2.2181647063745995], [2.181007868771017, 2.7904856676913514, 2.9362123488624245, 2.038775464585713, 2.938517300131383, 2.5350246318164036, 2.5608931414150047, 2.3570054526025843, 2.830145440652213, 2.3847283909150288], [2.01484029855318, 2.491395333271019, 2.2699419051415104, 2.687844438207174, 2.4607721109821403, 2.5954809020498466, 2.674635944212725, 2.3450517529119765, 2.730213777659497, 2.4571067250701146], [2.2379143676207844, 2.8826740714655683, 2.6279982226051866, 2.111469432492217, 2.398129100216791, 2.287172776079698, 2.5893689608089705, 2.538005515747111, 2.6705885158533564, 2.9331239136377176], [2.062535381690564, 2.7789740560736, 2.6728604397547078, 2.7459366248876362, 2.9674700643062124, 2.087270696776974, 2.0740333879498576, 2.464139287834436, 2.101797965729362, 2.5491904466734754], [2.403004854001116, 2.450441547216635, 2.60226079509518, 2.4026545726439394, 2.892554237282289, 2.0301443344293943, 2.5795298434947282, 2.714393153797007, 2.5467781404101792, 2.7181053698423763], [2.880518939376378, 2.486807192017573, 2.8726090292734625, 2.2641371885698893, 2.160279376227212, 2.455586952739919, 2.779601893459901, 2.0049673685351523, 2.1154148838669036, 2.613256467711332], [2.5300639395482003, 2.676461138760308, 2.616992673981471, 2.5684289409865646, 2.4346257510031215, 2.451423668836585, 2.4274343211768024, 2.6672097176375864, 2.10240033269028, 2.0849227979166236], [2.8746962438415657, 2.6706855838866166, 2.9097175241332147, 2.61411415854295, 2.031466123422093, 2.2828518326382152, 2.6443667157630433, 2.6591751700733486, 2.845364915974974, 2.8288935990424715], [2.255361931505066, 2.8720658192394395, 2.0490408717913313, 2.135160531197378, 2.2382523549090516, 2.726635791924033, 2.6308695168968086, 2.0053736793826618, 2.1733464154687256, 2.4727604952825954], [2.615650845943647, 2.3904189183148317, 2.0584480322444274, 2.831962058721242, 2.875558648869399, 2.057219456351419, 2.9242583780048754, 2.701022426539599, 2.2157609710634665, 2.784246388225563], [2.748925906753796, 2.04245424201383, 2.021072706894612, 2.9323231166541577, 2.99641638396154, 2.2099170949534006, 2.806156632039564, 2.3504622838420985, 2.8955724955482434, 2.1352354010675905], [2.2512090617554987, 2.2852581627352957, 2.012045924817406, 2.2437346882112434, 2.232463760793478, 2.3944472067898546, 2.3005552650019703, 2.5385719167363767, 2.173881363728139, 2.0517752452328333], [2.0827024892070964, 2.716606273283654, 2.349739136098637, 2.590015342212542, 2.0987665309451407, 2.526391338172205, 2.052481439504607, 2.794335407759924, 2.8522908415988644, 2.304409454154193], [2.032429264089033, 2.3143708890752066, 2.5797113646298526, 2.7245312016832077, 2.6598481611551246, 2.0689742905030024, 2.5240416020691057, 2.912388924439991, 2.7144478208707756, 2.0271194373569066], [2.9052014288089127, 2.5748651699586134, 2.179403698676588, 2.199188708803226, 2.9300965675365953, 2.3319060818116104, 2.9144361558088008, 2.672653253182072, 2.866491820321057, 2.9693222795162404], [2.285334325090493, 2.162161775693418, 2.380753827934084, 2.919795770252488, 2.6259026498608993, 2.0662328443342908, 2.4679606382762023, 2.2827747065598087, 2.361545794821087, 2.199342406690733], [2.4514097651929196, 2.0421883931856977, 2.8017657679910486, 2.542436313864273, 2.1365542562298443, 2.8272004671908144, 2.1170912964444986, 2.291515477965912, 2.8333321024510134, 2.785663366660705], [2.2744695456630435, 2.8815865311577875, 2.8637106378613777, 2.385115225717407, 2.7451471685009916, 2.3218768103636647, 2.113820987536818, 2.504938232175574, 2.9851096351077375, 2.568819928073384], [2.9367114862889676, 2.213125556685484, 2.512263355194859, 2.493411532709899, 2.4625282192978877, 2.873112234355319, 2.720460407072769, 2.969053557051457, 2.935250655991933, 2.2370032767662167], [2.476333468146799, 2.791155930038271, 2.0522068206025628, 2.07436594935208, 2.5707468555553534, 2.34075084604118, 2.8261747468856133, 2.567265263998701, 2.139504451393517, 2.1548292450948794], [2.281537474355405, 2.8447395114353604, 2.1445804536134587, 2.5483994536423418, 2.4416769917417405, 2.936406771624348, 2.050070255781442, 2.272564847978341, 2.2910218427002675, 2.997585022364609], [2.377685864669999, 2.8371034728515516, 2.734842433425569, 2.5891120554677736, 2.699672173085323, 2.675575550278184, 2.183874243036123, 2.151999550548835, 2.5227591163836167, 2.5287019974966864], [2.4068250260407016, 2.887408988378894, 2.4932501698657945, 2.9433384133820133, 2.557580209630305, 2.7727864154068964, 2.1098390360027306, 2.5440268025824597, 2.0555083354536148, 2.220962858565915], [2.727296670937993, 2.761675645853257, 2.026437339594807, 2.4597988205957177, 2.8758663401335998, 2.357929115631241, 2.315689153811735, 2.2945602872412265, 2.231176545200535, 2.117641653071038], [2.823728738019537, 2.9002817999788704, 2.2274380133314873, 2.1484669293178786, 2.2167690215164697, 2.1917616746996527, 2.884853374272223, 2.9976206178530425, 2.7823299683693246, 2.8017243195891632], [2.9959836210984108, 2.456019369769491, 2.4854625903845635, 2.8034796590557356, 2.9164093174624117, 2.0071808302253937, 2.646631051851578, 2.0321177555963663, 2.2898846549986263, 2.7200664499215144], [2.5921227392816713, 2.5812272675407666, 2.2426069396257557, 2.923616388672886, 2.5155465392825445, 2.8989707225507297, 2.546986868441276, 2.6951692860240075, 2.7747179887135274, 2.138431579054983], [2.1921706624048474, 2.391040775467065, 2.5392685120816965, 2.909991919439688, 2.9118793449265223, 2.698367333010803, 2.488264214265476, 2.675527993575658, 2.7747763144217816, 2.781505125455437], [2.87541565025344, 2.5485913058265424, 2.051609356163813, 2.156415470776164, 2.982060221138528, 2.0060695465279887, 2.2894497909879363, 2.976403555599412, 2.7516810268264416, 2.304695112977168], [2.979971269997049, 2.166126113193803, 2.865213651918378, 2.8547703644398776, 2.1734238318951506, 2.474105313997266, 2.5943609954677203, 2.4193564713342153, 2.1315087191126563, 2.041781908463318], [2.2931520882462517, 2.1082825612837994, 2.949618400182096, 2.94271077118154, 2.756851539148263, 2.5422497045186527, 2.3962809793869067, 2.6888688560340093, 2.1401403130887653, 2.295355729572724], [2.644102434710806, 2.5054076877500635, 2.4388012195140325, 2.9062007118956785, 2.1585044208456594, 2.114286771752832, 2.016194367814228, 2.9376869341018805, 2.2277188969159725, 2.5544049592306832], [2.548051976596571, 2.1053514041149217, 2.356093490959724, 2.9763321540227388, 2.947014387154328, 2.39044086503976, 2.1817319218993063, 2.81233963532014, 2.956695109515568, 2.0798362130736825], [2.822959748249704, 2.389135868280948, 2.5564600082624587, 2.1133351663415576, 2.430593306645501, 2.327583310419718, 2.811457448495972, 2.1791585329561536, 2.044464114124019, 2.896065524979157], [2.514447139200788, 2.619618250910138, 2.1557470212439114, 2.785694120753648, 2.269992452337407, 2.213665723421409, 2.874623910520563, 2.375802453755201, 2.60000530402157, 2.688972935843663], [2.7840923743636954, 2.8678238258165845, 2.8194383790343425, 2.6716208645766146, 2.773935123627625, 2.2786840439376395, 2.615510477655498, 2.6425322412254526, 2.2127196763836774, 2.262286251754615], [2.2926622922957827, 2.545284417206734, 2.070940769508671, 2.760895735693246, 2.7003685013030108, 2.2509240073995698, 2.114468217386732, 2.0362153671333285, 2.75040011077971, 2.2355881268072273], [2.6318149260344663, 2.3526603062084455, 2.187125730415862, 2.9863765856907682, 2.023073727067447, 2.7619661712594867, 2.862426238277904, 2.202936564417658, 2.1353438355607404, 2.689180494160852], [2.490345834383461, 2.890429769008984, 2.3689300230585397, 2.320172803683478, 2.0719492990466977, 2.5083243234097448, 2.783784579833454, 2.0877059603860157, 2.714603441670314, 2.109121321869594], [2.201114480343202, 2.853650625248183, 2.4230053167306367, 2.9201353829311323, 2.9237059596183417, 2.292675072439293, 2.783071551230367, 2.398576955421189, 2.4813002887371525, 2.013849042309294], [2.509614106434328, 2.9472526471547997, 2.451302766887076, 2.593891647965445, 2.0850680824513015, 2.668475553142568, 2.7938797218820333, 2.50789941071534, 2.9560457486190854, 2.972597538009002], [2.2735232067317885, 2.8956501352761594, 2.451898840265727, 2.9177920511106645, 2.2830036331475454, 2.618203559206777, 2.715199567394132, 2.248809632903102, 2.213546027391925, 2.9274618648280017], [2.3250988342447823, 2.6989497444786195, 2.8231842511452836, 2.3639410248310684, 2.028679864008159, 2.706558286458082, 2.441843144527321, 2.3924107821463423, 2.711619937446508, 2.802641826207149], [2.0264116902463343, 2.4819458036975908, 2.206323025510301, 2.9048197067355677, 2.7213933389551377, 2.5925024725048353, 2.444612443680377, 2.4844350526629677, 2.878580276458619, 2.7277317334058537], [2.0219219244143756, 2.386893348206342, 2.153946363502936, 2.843064298047919, 2.0289425512479533, 2.5973936763663947, 2.9492242309923196, 2.9901051033491, 2.1889480261913428, 2.166640279348755], [2.8927941113421713, 2.8504822375313905, 2.290472895323882, 2.5990696670850366, 2.5730033273905595, 2.8187453086067666, 2.628779338444966, 2.5574708464053004, 2.6144663145787437, 2.7571342656186517], [2.8868428876541237, 2.5470078490922834, 2.3685854511119797, 2.2646913193545446, 2.043178565248962, 2.2183106897177525, 2.2521499008874746, 2.2045198255469556, 2.62807739257835, 2.696256295017854], [2.7336441610743596, 2.0131605884711883, 2.7957276957527077, 2.736231144974836, 2.518551236901769, 2.7003296465666766, 2.1468324861403545, 2.146659057234909, 2.2979677181058356, 2.414528649192209], [2.0311254067064786, 2.702936627480385, 2.01734963474222, 2.574981354913769, 2.107226730850723, 2.0751151787475326, 2.4872303433515657, 2.887645225229367, 2.544799399712763, 2.871315871387399], [2.943255797669446, 2.4678125323576494, 2.5189411534026194, 2.2506768034423192, 2.1629237183320953, 2.61746730515242, 2.1393867474825656, 2.831259608907655, 2.6274247482259057, 2.586952530498735], [2.1756083163471693, 2.283174094711588, 2.309109091187709, 2.8302975896812512, 2.5427765544192584, 2.3707547153526707, 2.350843321765744, 2.5471557777453597, 2.0576080070991645, 2.211923753514034], [2.9080765443353966, 2.6757194859905327, 2.373512374014622, 2.961746839041152, 2.2683187660730106, 2.1548591705323297, 2.099372542559054, 2.660906092567129, 2.8276135768672592, 2.076037398301452], [2.290323136437987, 2.1821781178946162, 2.3573078802154344, 2.4344136489878108, 2.3954255544524727, 2.547871922424956, 2.23007191790547, 2.7232916390856907, 2.0556416225098157, 2.929217031733259], [2.8202389895395217, 2.8925980541783582, 2.675552802497072, 2.843272573634736, 2.850075739435188, 2.239509276290064, 2.877149358113361, 2.021026717982136, 2.5768956950319097, 2.470924671543963], [2.7885608098958907, 2.1215157274016194, 2.8467114396341233, 2.8307423387597153, 2.603132283555039, 2.166240414678656, 2.8923549363546703, 2.5064572252835005, 2.132087025079677, 2.2897951599892594], [2.3953622394072744, 2.287576569342543, 2.2874035111962536, 2.8134697526118053, 2.7027011283569977, 2.3176818412554967, 2.617956040151613, 2.306016413354449, 2.514218228472571, 2.0853280483260157], [2.4661556060097887, 2.483945079342007, 2.963370190237224, 2.9584708051875452, 2.097474397842853, 2.7756377917687827, 2.3441493961174467, 2.79642454533289, 2.093523352815395, 2.8948700773671634], [2.208753993080869, 2.1509637025932253, 2.0770558847922493, 2.938297176405818, 2.8881262618818226, 2.012263845728678, 2.106514980476809, 2.880231316570895, 2.3835002879760747, 2.9719048147001033], [2.075648316558767, 2.3333234663718314, 2.651706469037467, 2.939768940715567, 2.024404318780485, 2.316555925711856, 2.578525812709383, 2.939219168015703, 2.8557639803875943, 2.472445583467923], [2.6133920193083156, 2.391803749531654, 2.949700186533957, 2.0345452674952056, 2.936080905020395, 2.007971852222132, 2.3088777229138318, 2.2185607161782106, 2.7290527510307436, 2.834916860517203], [2.229670866201859, 2.8194772533255668, 2.279245723883685, 2.0601986057223303, 2.5135460400854237, 2.595336064741411, 2.4249329002839843, 2.2104980129252576, 2.1183815860904094, 2.2560627574307928], [2.4612360947326923, 2.2586363841495856, 2.23095037900326, 2.8000072179942057, 2.837719371414748, 2.2263521085101248, 2.5914391711684406, 2.7697214280584364, 2.5345898654640378, 2.4015144111282307], [2.3460788730105406, 2.795018835353141, 2.7051481120169063, 2.2552396743813903, 2.9954301103743495, 2.561132765509294, 2.7780750608614957, 2.0506836900230225, 2.8004871720591935, 2.2569305073299986], [2.026256993354489, 2.209129417909404, 2.19015835117029, 2.8637356753771983, 2.035813467182048, 2.8585857286363656, 2.8177116948768757, 2.01795980270302, 2.561795138591859, 2.596857416814201], [2.8123201403370266, 2.2866537102605133, 2.614139189572248, 2.5383716854273533, 2.8162031334465207, 2.8579997970797204, 2.884223376744917, 2.3339971481318456, 2.783463767275191, 2.9741266214625646], [2.1842657355170054, 2.3544071927420784, 2.5028243770688126, 2.660196027536669, 2.2118064217137987, 2.612398093063137, 2.1755323546035417, 2.3269796336874293, 2.0283172018040574, 2.576119444409946], [2.3895382880820293, 2.82762099266573, 2.3315796733669303, 2.501158241270926, 2.304170824727077, 2.7100563960338566, 2.4325420184345576, 2.804683982212201, 2.613238113940109, 2.588923139800508], [2.125506090834374, 2.0550231247560475, 2.543928907151438, 2.3236434083987008, 2.689388920894678, 2.2122836731426223, 2.952561695833901, 2.4682482686442198, 2.9258792001747693, 2.436969789957863], [2.6790327001595204, 2.1312980974995375, 2.51207881736482, 2.7442772012587904, 2.42727861641845, 2.2660004700126777, 2.6672045836857827, 2.1531746031929657, 2.7544341028545363, 2.7458300933200803], [2.6303547038022432, 2.979599344561542, 2.6417189357153177, 2.45315074171208, 2.0378635937702274, 2.324554995724897, 2.669508964185363, 2.5205273046515018, 2.9113387195997067, 2.812147121769279], [2.184774876625683, 2.163601159011111, 2.7239617368648537, 2.995814867784541, 2.7933997857358572, 2.4452383357282694, 2.5145432306609012, 2.710990783837424, 2.1549028715632925, 2.298121691917202], [2.313939466371301, 2.786210652819631, 2.2047504752593325, 2.429144265859671, 2.7283205255527045, 2.771585522253556, 2.4366134000273094, 2.5806849743758833, 2.6555037259058922, 2.40438063350378], [2.655134618455933, 2.0068225044806596, 2.355456395739133, 2.4372198940640435, 2.6098469082181026, 2.4269219695524256, 2.419618066229003, 2.6080830590572464, 2.154743756250062, 2.4423039175767536], [2.6716589483612676, 2.2577858482351627, 2.6175352351986825, 2.0713697289702195, 2.4289855797917443, 2.6906327599560704, 2.9191744252536345, 2.474749237212305, 2.14938464773942, 2.0461735724151424], [2.313957779318764, 2.3941465736931398, 2.492077154867533, 2.1249396564843623, 2.6405076521577593, 2.562851758131625, 2.655094511249226, 2.1295883839076764, 2.3178562516205505, 2.869559366737987], [2.8490970102635025, 2.4287561864486924, 2.7979149205980773, 2.8871887894829706, 2.406770950067375, 2.8286907463702473, 2.400103383892666, 2.384948313713721, 2.132860258634861, 2.5403550383239573], [2.896311527384017, 2.132148547619498, 2.048136315161716, 2.5606132319462835, 2.654352386806342, 2.986449190689294, 2.8780473112254663, 2.4235088010348065, 2.2081451742295126, 2.645635143836237], [2.628208853164858, 2.136142948487413, 2.061775903514523, 2.8754728685734126, 2.0627749060774874, 2.848909177954226, 2.26309794776813, 2.090998829157464, 2.4310362780933947, 2.134057892010763], [2.269958570002907, 2.1539424745650226, 2.2415012401651855, 2.3759658349651094, 2.5589603277671173, 2.0539834308893212, 2.318813835477429, 2.701210976892991, 2.198239652402792, 2.5323262566656197], [2.315191062042656, 2.6185752776176976, 2.709468268165301, 2.130926028172535, 2.789997566004111, 2.955883793805592, 2.4920217650692518, 2.6382589234274385, 2.7924695824023646, 2.583763267332827], [2.0621027157261893, 2.9993055300754916, 2.1558874952375024, 2.0752506140956193, 2.045787450565402, 2.657200409864226, 2.4076832076674552, 2.3630585067102636, 2.1125329778705977, 2.018670523755796], [2.421691220595239, 2.1097823580968984, 2.0548790216769417, 2.441091391386114, 2.6503891557801365, 2.5919005442925007, 2.9038148198008598, 2.9849220296684433, 2.7739321985648364, 2.623708193625733], [2.199401541293974, 2.051730684519683, 2.820154873637936, 2.980423174848845, 2.160850342464958, 2.327871138562487, 2.85275205661228, 2.5398009036501823, 2.9510363067456815, 2.0023137064042187], [2.3417906377022693, 2.3013795146918072, 2.9517490715027224, 2.57589753215462, 2.3408767324148174, 2.462405801035585, 2.774425478918916, 2.440947476219535, 2.7312152383648356, 2.4282351085081113], [2.4217795527122807, 2.6173005288298112, 2.0864932968944356, 2.163125308870984, 2.293518155800556, 2.767491569938496, 2.619250018536576, 2.7632088342335575, 2.864293851316087, 2.458091550276995], [2.322229403212035, 2.9696180929708795, 2.4359340314622195, 2.218099453000076, 2.3455370222643577, 2.818710562297987, 2.623077493276111, 2.7702414676002447, 2.85734040898691, 2.5825780116334442], [2.5531431182737654, 2.471576890817898, 2.2600790042817804, 2.4564823601954364, 2.743649476972489, 2.8988392592329855, 2.602444300157778, 2.6337876901801534, 2.82592132127986, 2.297385255391084], [2.580030613045785, 2.090671511139024, 2.694720598213646, 2.204707169852199, 2.432337628394935, 2.639606568626827, 2.7699037044453587, 2.568856590622814, 2.810950965210614, 2.066445413170541], [2.316284705822645, 2.1852729073180948, 2.529049721094318, 2.6984874490460746, 2.2058940486834584, 2.109623243662966, 2.4174766453603898, 2.8662194277723394, 2.382025828218897, 2.807615196179114], [2.6584069189734354, 2.293271021071015, 2.8412405997280556, 2.0891993197802265, 2.2699084351982517, 2.8612762356645907, 2.3584115416545064, 2.0721363858954835, 2.5583191456663226, 2.183341738809851], [2.354958302192146, 2.351685546198487, 2.5897852990668153, 2.638688341815076, 2.8648980820834753, 2.672053013920477, 2.7916728705228246, 2.2814277325932597, 2.5077133678453887, 2.474722788474964], [2.125578610439212, 2.9061251177006646, 2.3226551889962535, 2.4782949391712332, 2.2018998916906773, 2.3464668772486528, 2.0551924657546445, 2.7860529325192425, 2.5609622610980223, 2.955686727381804], [2.2742551482060644, 2.73010154889049, 2.4447213921331015, 2.0915617558681348, 2.7500656252923132, 2.9576101133307433, 2.991562105623923, 2.1292674234042512, 2.5921407704147033, 2.4686896591169543], [2.4158810981173824, 2.466630739226405, 2.585885840844573, 2.4556694275010904, 2.0118347422351244, 2.611054679414231, 2.5534276508177802, 2.689027482373975, 2.0164760520548937, 2.1023530639030383], [2.042216702062509, 2.1903937772283704, 2.7981434959128375, 2.182357363638065, 2.9531644931618044, 2.487560411644301, 2.846781906953427, 2.3630482191635878, 2.9653567487811645, 2.665720395538531], [2.888138770463515, 2.8452500832918757, 2.5967274921941508, 2.532836127686845, 2.4596202095572215, 2.561073015244797, 2.39773917779403, 2.1492522934305622, 2.2277621747273795, 2.9925565241838217], [2.00865179439149, 2.4386280890098444, 2.5721357098362265, 2.7123623935183847, 2.5014580918092366, 2.9911177355971326, 2.6042737540260137, 2.3087733130712715, 2.0853454283462445, 2.4592138922802125], [2.5120393948176623, 2.693255172286559, 2.5985779175412564, 2.9092449616367544, 2.1543096827714736, 2.0194387518063492, 2.996096838332378, 2.3409565396236665, 2.5047179720823944, 2.946642920856762], [2.8709508299941007, 2.9989233216276707, 2.4910080155467575, 2.9300458654767585, 2.812636969840863, 2.360284903797244, 2.2042750183304936, 2.943045943762549, 2.262172862877234, 2.902965134971314], [2.0696470789793713, 2.3867343112935133, 2.0515172504468486, 2.253860304911311, 2.8172804283131363, 2.9258101512093737, 2.569607176640975, 2.00519804381079, 2.321538202287981, 2.2037685939144], [2.487121425220568, 2.010901450296469, 2.0111388266995123, 2.7701920166008884, 2.414084912281293, 2.4748595800961373, 2.2582621969824825, 2.1783453944697198, 2.8005882492602585, 2.808367435254303], [2.7732706568700447, 2.4933502965834404, 2.988761683680199, 2.9301519905062983, 2.0039920126624953, 2.09299967535975, 2.646098874293192, 2.2317540379051004, 2.1276764901080205, 2.0159847994376046], [2.13460185245858, 2.7993170147050845, 2.1138469989751334, 2.8598070820335124, 2.9889091312580036, 2.124719448858064, 2.673463345926801, 2.1226988818836716, 2.0819207637139088, 2.575419103459161], [2.315135833087255, 2.6818400143760504, 2.619287000380545, 2.90957581786985, 2.5017977708629844, 2.9105972842065566, 2.725146686356931, 2.577647014658429, 2.4498255803302387, 2.7439180208787417], [2.4627256081258597, 2.2948872687258097, 2.4393303674777527, 2.742154164696567, 2.91336074077516, 2.8316029828953644, 2.947106022355941, 2.313131258193865, 2.478526779025784, 2.362574644166228], [2.403189970394166, 2.525527931093804, 2.243155017871433, 2.2407643667075496, 2.050509534056864, 2.528021860366413, 2.675713968444953, 2.039986301299763, 2.1395134430203218, 2.9972589385825015], [2.544020239286938, 2.9623221201397962, 2.071278919384872, 2.8830001154498897, 2.08183559710807, 2.0347791362446594, 2.989889865597476, 2.2725302013795137, 2.734577303103065, 2.2306211722653804], [2.7160007785647133, 2.0157534438332845, 2.2327088507765986, 2.266820244010267, 2.9049482235322097, 2.8802383984128133, 2.7391995833208425, 2.3934351861414647, 2.9075232787838305, 2.0232962141233655], [2.1748750727832333, 2.7830703463132815, 2.9990615228225197, 2.7754909012822133, 2.191620228995017, 2.9453430741546556, 2.6920954527169605, 2.4630487576229827, 2.5357161279403293, 2.5286296934199743], [2.586637837637653, 2.751360272376493, 2.8320350581693896, 2.815301431665215, 2.0194682393410885, 2.1025177422434416, 2.1469922720906967, 2.405710624940067, 2.713961457328658, 2.1814115551128426], [2.5800226500519985, 2.5291577106730685, 2.30696138938301, 2.2098873941255035, 2.279663303134181, 2.490483575391275, 2.704686679723952, 2.439804909992078, 2.950021679449809, 2.9530909920372492], [2.5934667137862752, 2.5795516834058123, 2.566942018239915, 2.3988525248414945, 2.5859407019531946, 2.820365938743051, 2.428702513342486, 2.9400406950008, 2.447353641640878, 2.3089270822344528], [2.916521997845842, 2.887778777540981, 2.0478061615232335, 2.8649957509008623, 2.096680345453252, 2.4499592555138805, 2.8740851717189817, 2.0006198623980236, 2.0212695234451834, 2.2946579991465135], [2.7460252267611236, 2.05002985945128, 2.3267847878942303, 2.319089414650324, 2.1034055215562866, 2.2040835601441806, 2.517723621465483, 2.892748548919227, 2.9576177553111935, 2.1568877054968207], [2.677938970872187, 2.4080763606432467, 2.5079789196420395, 2.3246631877803847, 2.9131589528120125, 2.227835403707889, 2.759613543752299, 2.6260351561268536, 2.776270052389055, 2.3592136340747643], [2.548115799115459, 2.5556440955446362, 2.078484046144298, 2.6198734084143, 2.6485764353810572, 2.596546934030428, 2.090273422769218, 2.9941212122834706, 2.8346962904835933, 2.573839788002379], [2.556929669638108, 2.3902254594108205, 2.9567511265540807, 2.2950326011129083, 2.2473910147361416, 2.6158813299712698, 2.860340369182751, 2.069276513638002, 2.52950661207538, 2.69813375669145], [2.006601742812978, 2.5794236671055635, 2.5148539112518313, 2.436471808343647, 2.2016952697734653, 2.8956758197952865, 2.8062175442216573, 2.711967788146719, 2.89150897984763, 2.09933883430545], [2.0256465744218612, 2.2647906023252578, 2.5643066524506937, 2.0625280009133844, 2.216984066467143, 2.941038271133934, 2.6306226056282656, 2.7038686400420517, 2.0103937120075566, 2.1818812582785125], [2.973345009626896, 2.8363161158784544, 2.7339466452853505, 2.4204504679478, 2.30362246551142, 2.9416616520432255, 2.420411371821032, 2.8868913348957914, 2.489776116875877, 2.7255419960200262], [2.1107380916651173, 2.389489994354515, 2.3902256619220275, 2.80037403468374, 2.29293495075994, 2.3109149621661937, 2.1048415793743747, 2.4479299210122347, 2.33416948944706, 2.1353858592857256], [2.3683339093749036, 2.5985132761823335, 2.2572512525538557, 2.6140575739158924, 2.581790643149065, 2.5437860735673006, 2.892327052969504, 2.066997731854311, 2.0172476624674354, 2.3136602417304712], [2.3699877893131207, 2.0723953141457723, 2.6613340410328163, 2.734694279062076, 2.4961928623046306, 2.9031199932550162, 2.5366037003620208, 2.5944930233415917, 2.0065231948838553, 2.7440048415956833], [2.697060726008094, 2.3028011536935966, 2.9739697917067978, 2.336026195225413, 2.025278195262681, 2.2222382774847937, 2.966895426964073, 2.0057803757527726, 2.5836691188189898, 2.420748084236335], [2.4754649242174063, 2.6815153629502446, 2.48064402078395, 2.9320347538418954, 2.2583260924135553, 2.7252979723050483, 2.95883913458393, 2.1619971728123026, 2.8741778420510684, 2.9392742516840733], [2.434079151392256, 2.576542208479145, 2.731138492247445, 2.5101413838662956, 2.1604433373816505, 2.9445599465141425, 2.1228518223157296, 2.1750861813193776, 2.3014979336664174, 2.677409154211044], [2.1294638825659895, 2.918020568395338, 2.8528757496630877, 2.696605242248335, 2.3479282545095526, 2.252649005351299, 2.8408636519823114, 2.7974239038006266, 2.0864310718805985, 2.7740523510990664], [2.48520762150652, 2.120063406563245, 2.421498996290205, 2.371077462145611, 2.223966223909916, 2.8491534385545148, 2.215770997114057, 2.9843503520637, 2.1485151724432394, 2.675487093988231], [2.854547869984672, 2.2442519915000188, 2.334075007920666, 2.509253663518848, 2.633447606528581, 2.98647833329341, 2.364285208172511, 2.2093508247108264, 2.9321247286162877, 2.834486713326462], [2.8612966246339777, 2.1551732407930597, 2.0853145476234345, 2.261364334716249, 2.755440688619107, 2.701528790755071, 2.924989526330724, 2.6753339726031333, 2.54252431597783, 2.267545287679863], [2.37069419122852, 2.1367053282244832, 2.544373477605386, 2.5243856356808383, 2.0127413131218455, 2.9823090970162003, 2.4856453313668707, 2.1777171337045234, 2.8055866655187107, 2.3704934331849015], [2.3788757147775956, 2.4487597712144176, 2.6292143360860174, 2.6578189307856164, 2.494655883224727, 2.0104251700140194, 2.740214514293055, 2.12346071774649, 2.694269708722893, 2.511475048386898], [2.1118341260789766, 2.7431331584014984, 2.103785945223323, 2.1433299178777485, 2.155449456206659, 2.987964833774509, 2.7949472396857633, 2.5426037383648525, 2.595053388591748, 2.5270951813410107], [2.0097791367241506, 2.229304434371908, 2.517765241451169, 2.5700467922433843, 2.3231443400972336, 2.2308280580338318, 2.758824259257714, 2.787253140155732, 2.849655743567309, 2.0834739648580416], [2.651702510556088, 2.1551942537809445, 2.466669561596224, 2.6651831248927143, 2.794888228228928, 2.2707304154580057, 2.5936751222371646, 2.0189729480077707, 2.4545394231162074, 2.644469925026278], [2.4594878218172953, 2.794738187844464, 2.652921016386668, 2.6345163342541382, 2.2386447583511826, 2.037282063229703, 2.8938333911423113, 2.8886440450740416, 2.0579689581313323, 2.4206428493981216], [2.3586396135262166, 2.7422781244967753, 2.5291659283500465, 2.395173587392175, 2.103530294554729, 2.972383218381997, 2.193802807816752, 2.3480391513004446, 2.4636000337176167, 2.479497646741376], [2.4207855273908905, 2.231181740435991, 2.6978990811058248, 2.3866872316112486, 2.5386001607426, 2.506606057203319, 2.125859544254294, 2.9477462883124, 2.0714624885700528, 2.332120655564491], [2.148214221391937, 2.8381965567746574, 2.149967853976944, 2.73131087426794, 2.7423612589038897, 2.536499059768722, 2.0496221733834745, 2.045534756623974, 2.364775204193757, 2.080467168161764], [2.5220362934862877, 2.3449141204904507, 2.5900792828910983, 2.8004501854488524, 2.4628950817569004, 2.1920265647046913, 2.218414028889171, 2.889570136979965, 2.4977171309000292, 2.3980800642511957], [2.851869406804139, 2.1967441268989516, 2.1409050120256645, 2.635598038404606, 2.1288264690260084, 2.2440847134627906, 2.240483069295615, 2.1283154695602424, 2.523976236716029, 2.9378435751343437], [2.0606223706552944, 2.867685248937965, 2.240657093827227, 2.8304197638333877, 2.124064351399711, 2.844764397554652, 2.4226926127557524, 2.723288488467407, 2.3051621930739485, 2.6418290786796064], [2.933886796820117, 2.012793217639148, 2.747139246851814, 2.4365653580997977, 2.4686451807849643, 2.8350684461351863, 2.1810123004039497, 2.3273353415155347, 2.647994584946198, 2.9456991789516755], [2.6400415869161065, 2.1811391815320316, 2.6554185608755083, 2.165089752910397, 2.587919194992241, 2.558501006248999, 2.354201462370571, 2.00168267564371, 2.8297020629084253, 2.053652983254696], [2.732025817310584, 2.3802037992614022, 2.064127664212963, 2.7232472721379914, 2.4614349525151833, 2.820023296481184, 2.802901882648718, 2.1518298860336706, 2.3799843487014156, 2.7698220425198246], [2.7096999077851223, 2.7219432212439187, 2.2641302990393566, 2.914987883438735, 2.3175219496733415, 2.9255196702604263, 2.8124212144950587, 2.704463284215534, 2.124289728739745, 2.0689368188942985], [2.928223928959258, 2.434044461616412, 2.24732115079367, 2.028627419121475, 2.1079143172918897, 2.8761644853552877, 2.5209689303176237, 2.3419895140326146, 2.774555639529308, 2.644005316405112], [2.4959190686607498, 2.855455091013667, 2.91826075208928, 2.7113765319693903, 2.483948874130166, 2.1082022563566016, 2.112722844355002, 2.5132970657579996, 2.8003709993843486, 2.9622828916739428], [2.279640189151836, 2.7613694617163977, 2.2726462460827026, 2.3380602777379726, 2.4313182977301957, 2.4318620339183594, 2.958223905035446, 2.9335989641059927, 2.7160553718732614, 2.222932683586704], [2.837559032636139, 2.277583138642, 2.7904697808130665, 2.206582965283742, 2.167107928924261, 2.758688334184165, 2.1521548669551063, 2.64009205941941, 2.061056680719062, 2.7542021509057117], [2.616588457688425, 2.489190671612191, 2.4844713588974265, 2.818166968131135, 2.485559128510072, 2.714852375108353, 2.7273775964694287, 2.887809370190475, 2.4703689974954077, 2.042691792383944], [2.5745170682428835, 2.771741058442359, 2.9727437368306826, 2.301099674477181, 2.8255900497654443, 2.322905431991473, 2.4901121886368207, 2.2053094259670294, 2.95838161217842, 2.7659453115395127], [2.466483963136021, 2.2091058357872098, 2.397667805802095, 2.7397488283342053, 2.2113085461948714, 2.280119177569701, 2.6658282822841763, 2.258551216784028, 2.3771928408439846, 2.461570182434184], [2.112425841643465, 2.8941770051108304, 2.654695289937603, 2.7063185806903927, 2.689912311706558, 2.5718318352119196, 2.3202972962253794, 2.76920277412608, 2.937389862748436, 2.4903686882731484], [2.312131487652386, 2.7409310172393715, 2.9056048361250975, 2.106390029289556, 2.9922881565304005, 2.8801140766228146, 2.335870220075925, 2.9031757296377103, 2.754375849581913, 2.926854163887443], [2.0427574901997048, 2.248297377809971, 2.3979709161808067, 2.735636670701711, 2.8429574746943893, 2.5540779103107214, 2.443843044210907, 2.372448483215236, 2.4946056407600135, 2.840448157434182], [2.8604823447663845, 2.816675161592637, 2.3209227802184675, 2.447345854036037, 2.754620966184459, 2.281805523856147, 2.9381221313133072, 2.5870288502825947, 2.7376949527884715, 2.249593228893266], [2.596885696604782, 2.4627998473812998, 2.7812729924054156, 2.1896272442482836, 2.6807749914022243, 2.809143432188095, 2.9525580872380264, 2.7467035119492227, 2.310513470866514, 2.439730688464406], [2.467221469078763, 2.696160681397051, 2.9052807033159187, 2.6428264872598195, 2.024447138530148, 2.5900794457330285, 2.588932447843022, 2.4235331519339516, 2.3007076621573805, 2.229707962743187], [2.4110637437267273, 2.3605909671417917, 2.42624634148203, 2.849284228259069, 2.0257080232483724, 2.5118191102693244, 2.5530201835421806, 2.5930258995525497, 2.495812918084318, 2.6793445550250787], [2.9147787710419637, 2.190247917304574, 2.6633903612627012, 2.517841534613548, 2.3479149717336125, 2.7417454722635743, 2.944707932832206, 2.1366102190352603, 2.8972278635939346, 2.661295988108314], [2.6254641749135295, 2.2737296371847346, 2.698190924216507, 2.2013223186170086, 2.1712988526859656, 2.071603780349558, 2.726660661893039, 2.948783040347804, 2.4203558404251, 2.668839790535239], [2.6196357731648057, 2.7764203384238426, 2.3071769225196666, 2.4554728574192404, 2.4303572723035383, 2.4433039913702532, 2.344062950373791, 2.2968974603247947, 2.649450860833614, 2.9524639735648144], [2.149076591478846, 2.3952989301064953, 2.608367594372249, 2.960691468917835, 2.5694371652495027, 2.584279427303088, 2.5134219695990785, 2.9226070941196096, 2.928343419421811, 2.1375390031114816], [2.606719178481547, 2.489631388211226, 2.023268012000552, 2.1374902330010186, 2.4166768025500796, 2.125495942914193, 2.1934559889870533, 2.878832445455943, 2.3543829868286155, 2.407169203979948], [2.1186939970648977, 2.200078427404958, 2.961993610068192, 2.3882246358494132, 2.001777424647799, 2.719581973806276, 2.3961538796075414, 2.2698254095209944, 2.4647638437741817, 2.314317928116045], [2.844445804516179, 2.396377789030774, 2.22041890651582, 2.126085427590124, 2.6910820558220134, 2.1738631645029245, 2.5833612271024258, 2.493464831512574, 2.6032498509182176, 2.256309758005863], [2.8575804774971076, 2.6680455953946334, 2.534117941742116, 2.3950327058346383, 2.6523136152725453, 2.686662396888513, 2.850008612575261, 2.8180656276967975, 2.2140080977977608, 2.239657222334821], [2.1220355738150847, 2.718592406261636, 2.290396224418787, 2.1605013167182836, 2.831131214473136, 2.6620495080210036, 2.4037553522271606, 2.5705619140352063, 2.2441383290417956, 2.6143578374217276], [2.305733974424355, 2.376092467210593, 2.1159494477837257, 2.0549760779843123, 2.943866419669814, 2.5657872817291514, 2.7557335670803327, 2.470442228933065, 2.580075567272018, 2.234960238813556], [2.1519123466469896, 2.417776064295817, 2.6146913243670467, 2.3859882318935375, 2.7661961566207625, 2.9832192385443888, 2.6017586690735794, 2.6756411287618533, 2.2575933521238563, 2.999620415422592], [2.2871211228935215, 2.089734450662721, 2.2049226720915085, 2.869892588272729, 2.089313218043682, 2.832228407827406, 2.0689344585771026, 2.766711565034073, 2.858271212542911, 2.0883387609795507], [2.448539472556981, 2.00203811442164, 2.0079370074943537, 2.175015942278049, 2.5577009035887475, 2.3061636046932623, 2.0817077530552046, 2.247052402001799, 2.3383415381358126, 2.771644321618004], [2.3888784673948664, 2.965355567874716, 2.8634860920511755, 2.194050740848469, 2.397523190833214, 2.8147315567614095, 2.6024876824844245, 2.3043814171868315, 2.6312827268661616, 2.410478495157437], [2.0376887781863346, 2.458557945613146, 2.187297974409813, 2.3497566110506414, 2.5915912433167945, 2.8943845456666124, 2.106675946860211, 2.9030502531767306, 2.688785418898244, 2.4172684339398227], [2.4593616240998823, 2.6636093546087025, 2.921912872058081, 2.4481848646661506, 2.734102952432479, 2.8698997928590235, 2.6106559346352833, 2.4953507706531695, 2.5478999197679357, 2.095726842098621], [2.280021588856689, 2.4783744509302243, 2.9810137686659104, 2.547270894256576, 2.955513358231495, 2.4105504896184895, 2.262071018498684, 2.2091786476086437, 2.2879106273057044, 2.112316383690656], [2.3938950437034503, 2.164200301804957, 2.1727648309054155, 2.764945524000746, 2.7457802671890907, 2.4947896582781426, 2.6321760361128232, 2.6587078945171525, 2.77456363641861, 2.909459202458182], [2.7707601033547236, 2.1653526177180913, 2.2764841823280757, 2.260010145127331, 2.539208227162526, 2.8746485531666, 2.871036850525762, 2.3815139695420537, 2.5774362345730575, 2.5714422381042494], [2.194352578745841, 2.6816314640463794, 2.507818794567145, 2.518279882669369, 2.1998242895364744, 2.1156304440949754, 2.489996505897873, 2.7366766985570425, 2.0201956841585895, 2.662754651527729], [2.201504677365399, 2.8642266911565057, 2.4597568941031853, 2.4485375928357764, 2.5628163213485613, 2.5487507511248557, 2.399350038350976, 2.266319307376081, 2.722548871620806, 2.7207394244543903], [2.311284562964648, 2.6490255345160505, 2.5642180990689187, 2.4883609095431716, 2.0343988572111154, 2.0368501796770144, 2.9473374624038877, 2.231719248076875, 2.5049696909722474, 2.70401145700234], [2.100416005831987, 2.9075445179058033, 2.4685779894096065, 2.4853179044305005, 2.8440801427666216, 2.653856220442117, 2.785332728050855, 2.657373162293386, 2.2587169665391817, 2.456720716764328], [2.247543779645918, 2.834140799449028, 2.252159535742325, 2.8072186938554946, 2.418654524744767, 2.842166713297398, 2.7339412918056443, 2.8772384317871134, 2.7537381866409576, 2.7319038012491834], [2.586938766658043, 2.682110381252848, 2.3255756367497447, 2.1345323767789113, 2.7184332987976356, 2.297420309506401, 2.3117618116815812, 2.9340078399110725, 2.2567173934353097, 2.9510225309070846], [2.099188038325282, 2.130727348359944, 2.1829195531420513, 2.764122548787002, 2.118872362447994, 2.542174363482543, 2.91426247132218, 2.3844726260496927, 2.147166225527087, 2.1241842882766955], [2.0984531986598807, 2.6081611908945703, 2.76713695541555, 2.16117451623421, 2.892257926293294, 2.1722653296647767, 2.648979420635377, 2.1291503018509177, 2.0440467437201693, 2.327384687771638], [2.56044902519365, 2.0287861890921017, 2.094243874702549, 2.6526648850586265, 2.819166809526695, 2.1966464003828543, 2.013330322124044, 2.816485419099828, 2.0960760074820204, 2.7293269379063023], [2.566193069321331, 2.705332194153285, 2.78057290132154, 2.2683165891094146, 2.9714422322159537, 2.3293962412972298, 2.2372137079855485, 2.172108421449374, 2.013026560182322, 2.137068595979909], [2.7244359724899274, 2.9817362511422303, 2.581827263677332, 2.9730503524614766, 2.1864508270142693, 2.5320869221658553, 2.9126974722717067, 2.287557708904962, 2.7402882560677937, 2.401129200364696], [2.7844030500686947, 2.009855975784468, 2.6869608114562356, 2.1648927400818074, 2.086305597697658, 2.1219986771553834, 2.289057313808257, 2.629797825389442, 2.476007718493898, 2.9670370084084894], [2.6502059182690125, 2.9519828682670455, 2.580145495111736, 2.4883535970447492, 2.7421003800895543, 2.0970169074909233, 2.208428404234792, 2.8816990609090225, 2.0896767854606977, 2.1208961217392606], [2.1474535039016467, 2.1882116610725713, 2.1287521814274193, 2.319223109620953, 2.4410928017954907, 2.880310064233759, 2.552856193962918, 2.646642025911235, 2.2277776029772323, 2.420445318640121], [2.8123704049684304, 2.0875164340440584, 2.022076042936592, 2.4396133847237014, 2.6568367570581906, 2.3631546779595167, 2.070866437059199, 2.116526156647863, 2.123231499522923, 2.6520501727427956], [2.3876986064157553, 2.665019605290674, 2.672656232061909, 2.598008590434942, 2.1374690871029953, 2.137714144770127, 2.584475385300137, 2.63008851014051, 2.7247078976535315, 2.4788111296526503], [2.3817530798599034, 2.9515067637977506, 2.609388575498331, 2.082099342569522, 2.3706230443504137, 2.9894974208663516, 2.1601170664272455, 2.2794870610529183, 2.76548376810861, 2.374149785228695], [2.812518504408966, 2.87803967485897, 2.8391117675311293, 2.7615026062633774, 2.7397448533489754, 2.1176221512141424, 2.454942282826993, 2.567220727907589, 2.8930712326933476, 2.94390456238573], [2.1556454703876566, 2.3951155249433143, 2.761833620551577, 2.591026587017025, 2.512899640185787, 2.09890233764705, 2.690219930888328, 2.6854433099804953, 2.168017869915478, 2.7637056579334884], [2.5945105704486404, 2.634741671662308, 2.852601798118109, 2.9211899870303246, 2.761273895112045, 2.5612102293222447, 2.3867587950460734, 2.799261294578642, 2.4485545535328055, 2.5970714591805137], [2.4040239536719286, 2.2396157810748414, 2.7538396507622176, 2.581261962133756, 2.8782680835792807, 2.669461970640448, 2.7982673927017436, 2.2266448232458385, 2.5295605761417974, 2.1691568958059255], [2.796765922823909, 2.595226234670319, 2.7886673851363804, 2.1557731361430594, 2.8827532447740243, 2.2080067172368207, 2.8571174378852082, 2.7741142727514414, 2.31227538453371, 2.994091351755319], [2.5237036239038573, 2.671557893741104, 2.0323259928457285, 2.5104720017764866, 2.1586368396955766, 2.713163332563948, 2.8071031562843807, 2.712889585304318, 2.40603089538344, 2.937043577933657], [2.8245708920475465, 2.1447972720176596, 2.7824704533047084, 2.082544389028379, 2.441403022383446, 2.849737582212816, 2.3224223057484314, 2.9984795729184963, 2.3851471635068378, 2.149435525452876], [2.996371749565359, 2.0218775514610745, 2.3633875914079776, 2.8182962731852355, 2.838483191638257, 2.2438807264189844, 2.70112177521257, 2.599111348143939, 2.0453262001941193, 2.8442141577796978], [2.987183022662927, 2.77081570341563, 2.848127160449288, 2.8827895296228307, 2.912460896730134, 2.024786131552851, 2.3298001254614995, 2.8416082650537344, 2.912960127047796, 2.0197261880656963], [2.1428078680056566, 2.38847615143756, 2.7718279684890827, 2.3815701240386127, 2.4963822867530916, 2.5389530548443546, 2.0018940354658104, 2.195856231925294, 2.6244840347834515, 2.6320768100687912], [2.0434838348219664, 2.57837062909484, 2.0833215078502003, 2.767666232223243, 2.6170257375318755, 2.620777935158613, 2.9913158436589637, 2.119675071124756, 2.2682633479748384, 2.182343319519192], [2.140826888741702, 2.3511566774506765, 2.2654410488800725, 2.3685326778395903, 2.167973593457944, 2.2272473125598022, 2.0307954227630587, 2.875931039444778, 2.1629855860009206, 2.796269534108731], [2.8234824722231187, 2.096808931136579, 2.6592179346260516, 2.3771653912747226, 2.546620093816953, 2.990850245511008, 2.9471386632128898, 2.3766424270513444, 2.1531872501284157, 2.143775898985571], [2.399895088864993, 2.939090825089812, 2.14197834573391, 2.2431794570060823, 2.9099328601541092, 2.09343556785326, 2.216240812442532, 2.4656395836129668, 2.8416660046373416, 2.288598092585643], [2.2310624013758518, 2.6247282388571347, 2.124994782355467, 2.1219186533902095, 2.201302515394714, 2.2014081485226544, 2.3479388844243507, 2.4364108230125714, 2.8789979129386385, 2.3394828200250277], [2.5505768732151775, 2.638469325328945, 2.6451943814255365, 2.4396556595585377, 2.916019655528677, 2.0344145212715636, 2.7750578280041385, 2.833790934042659, 2.2307200553227937, 2.4964966304433576], [2.291617054024099, 2.812283048043456, 2.4956045496450683, 2.700965168228209, 2.7157922180597076, 2.0065525385562237, 2.4987203333675385, 2.494090405482033, 2.0808996241477877, 2.0163820879575862], [2.20780050726583, 2.62891300711708, 2.0904687932767905, 2.3704721961179223, 2.2743977980120005, 2.7964849678618133, 2.26221284807739, 2.9662149395499893, 2.9421813777508796, 2.017066303470866], [2.8660678657488434, 2.2089414333700623, 2.6741343734053302, 2.4039699213486605, 2.4964342473789785, 2.495951354280832, 2.0450403811087927, 2.615214109463929, 2.5264879027511573, 2.1891764633611395], [2.9225944019212577, 2.3127836874037655, 2.448485033470527, 2.746151941636336, 2.4467663873371808, 2.9863016663286794, 2.7599022093916203, 2.7877396732069455, 2.4764940597139256, 2.1136556298999225], [2.0089493108516283, 2.856835879379844, 2.027753297140028, 2.855823624176805, 2.980139391916107, 2.4503931765028284, 2.264352878323107, 2.025220073456093, 2.2217916521051997, 2.9455546160651807], [2.563387852035628, 2.965307802113575, 2.0513787685785863, 2.476465144041888, 2.9618374751917376, 2.303662688385085, 2.955563087899067, 2.6792864013065416, 2.451574047772551, 2.0599164164325297], [2.571914025141716, 2.802197453327107, 2.7722442428726914, 2.0477905495777833, 2.6142112202910606, 2.4850256621555973, 2.3818899782744367, 2.780362923384465, 2.4256251705209464, 2.9900343748604925], [2.103622949607117, 2.315700433671598, 2.7156265349850175, 2.767529075192321, 2.5636964060982317, 2.4941041190632784, 2.899668773130159, 2.1576595343528346, 2.085629724925691, 2.043653092493961], [2.0814715707521745, 2.1920304780517283, 2.368880335271959, 2.8302977630287502, 2.0287575471061023, 2.3166270330783454, 2.8788755069325322, 2.0201366596272647, 2.3555658728383495, 2.5898292422574176], [2.5722602403341397, 2.084559835062425, 2.565501656392355, 2.0643665978916883, 2.9964909244012734, 2.5913825401920887, 2.6471718343684483, 2.4105214227010414, 2.0307962614322435, 2.644834334222497], [2.6215003620401207, 2.4355039179188003, 2.2386866097301557, 2.6321701092293956, 2.2279270888527405, 2.5913617176590824, 2.1148921913277063, 2.0148016661125023, 2.1039708427241046, 2.47991534173583], [2.7243024648612044, 2.3390626932294363, 2.4842147967238524, 2.7121554441005067, 2.7201468810259506, 2.2905876239583662, 2.370641317700853, 2.9039344604239057, 2.0091359036903462, 2.3898895258537394], [2.183706769638412, 2.983574651689289, 2.542417450238944, 2.5588802761338423, 2.856989280992003, 2.5008707300656967, 2.1973880102266192, 2.411984940798284, 2.493903318192492, 2.826657262669815], [2.39699462198395, 2.365509657843904, 2.1266777145551212, 2.6730856686578264, 2.9088565694254163, 2.0097537039551447, 2.9702681633968466, 2.5915071748457406, 2.1389319243265357, 2.3449338426398847], [2.51372357961801, 2.5967703071885193, 2.4148753627014434, 2.6670841103243967, 2.9924245372834712, 2.4211964798502956, 2.481524979823689, 2.7146992014548035, 2.5827256673478542, 2.8207516653158518], [2.2460645967384543, 2.5889311627832003, 2.609729799178384, 2.49980137261793, 2.3670058050570533, 2.8008662114467713, 2.1085738817998885, 2.3090215051381953, 2.9804441373613044, 2.5826431481654955], [2.3016894080033374, 2.3797738409396665, 2.8190553418806337, 2.381307466084845, 2.906376853979168, 2.851783622570633, 2.607662239340346, 2.4867467886372463, 2.903908979071515, 2.2558068425786857], [2.639518330271188, 2.518579243228748, 2.0740985773449525, 2.393853918831246, 2.322952749739683, 2.227315382398449, 2.3450879678798193, 2.184798428463997, 2.0284065679134673, 2.5107248680764567], [2.680056528928252, 2.864135260991254, 2.1162059751048075, 2.1325281764191915, 2.771146869535466, 2.7744922244978882, 2.009712533822924, 2.4668023405445947, 2.391692278545123, 2.7273083815147654], [2.81837541132233, 2.8273188965146985, 2.5868485509771353, 2.6957060898472207, 2.9258481340992195, 2.468994108818408, 2.582148171671005, 2.010808937979535, 2.5181161756250843, 2.1222115715434855], [2.3140143186904942, 2.2825564994527285, 2.003699181296925, 2.2031964359455447, 2.4575459194192226, 2.0164165089940465, 2.2551173470829355, 2.8696866244088164, 2.134468203890462, 2.94440732110884], [2.5003472926294394, 2.241952940593744, 2.5610822243335964, 2.478342239043067, 2.6156852275163276, 2.118310417772715, 2.5477316618755714, 2.2568537872084096, 2.335935867561752, 2.502591256898924], [2.132515941433674, 2.438447392705517, 2.8860486444225213, 2.6888040276625023, 2.28338352647625, 2.2449212449817986, 2.7861922688613827, 2.3518018686921227, 2.6882041614904435, 2.1688089057647453], [2.916355884085035, 2.0769149025420797, 2.2450598270957256, 2.93967312747712, 2.235561768876696, 2.231545668552044, 2.804042601757224, 2.125712394077423, 2.8007530125603592, 2.1735968569116393], [2.4696077311067697, 2.355938105021614, 2.407174538147769, 2.9619291999746653, 2.171191016749347, 2.4930806599469397, 2.9088391487959724, 2.521541002188678, 2.691457260115298, 2.248930523777032], [2.7838621165610964, 2.897902163486, 2.0199414724833, 2.9188958623316736, 2.483445435791444, 2.012001840849588, 2.5883254581679527, 2.064576526444246, 2.3192850834321583, 2.4085969896035433], [2.658547881788045, 2.888014072913636, 2.8494243745632213, 2.214875033573694, 2.3316895561593487, 2.973675496256427, 2.096942730704424, 2.4254102117261302, 2.572238683235375, 2.469739175831026], [2.8427112345154177, 2.8647771553828765, 2.714914330110118, 2.8078285694820755, 2.0098245933115404, 2.5861381092226727, 2.4320525786748948, 2.077325438485781, 2.9901402026106516, 2.7784745462811005], [2.4583911081929966, 2.2851943130820143, 2.136010648717723, 2.6376220538500093, 2.612663360066378, 2.9943741611069346, 2.272067636597315, 2.247810084285067, 2.1620455742155773, 2.7552235072674023], [2.5786110160458753, 2.3700127273900056, 2.371588306053755, 2.620737429414871, 2.4972821594113657, 2.9059063970088057, 2.2895348036937717, 2.230456388690878, 2.588214670438888, 2.1495883963306306], [2.8445311709346117, 2.0064115283626576, 2.5281283419383414, 2.5788056894546822, 2.7317081615161722, 2.0342246173521703, 2.107327945700736, 2.058669116134314, 2.3738417469238704, 2.546205828336354], [2.407606877172654, 2.3646093971432114, 2.392893910071181, 2.366441329714725, 2.7398247752230835, 2.8226093870667954, 2.241152737750366, 2.2218132086464863, 2.305102990853197, 2.4190138369560823], [2.9301238114252177, 2.1087090480143225, 2.340651175509598, 2.439511646438521, 2.784826704460942, 2.803901803526709, 2.552496073436988, 2.2864642649179747, 2.7753114943198, 2.326377578562132], [2.4155080303070315, 2.3961820204852677, 2.162249411293743, 2.5791083790711054, 2.8360197285331625, 2.2190426093970474, 2.6853970436963306, 2.559368923381636, 2.2725233829600198, 2.964748544101548], [2.1241354938427586, 2.865012637035715, 2.3829293990222746, 2.1091065386420285, 2.2379415229436272, 2.53129044781821, 2.207797001112545, 2.055034417025695, 2.269387335304266, 2.26132972416033], [2.8910612713761115, 2.66213469284076, 2.757443717382008, 2.283502306385834, 2.6138990480838813, 2.3171731945082823, 2.4707956978693177, 2.7235686159989543, 2.5058839686078414, 2.4819941202100626], [2.645590053554023, 2.047123036991692, 2.1154181108480534, 2.938437678072673, 2.926587892229119, 2.456318056278322, 2.799652670320152, 2.619269576184194, 2.0240439546958173, 2.8407493063171985], [2.127946182285217, 2.670480854183611, 2.782214000295358, 2.4781006254612525, 2.180302441418864, 2.921681639508527, 2.654352159636363, 2.8819058282345664, 2.6767790502692472, 2.543414433532453], [2.436973483644752, 2.45459012013995, 2.745088254968988, 2.5789918120859694, 2.8855713360942943, 2.9000863914466932, 2.5375645488832195, 2.982623042608614, 2.284832696952759, 2.3736754598222194], [2.6218782081876517, 2.833812531595868, 2.0954621457729328, 2.7734408283263923, 2.8172385343054915, 2.3911483322462947, 2.431608694633039, 2.018654939290935, 2.357755501038839, 2.2564886077968365], [2.2810763153628693, 2.0430827619710037, 2.843829357895846, 2.716440860896352, 2.268926420388633, 2.845710633434072, 2.9296656210251175, 2.336652362717637, 2.766222170946138, 2.3244112151056724], [2.704841516967298, 2.43359613511545, 2.054921618757598, 2.1157141740235366, 2.3048442124328306, 2.7701885459085744, 2.236975427990525, 2.0582875112035084, 2.571844498216019, 2.4143506976363813], [2.102412873273651, 2.864427711243139, 2.3619188373480746, 2.2457690902278817, 2.0131100791859264, 2.9260056084584427, 2.600179399944909, 2.1274104971140404, 2.3731474580706036, 2.6680780642376414], [2.7035991608435377, 2.543685376618895, 2.0171222605188563, 2.476450420181481, 2.293963142605688, 2.3695825415147604, 2.5034111257510427, 2.4429725954063075, 2.2924042828991156, 2.4922672332929916], [2.8891897048706587, 2.1117348310453763, 2.4605023123692753, 2.1069453348781297, 2.9257925370471582, 2.8775949318185594, 2.438158239402999, 2.560637656419294, 2.6214513322903157, 2.6312490720300215], [2.869933493501013, 2.0215697745727446, 2.737794188491309, 2.4414442602169717, 2.980844696969092, 2.431531982310981, 2.8543695821317154, 2.4182842423502744, 2.7191997235442247, 2.387983870357925], [2.746847910330673, 2.3457861849684796, 2.679919145803913, 2.7740274277934316, 2.180827825688881, 2.831172686795415, 2.240672870640586, 2.215194758688251, 2.365135806769305, 2.5122063919637174], [2.8828299282706515, 2.9943048694099264, 2.5582859585091393, 2.8562336916055973, 2.5002629434857724, 2.2884829120667947, 2.321847566518167, 2.9258829575922194, 2.747628896027579, 2.3263695343123167], [2.949089251865068, 2.1392609642430545, 2.2585964041956665, 2.3457335786716444, 2.5173863980958164, 2.1860656035079744, 2.937075680568594, 2.289963659317785, 2.0968825636160604, 2.6090333955505054], [2.3249056228401663, 2.339749940683342, 2.6098849801954773, 2.106062977300207, 2.127103836573625, 2.358085304491868, 2.8305411044493214, 2.5172347385402167, 2.097477579292897, 2.99647407470627], [2.367137824039574, 2.3035176935585193, 2.583420967450848, 2.52462384647685, 2.349573876109525, 2.1358062853887976, 2.1153382729749395, 2.295673407830496, 2.256847991122765, 2.2048842259265506], [2.793673090247675, 2.3103283537389574, 2.1790781683857285, 2.283057864325649, 2.1135018825774194, 2.4493484174120477, 2.339704717082523, 2.7460574839139964, 2.014076240830013, 2.2443264742910336], [2.109824089525068, 2.9169690779736417, 2.460411927203983, 2.299638887521832, 2.5611196661544713, 2.8812418644138513, 2.9237538027643217, 2.7162302427261906, 2.668846723828568, 2.1374863695474353], [2.4407004253810305, 2.0761032647820916, 2.8180965239140514, 2.628902111536132, 2.8860048541852397, 2.589981630371708, 2.064594012059304, 2.639308103257769, 2.169528234049972, 2.434388629889008], [2.942641509584164, 2.5576202904072356, 2.5910851729115407, 2.5469106034955695, 2.820078898277824, 2.224511277588749, 2.8518953185773994, 2.243742040533954, 2.0915350133946307, 2.283203857730971], [2.6175699250977416, 2.14753535922047, 2.7660318172160316, 2.251450746953282, 2.8279926336650796, 2.715781519599333, 2.3107837905077773, 2.3004242091939755, 2.0608752422564853, 2.9569757935029015], [2.3762891429156534, 2.9173501395058654, 2.697562897096161, 2.4683568785770778, 2.3330263273053546, 2.764165341010247, 2.591184979292344, 2.7146137841909135, 2.4015556809964544, 2.881324709691367], [2.094436560277571, 2.4746863050159953, 2.357335254986668, 2.1514006916950903, 2.7061857141173773, 2.9422003692841474, 2.653986830131066, 2.3228633526795983, 2.332751767754826, 2.664540726252887], [2.716768786228507, 2.9954215946312535, 2.951998187277931, 2.365312596916407, 2.0119130549417514, 2.5219480403432715, 2.945986904799225, 2.9868145216331117, 2.751357838543579, 2.5791794523071103], [2.0225178515733386, 2.275359904872236, 2.869418748142958, 2.5357157860287844, 2.8007114513360376, 2.3162425869538272, 2.6581996210945533, 2.2452372799327454, 2.4746643150134355, 2.4146522505921544], [2.352407251083195, 2.086780671532515, 2.90347652958323, 2.2822497968394453, 2.7100612635174026, 2.015127875539851, 2.3321585466832606, 2.5736523918526375, 2.4942869853649685, 2.1402932925420513], [2.972117364764748, 2.846447046461829, 2.1315189092486264, 2.7297513402673848, 2.153411021953699, 2.6260703580374156, 2.9439660045873697, 2.1018042977541915, 2.658396526809242, 2.5442126376690455], [2.7726659633242234, 2.6938790580503187, 2.8062887151671134, 2.994930626133221, 2.994508692655044, 2.3723027962829524, 2.0606060990379147, 2.510787686819332, 2.939449974723517, 2.095994619068141], [2.270414970127576, 2.5898036319153412, 2.4893874621871306, 2.5621044271917346, 2.3117491269356423, 2.951890852758772, 2.615004374664389, 2.0071545343435773, 2.468043506596243, 2.4383889062094295], [2.691882412821447, 2.477363210699465, 2.1824258158626857, 2.002331544043651, 2.8705561666526025, 2.398755493165451, 2.1221087263911036, 2.4637018375463464, 2.139658385156113, 2.9665822964331916], [2.9238353387234115, 2.8501800028691013, 2.276441861487192, 2.9443521834871555, 2.3023503782007455, 2.1374156976332808, 2.7134721810667526, 2.439012676074329, 2.6815562624221574, 2.373938543728551], [2.3239012004577018, 2.7361779166708002, 2.432388441390022, 2.5968157118154727, 2.901454852289399, 2.68398817871403, 2.501798118009719, 2.7841865572376103, 2.3014228205499516, 2.239078800306584], [2.6952172148607136, 2.478844501348832, 2.644888181913134, 2.4576825660533244, 2.420311469342279, 2.016198805285061, 2.3901571780353366, 2.3624037462251466, 2.03393859060685, 2.712470133045562], [2.0621189089189116, 2.0761568549002325, 2.012867948610391, 2.8926101709780485, 2.9314409846546337, 2.8952029623853544, 2.158793346917463, 2.483397609659762, 2.262410677884384, 2.195891630453418], [2.037577404845342, 2.3587885202953087, 2.9088516512139293, 2.796310638983702, 2.0349082527698354, 2.888124905377037, 2.5863205360264017, 2.4357962032249, 2.130607666540585, 2.501975021457624], [2.7471463542757064, 2.384242536715111, 2.4919649670035584, 2.150539733714732, 2.7259144472975825, 2.7736959465458133, 2.8282216094134163, 2.0750431346761857, 2.0326426093613597, 2.0441963233881286], [2.4082528407420445, 2.290601192477467, 2.9957053882074094, 2.230581867346759, 2.1953276543969187, 2.857110096508637, 2.917073913251416, 2.8842044738549353, 2.6420259205194543, 2.788085071718305], [2.37190655633537, 2.238760862243815, 2.8854597330069756, 2.2492003805903185, 2.613016974873002, 2.5973485858802485, 2.59673725037767, 2.6797301769299997, 2.550128174004908, 2.0668921561984908], [2.6072612592122275, 2.976984449455766, 2.69091332459159, 2.471003222733164, 2.8160287338840218, 2.3886208840212175, 2.6436054584061326, 2.846031889669688, 2.361618668043257, 2.6801411926039043], [2.5110210406213445, 2.2679559393995214, 2.988471780408459, 2.256420103430769, 2.119176370754491, 2.183833366253402, 2.280598183729565, 2.0195619199670682, 2.6776082180617005, 2.056581340643327], [2.161728934991341, 2.2090975811292943, 2.3137481231639168, 2.509646384351074, 2.471782487153062, 2.931173586143614, 2.5511240993768634, 2.4696933904735707, 2.7974125028357717, 2.9377865873219795], [2.2841993670698595, 2.3460098380605725, 2.51661581351478, 2.8891640270583325, 2.03501029852076, 2.388804426172218, 2.055264116029237, 2.2902940603712048, 2.532505349064803, 2.7666604621470254], [2.898012662561184, 2.9443294477093085, 2.0429187909613393, 2.021346261587137, 2.0611639206895926, 2.3326345514956004, 2.1534559135301348, 2.501107705997553, 2.6559626192846446, 2.238323678274883], [2.0033854520250722, 2.3124409944089965, 2.02336895360613, 2.752225193799697, 2.643749674877887, 2.378654211345685, 2.600518703696201, 2.105382973346628, 2.798605809658911, 2.540265590200057], [2.5661899543447277, 2.803800587281513, 2.6474981983836128, 2.169857506472102, 2.9292145857391536, 2.965445952836142, 2.7258305533731164, 2.7034880197144373, 2.4242149949899066, 2.7229619981874817], [2.6540852716042065, 2.5025740857945844, 2.065316815563683, 2.5105804331402934, 2.019578727146078, 2.4085786847980035, 2.111379809006122, 2.678464215855267, 2.0646751868149757, 2.8299496402743274], [2.455274781987402, 2.688852349910734, 2.037936388323735, 2.472516232645881, 2.390687485781686, 2.2384940735540195, 2.1582808749602034, 2.0572461125181003, 2.774450860912709, 2.474516255631465], [2.4820836481793433, 2.253007245492796, 2.0234078320213875, 2.555432059980518, 2.3510920926253043, 2.743365294848972, 2.222604078698533, 2.9317437853744033, 2.3757698489539205, 2.5915023947967355], [2.4850750211759634, 2.7827561564210903, 2.569465579744486, 2.4329625821455862, 2.934491060777795, 2.678877818784901, 2.2423501599076587, 2.9679381659681328, 2.8054959019294277, 2.6704032522599865], [2.844060971329337, 2.022182826594325, 2.2697583702199684, 2.7209353312334903, 2.298665419692787, 2.071354464474555, 2.7925460497541588, 2.3771877745704733, 2.153785042965607, 2.7379650916610574], [2.2995723479932204, 2.317377208318092, 2.2066712550964533, 2.512311888470559, 2.9595270813807475, 2.57679478944679, 2.6263714189622798, 2.932863846337577, 2.936472504677661, 2.6701340552545707], [2.9354015807061895, 2.6592313414909685, 2.433331380278426, 2.5026876591614684, 2.787332962535574, 2.438118388840947, 2.182863789219091, 2.14227310402656, 2.722804662053381, 2.101102805276776], [2.5803542017426047, 2.583353013107158, 2.0971398034746667, 2.38467909045658, 2.469690188189438, 2.3729490250866623, 2.923226923700862, 2.8305736239659405, 2.301337139916431, 2.490709567447829], [2.3710275625573116, 2.3364066479190284, 2.4889414022511005, 2.257801189649725, 2.220337523560919, 2.3470634174946494, 2.1001501631596606, 2.312612399634205, 2.6090670647835212, 2.6557715601593515], [2.1814375095459093, 2.653551516967315, 2.930300484090389, 2.181805171158503, 2.9274020900185223, 2.28660837695665, 2.1018556478389905, 2.676275783124058, 2.873808258031665, 2.557973516086588], [2.589496579463284, 2.9819610390213587, 2.527435064462143, 2.070599030398224, 2.6346207677542184, 2.7379064260255292, 2.883677389480046, 2.8200768320220386, 2.0056041518365646, 2.81255550506006], [2.6721012970832057, 2.1389917102717253, 2.4004668265032336, 2.0745486347590822, 2.5510718900132083, 2.476319045881969, 2.5274112588600275, 2.2832616856090775, 2.034401038231948, 2.3634924449864316], [2.978135805606372, 2.3323055534954467, 2.9478552082055236, 2.3589927048909414, 2.6151378621681896, 2.8345089598268385, 2.854753027101149, 2.685476478235425, 2.293176230783377, 2.202230203424085], [2.573259049552878, 2.844005991096898, 2.513656286624852, 2.8438440834548144, 2.3033600666632728, 2.6079490080320267, 2.2278161510979313, 2.354321761314384, 2.020915221559569, 2.0791421947916278], [2.863126794483678, 2.2174022773253754, 2.865673629393008, 2.6194717978225874, 2.484418684832766, 2.645483337421463, 2.80147713194071, 2.502052125068797, 2.6786370447664285, 2.721667131515613], [2.3768111900389406, 2.791030931774409, 2.618344802942721, 2.963103942141072, 2.13184303650447, 2.4868442232546855, 2.7171046066730886, 2.8054791289406755, 2.468797399358781, 2.286927050079396], [2.5162385449534215, 2.180537389620696, 2.8927225285591796, 2.3761043887275224, 2.782014657437221, 2.3266593371394273, 2.2700998645195587, 2.8124187920751678, 2.996823759607025, 2.038937073839028], [2.3030023942194275, 2.67399983834764, 2.1710215379678393, 2.158477318622046, 2.7636152718435936, 2.6495484738548454, 2.9211734096149984, 2.3023081528040223, 2.9109552465161945, 2.9368421443794013], [2.5355340776171325, 2.316333792814126, 2.417853075902341, 2.355065000784162, 2.7385546833948187, 2.773828737513335, 2.4221825944465736, 2.881879448656298, 2.1336986861320604, 2.537061869976039], [2.596089019852882, 2.7158605338602833, 2.148117059626714, 2.338974235178957, 2.15933355299042, 2.32280687195446, 2.120706464905479, 2.474839233360142, 2.644567280019401, 2.3502668019714315], [2.7382114810856883, 2.4028996760059056, 2.28606095597119, 2.1587437250087556, 2.7147257697136893, 2.2044800938658335, 2.962327368718488, 2.057951071041079, 2.6482011325201427, 2.4137024529560764], [2.300741585616667, 2.262917272839627, 2.485675473120222, 2.9551860086783197, 2.577669944629847, 2.5467947526340513, 2.119631285518148, 2.361497615028169, 2.4809392967127195, 2.4912181374492035], [2.0802568544238285, 2.4792266179990774, 2.2493185157688798, 2.749847379998069, 2.4667152799887804, 2.460114226038899, 2.7331261104758338, 2.9337987436179898, 2.379517330690552, 2.1146227813420113], [2.703393409774601, 2.575323791288106, 2.4548145299482815, 2.6664010075920492, 2.5448576252241013, 2.53784821028906, 2.7868355890234544, 2.3320338117009505, 2.2133068504623057, 2.3591139712055544], [2.542279608601965, 2.4125562667034766, 2.467503190203389, 2.7354361797855535, 2.7542114347989175, 2.047846338305091, 2.9466388093574656, 2.06156299118385, 2.8574720491221934, 2.3891034527530177], [2.3052221774439636, 2.166672692397548, 2.854383736341937, 2.0381166353704856, 2.025674401011352, 2.5178541912031402, 2.351775506665361, 2.8806361040135267, 2.6292123692283837, 2.043757674922013], [2.011986980529777, 2.7831085841827434, 2.1736308595838683, 2.6752045169604037, 2.5732557262775093, 2.174374907021421, 2.9450179786154846, 2.838375096276649, 2.8137572071155184, 2.288699533519475], [2.4121305229145653, 2.9954756804356393, 2.2624660756934496, 2.34829839487026, 2.3897330706727997, 2.8586551120221437, 2.7391703875671967, 2.094321159126082, 2.3990635833083074, 2.348477884247263], [2.2166256400713396, 2.4082179275009423, 2.8014545893695906, 2.4000634772685014, 2.9565919325961296, 2.3847293295662313, 2.133666654295196, 2.9210296196704153, 2.2634997050930226, 2.8720483500870655], [2.4925005709207664, 2.7935570691674196, 2.4784040499980153, 2.7576371986283346, 2.8909661136692058, 2.4307008385994706, 2.22223334236552, 2.234996294259195, 2.6384966338789235, 2.526545892832905], [2.969224269883685, 2.0306543522218186, 2.611142158617362, 2.5262172763157498, 2.267539616731205, 2.8163307038253653, 2.0270516488009576, 2.0782038968250562, 2.7849258258668184, 2.8229019180834345], [2.9426942573530406, 2.3763520221967402, 2.0389910722659668, 2.8635080943084743, 2.9076699381040596, 2.696073316351239, 2.4109183922899136, 2.8313670318785693, 2.7856011000408776, 2.5175126719052523], [2.370717569570445, 2.561552510125798, 2.5451031535718514, 2.99591825028055, 2.3949976406550855, 2.4015399392757892, 2.6960096709518098, 2.2323703918556896, 2.5918426682171534, 2.5182237523397597], [2.826570619513465, 2.9942761123309802, 2.992126141339249, 2.0581402622337652, 2.2801214876118325, 2.568773725973245, 2.018677534316666, 2.6104594743319316, 2.780968975112849, 2.2963335574857533], [2.8423552689901976, 2.3657086803388685, 2.2437907584632146, 2.451893870447738, 2.15965695186655, 2.940144361321313, 2.2812618917159666, 2.096237878973054, 2.693539013793289, 2.4055633740239353], [2.6323768863732315, 2.834439274419307, 2.5014483023126743, 2.1774649439877174, 2.4384874724530285, 2.8594450818370136, 2.528219153692482, 2.078597590694687, 2.5603378696269976, 2.54412791850796], [2.514272077453492, 2.2312590762531705, 2.2224954054113386, 2.9041959107518753, 2.7243715372311264, 2.0803702667856117, 2.842979778613616, 2.318960984977779, 2.987922112814966, 2.8403353820489796], [2.989945337200528, 2.1680708705469547, 2.88307482046879, 2.068664299182432, 2.237887528904766, 2.6697624223694634, 2.5710357442180345, 2.3004711846614563, 2.075831699096801, 2.899683809669253], [2.6023762345061616, 2.3379000465786755, 2.1977922245295796, 2.50646064295076, 2.299030684643688, 2.4779791045844557, 2.760100012041277, 2.4804051862361973, 2.209650170881698, 2.3509519276013666], [2.5237114375992755, 2.5406539398014885, 2.0708578483106583, 2.7269150017746826, 2.410778055054201, 2.739289922647121, 2.6020656706589733, 2.6335645414962223, 2.987213925686474, 2.9011094081776676], [2.6038217418232654, 2.473369240398664, 2.0926270390153108, 2.0957355590122484, 2.8140566586101374, 2.356013751213329, 2.474034410878048, 2.1998534068619593, 2.887621221290576, 2.5475772040530646], [2.672799043444371, 2.6284724185139536, 2.2000699424240464, 2.649988324733875, 2.355809097557648, 2.126436164250069, 2.0689913169486154, 2.054641288999854, 2.263711815042979, 2.733584295531915], [2.893460751450751, 2.669217025438904, 2.4196328872432917, 2.563785269107747, 2.595728677527706, 2.731003628430323, 2.082930941477997, 2.599194726546254, 2.6565821733029367, 2.439553040721551], [2.939708662543866, 2.445394043198553, 2.766608773828336, 2.1796499584237936, 2.80303784865661, 2.8424396021428446, 2.2623642034287053, 2.349824715365112, 2.1022050934382475, 2.9845197735448386], [2.7785025464211692, 2.0586928468157493, 2.7135582876720776, 2.998086089099223, 2.8223798900965, 2.8064346734792704, 2.598924897044669, 2.082487531239422, 2.024814726114688, 2.7754939223473767], [2.8055128949675594, 2.130090155700355, 2.247964072765978, 2.037810771733552, 2.122747101736251, 2.7827593094325302, 2.5689136065483824, 2.4111635365728565, 2.035774773148053, 2.0859582426454524], [2.9533338198292776, 2.792524680058419, 2.224340219067896, 2.0624028415288462, 2.2207214548080554, 2.3621757462209887, 2.938857938693875, 2.991552492946978, 2.565766403889341, 2.317602236906444], [2.5321582068687922, 2.3960001312236336, 2.0401095395543067, 2.736307787383071, 2.043030674849785, 2.9072940365254714, 2.204812574975711, 2.8270422211894735, 2.662857568568451, 2.449521755871809], [2.5995851537761743, 2.5389973270408728, 2.502209809586938, 2.250922596370204, 2.210958748094697, 2.206629562187702, 2.267090379085699, 2.6353548550158177, 2.223183979719268, 2.7749951531164156], [2.050153265666287, 2.0762224820775663, 2.3611260317825495, 2.904271423115346, 2.006860708641559, 2.194539677216594, 2.0158282114789765, 2.9892574978196333, 2.820843309505809, 2.8675240003382614], [2.5071286310636265, 2.4020364984717326, 2.0759990628392013, 2.6456998248726658, 2.7305530030595504, 2.5956821906880703, 2.7738553997130047, 2.528527990438051, 2.5841984861794707, 2.986191394264812], [2.2861929666700496, 2.853441324566627, 2.5539710882553166, 2.1502309558346124, 2.158407144649947, 2.4034312113975353, 2.138801382466015, 2.9999330044280335, 2.120887008245213, 2.497050044360494], [2.7469330964525986, 2.105404587657084, 2.9311730218003267, 2.069830116634146, 2.821998411340917, 2.74986668771936, 2.681374841143973, 2.576941673273094, 2.139615579599472, 2.794739727466998], [2.6217839869347745, 2.3005134298520997, 2.749025135253576, 2.570780087831076, 2.754088909174001, 2.0962053318828975, 2.662768789204029, 2.2314364744059065, 2.0348304210746586, 2.423935401628569], [2.1997641889448953, 2.4253922290265573, 2.0381978178989995, 2.824364095721336, 2.4802706306226847, 2.364922646931922, 2.087500468108358, 2.6247538891630056, 2.2571397106098074, 2.2188863523199545], [2.761684881904742, 2.8842754999295037, 2.182067570363825, 2.865721889317763, 2.5687542606599854, 2.4302496395067585, 2.6822011536179136, 2.8727249836600475, 2.8898332851075494, 2.0029046104644035], [2.1144406458418836, 2.497264920921962, 2.717911044364179, 2.5778075710839246, 2.7021325555176583, 2.1326966112031274, 2.3055374815319007, 2.007345378815887, 2.6041690986628043, 2.343552801889696], [2.921831848142074, 2.220706746554737, 2.335645843389084, 2.478497744470846, 2.894263222297658, 2.1465775538172993, 2.682241827280276, 2.6070411951937387, 2.0211889474503284, 2.792078062323764], [2.314971489925866, 2.828332134856473, 2.3031173939942207, 2.4107391418840476, 2.282416119537763, 2.0522395319661806, 2.492107406603266, 2.580655897395225, 2.0519127643955497, 2.0516833163397], [2.6110002216562638, 2.6455149228517856, 2.7975379799500457, 2.4869407970991153, 2.7719302124114646, 2.9821596023368215, 2.2903132294621593, 2.1723739552125694, 2.2353533645943937, 2.4774469942148105], [2.4455734775265148, 2.888806348898519, 2.399879466826014, 2.1106555351697516, 2.0972208733260262, 2.7963702898431926, 2.851142980470111, 2.2733510006019606, 2.4712692000405, 2.592392339112795], [2.2775208827159172, 2.1419644410664747, 2.1260070595552896, 2.4753109894738126, 2.9581148397379, 2.5041977177661527, 2.108441407030937, 2.1963504657144064, 2.118032846243388, 2.00577388414385], [2.1916543812650504, 2.226002173458541, 2.4231260401108834, 2.4034428656401556, 2.6021940372655044, 2.9940330146937777, 2.97603748008107, 2.3833110507729947, 2.3409542877254674, 2.875934731986991], [2.3199554566848843, 2.1765229297479554, 2.1046106256610155, 2.521332926339745, 2.6779448770983225, 2.980601244480873, 2.6933819304826487, 2.3777908902484812, 2.348825218847748, 2.1776740391590397], [2.1101416138274836, 2.4162762438569114, 2.1553377355874503, 2.0794805353746466, 2.442886242966601, 2.587058900245614, 2.708492397322127, 2.3207013537287113, 2.5415580671926725, 2.7386975770207402], [2.369395551542175, 2.7426743034058356, 2.6641533960028823, 2.66989351223214, 2.2810915576654125, 2.477790054042245, 2.5410621042322328, 2.8922236784677646, 2.1163393323749498, 2.9382521742352337], [2.2404585204750638, 2.3883350430866144, 2.197675061231294, 2.135259365362722, 2.907262427239717, 2.9389312850651255, 2.3775106045015555, 2.9375110616969335, 2.1055784280299705, 2.4159834780199723], [2.6325505882533147, 2.8741863681426807, 2.444098731545774, 2.7426007699144854, 2.917689279167215, 2.261368786329362, 2.6934762981145925, 2.550832849037425, 2.145728289722401, 2.272406021095234], [2.1876776603096353, 2.9376039918611445, 2.339088369157949, 2.594924953330535, 2.409618756917145, 2.100059019258163, 2.0822008920291664, 2.0713646212473202, 2.4416334310578836, 2.6064063869248075], [2.8236668388476476, 2.4925350526983476, 2.421763236193747, 2.2945687903268928, 2.942886438203375, 2.113444878299078, 2.5628979955867237, 2.736449248543579, 2.9182671767287927, 2.5960047953081298], [2.2372743522269154, 2.089196829721788, 2.578769676927834, 2.590977852397504, 2.8963578614061873, 2.7437936393780586, 2.2373905069975653, 2.498650564293468, 2.008823620156147, 2.6306615494621637], [2.961770845651939, 2.5522221091396524, 2.8629941417066, 2.716198905249481, 2.4254032793480547, 2.271668995671538, 2.279233026598436, 2.227555641015779, 2.528383429671114, 2.33497315778176], [2.1874003760361305, 2.169859780842585, 2.80937847612503, 2.5418851356990046, 2.1578138953633097, 2.6291493587311616, 2.1824773075190897, 2.5122912177284147, 2.70892291862288, 2.561416287793178], [2.752475134114549, 2.7851641872575543, 2.159044754333937, 2.4980377463068018, 2.5139383244523903, 2.539087433760962, 2.0786529916614374, 2.239355434337956, 2.7636394675831473, 2.8446203829469865], [2.305415539610728, 2.9927227196652804, 2.483305270805908, 2.1056775919263244, 2.5482656809019937, 2.163628460366357, 2.7026584427254914, 2.6219316227675384, 2.7444718814212283, 2.192717085120137], [2.7472088694059686, 2.707536538455362, 2.627434141089396, 2.175406427057271, 2.7558488204414933, 2.4307166827109254, 2.72602959499207, 2.1162759463721432, 2.019441520539818, 2.6184406096461466], [2.111955860776333, 2.2297503860303793, 2.4486670280675433, 2.672383993479751, 2.345890956056496, 2.6143073257673617, 2.9346665382467565, 2.379818045168885, 2.8990776427956426, 2.2998844657378408], [2.805928103379071, 2.5925773543111417, 2.2928977997180984, 2.514983125852524, 2.1365686896215332, 2.2649777033554126, 2.5674503333117276, 2.1535527493044557, 2.3796149869935337, 2.355479360307065], [2.0685261751610886, 2.1325303183323996, 2.5262938756042317, 2.8604418770992677, 2.092996602300619, 2.7185226582852713, 2.474929855844925, 2.121593345744094, 2.4821007829064143, 2.185858600269625], [2.794778352224643, 2.258464710103225, 2.5858441632162243, 2.7219923967568094, 2.890599890419926, 2.920724793588374, 2.000129007695305, 2.3640346013999625, 2.231694328537007, 2.9514508302963915], [2.2483831251101853, 2.3062444490010607, 2.3594157099229953, 2.4272876496775546, 2.959911514967354, 2.650739224717107, 2.6096049610508096, 2.7853154453024747, 2.8271970484502056, 2.538706192671251], [2.6086727984752405, 2.5929111774340914, 2.63770473359571, 2.8229011827986272, 2.5848602141070605, 2.8714390402633754, 2.247453306529808, 2.4950330741933215, 2.0226328583314355, 2.9938179974373247], [2.428626494708462, 2.116501299724404, 2.4947987172054105, 2.005816948155519, 2.7283366781105496, 2.2832993231528786, 2.2649340475372983, 2.795755614314288, 2.299507805019136, 2.963916338052971], [2.6655145699754055, 2.8310910382354506, 2.7373226173383105, 2.5327539724243575, 2.720753565529779, 2.4014296723213095, 2.215156549965455, 2.7196603339463925, 2.903683206006169, 2.9257365939797353], [2.798863938897771, 2.4167457739914586, 2.1195777109133296, 2.115309844191941, 2.755677723948807, 2.521793512648032, 2.285619339991132, 2.744408581285793, 2.2094589572162175, 2.3062161680542603], [2.328522271898247, 2.4736219034539535, 2.847104512421381, 2.2800648517962276, 2.897629274373093, 2.6177218575147, 2.964897770194848, 2.8528990443622146, 2.38236397728658, 2.8415671559479727], [2.659893945350751, 2.2313675542975515, 2.7698977642250378, 2.9565556708835907, 2.93848935866358, 2.952266045537166, 2.050367736227049, 2.8131880155171136, 2.6668256076834727, 2.0825132266852076], [2.7447907655468997, 2.2226255034304345, 2.0971762129777547, 2.747644415584677, 2.860729335148282, 2.715300874126586, 2.55399810376936, 2.340474931249108, 2.1295746231691064, 2.9698043911194607], [2.2753339564477972, 2.0679527212031767, 2.2530863472457043, 2.0701338658511266, 2.579740919095269, 2.3400331531523353, 2.6698044662863447, 2.0319304375279743, 2.8033668968648144, 2.4305324884896637], [2.033938795999445, 2.6577234288699465, 2.878735821836549, 2.2646348483893606, 2.730472071092758, 2.319615842128676, 2.215971316049739, 2.7514521651830326, 2.8203050190511223, 2.8882845118497515], [2.6338351484410625, 2.4482659057031513, 2.8179670178845284, 2.581884319045375, 2.7179650846162735, 2.309840646421502, 2.0540130058592982, 2.0703004627052892, 2.5844306049001373, 2.984084981935673], [2.4420245791531072, 2.7498222246065507, 2.7637972960323953, 2.992382926240016, 2.116161627086756, 2.2751586255719443, 2.0336605113433075, 2.9375514311272966, 2.2561162544881737, 2.2098304630587755], [2.23768181497014, 2.5377497705833214, 2.5780473479651604, 2.874017434463856, 2.4689280156870512, 2.8445960572507785, 2.35541033988536, 2.6682661745648844, 2.457478499107729, 2.918266530799435], [2.356722855478645, 2.524289554805077, 2.424888828916791, 2.2308321917113316, 2.1978671606500093, 2.1107843618888, 2.4393780055312124, 2.0681098914607023, 2.2661045368037023, 2.259958679820093], [2.9292841263052143, 2.8383310379160105, 2.8017545444882526, 2.722663850820307, 2.705030344381011, 2.403490461891589, 2.31076939261461, 2.101189419288738, 2.449606531124568, 2.0926421433923856], [2.052856394037722, 2.8910410772293713, 2.740564880863675, 2.5279033402673696, 2.709243565780071, 2.345511139356187, 2.79137322225694, 2.0744112750690844, 2.1342261405259886, 2.564514592209827], [2.4769920964654086, 2.426306447203142, 2.117423666013358, 2.2229787587343885, 2.5814637065610224, 2.862594195402934, 2.801851251883863, 2.3287228493375185, 2.762733607847673, 2.144573629825783], [2.7054422856702387, 2.5276883211034287, 2.303089502010603, 2.1017925640243464, 2.006549070762661, 2.747009869973261, 2.8760013067452705, 2.455154548417042, 2.6451553704470685, 2.321665242803014], [2.888587701430061, 2.2514332475293424, 2.233030156439417, 2.1358550964418166, 2.472563769127909, 2.3547785056664403, 2.042715300290209, 2.983383420930942, 2.0923560279894025, 2.19070030858797], [2.36352129594943, 2.1393905904987918, 2.931803505518879, 2.625046840331382, 2.7578432713370304, 2.6240978409511815, 2.800932610865898, 2.5881655194165307, 2.238711420127682, 2.220559601370002], [2.3201742110655665, 2.1017194059320814, 2.757397807657448, 2.276577602176569, 2.311863031784344, 2.7182531904414717, 2.913636816920798, 2.51233843665325, 2.108072759414855, 2.23503363540295], [2.0078718024859326, 2.579013727226121, 2.435158990535368, 2.684494253572643, 2.8531012690308932, 2.965793166650814, 2.0495094350072476, 2.228054323312264, 2.1394295613457497, 2.538774394305212], [2.815825068940723, 2.5816463488171584, 2.043547396467959, 2.8675783160678003, 2.3116676387638613, 2.070324870955697, 2.1071385694551465, 2.525534224876381, 2.2611150544320577, 2.0394573900606012], [2.2525877163378683, 2.705242330548104, 2.7664577658445673, 2.898970818030872, 2.579614029814798, 2.95114153586266, 2.8205394447046865, 2.6098553301217464, 2.4756503571957817, 2.658966649703692], [2.616209012951292, 2.8426071112083915, 2.3571523123171714, 2.833974441674117, 2.191680927333685, 2.7791543198389865, 2.8934175141065697, 2.512862593969059, 2.4728624083514212, 2.2242787497896446], [2.9593189497117995, 2.6647779787611214, 2.079696643586204, 2.451730184616674, 2.749549330688787, 2.801005842248556, 2.89934348091646, 2.3732930329328736, 2.75942185980565, 2.466644677754806], [2.361036915301006, 2.619828804555873, 2.106130326170833, 2.4472255421275113, 2.190148950839321, 2.5442187449980174, 2.0358055557465464, 2.205462246550246, 2.4675699877170936, 2.1633362700394994], [2.08540768181951, 2.4652389309385225, 2.275734140990161, 2.3621719467928823, 2.0252460981187044, 2.2958901931931166, 2.029733099751409, 2.0601964898121117, 2.9621357276459612, 2.5778283169492204], [2.147027230065625, 2.275913243253877, 2.8860907264241886, 2.3521197758673167, 2.432061907060511, 2.4027532815110355, 2.0057370436839914, 2.5841613553924225, 2.910406311866572, 2.8999466118536428], [2.117206005016046, 2.3925883599520965, 2.6068026245670723, 2.1743817118995694, 2.948635475157071, 2.599951050631966, 2.7402057228736982, 2.276240585844959, 2.190676096069099, 2.8050049412099827], [2.9293879172806947, 2.2985604242155833, 2.573806904462781, 2.241492738979781, 2.711433479120049, 2.471137092542724, 2.115286708459789, 2.923628740545847, 2.6762775058689083, 2.854979223082575], [2.550176369649068, 2.714340798278846, 2.774547920857169, 2.071503609154896, 2.253182454173598, 2.233538884203665, 2.9618885119921026, 2.8440077577939356, 2.616005651164709, 2.3768154570726807], [2.781513405153315, 2.417204349027527, 2.5209103578046155, 2.4828701323994586, 2.7754066955912995, 2.4366473655871257, 2.589129903184637, 2.801398209306469, 2.9731384479730125, 2.5413329091913264], [2.456009551011716, 2.088542324961671, 2.5553295325974412, 2.407665075438762, 2.68523454672179, 2.442349408076935, 2.357349024576142, 2.385170870586961, 2.5184567986137756, 2.1173788028546645], [2.715415301250766, 2.466534418262966, 2.558553131293249, 2.6262476402909427, 2.550215450327259, 2.3990915942089313, 2.373557902959221, 2.0182106469360823, 2.555541440493452, 2.9326108237479804], [2.1868323122544657, 2.534129094533653, 2.58995673336386, 2.3528502784386647, 2.114232291816979, 2.128564569338582, 2.4852235850958175, 2.464520104974409, 2.2365700311009125, 2.3621576135253557], [2.024251780021434, 2.8389159081366757, 2.88275014988231, 2.965855218545883, 2.9752648151528094, 2.7073714423271613, 2.6919346329987075, 2.727307660320424, 2.8426008428564242, 2.3451876428510254], [2.764627301724029, 2.3047413233782326, 2.482640584964906, 2.6091084832624856, 2.904045422959306, 2.290780715661164, 2.274858054823424, 2.132710529978299, 2.095971992672902, 2.793011820570618], [2.1746245951864434, 2.7987318457604937, 2.2439177297930404, 2.6899803207350166, 2.882581201989429, 2.9847769587853383, 2.006408458793391, 2.750975091827961, 2.7739844500330206, 2.5292309180278085], [2.085180868502582, 2.6811964534579786, 2.44750309367505, 2.6079080051939174, 2.6555269574830715, 2.7643836372266617, 2.3274991783220838, 2.565435104734831, 2.147677800474058, 2.8846091356856207], [2.8431356093738804, 2.0433211154706212, 2.8941951808795165, 2.404507799420062, 2.0452686541079577, 2.4483697929390504, 2.3901666435796876, 2.6385936752529964, 2.191304590552756, 2.2681103381612675], [2.2744447147071587, 2.395056452190615, 2.080709038630794, 2.7136751555891747, 2.146449294215682, 2.3651641010311057, 2.905835994946357, 2.6763425685670055, 2.3186604910647746, 2.0775934163486287], [2.021785959704243, 2.3092798712871945, 2.31807160448088, 2.119408002382618, 2.738639630768363, 2.760595836728019, 2.1599272437687826, 2.3033557547191874, 2.4569501894574595, 2.776878155837571], [2.5624983652166353, 2.443272475879078, 2.381711659889006, 2.590144243206576, 2.3736617929324453, 2.4086612865679085, 2.7993084320279547, 2.119296110426158, 2.5529233072539794, 2.145476077841466], [2.652214113036737, 2.6662487954967835, 2.9927089343783315, 2.8122829813762333, 2.77267446149324, 2.770674292894645, 2.0006314340914377, 2.4603923675084327, 2.354073057786735, 2.5971444803274997], [2.8521561661834753, 2.489488427062624, 2.9250406195171315, 2.632128685838847, 2.7331521304750286, 2.818616917027079, 2.517159807313509, 2.6546982922404236, 2.9792088074716556, 2.4891726214974224], [2.42676481426497, 2.500688915333371, 2.868645687051257, 2.88098195757249, 2.850100733265272, 2.863530883601079, 2.1364252800107755, 2.4719203424493186, 2.0184016119746095, 2.140662293661515], [2.197104959331877, 2.1637745105544575, 2.4629748598519776, 2.371243067845568, 2.8274008842257135, 2.971025142604735, 2.290451339441134, 2.6861573710666757, 2.867994589427637, 2.1726488557128514], [2.788720204962779, 2.582769747856938, 2.735758770599191, 2.4353565099422116, 2.992201763460039, 2.8186427232304343, 2.640673167704616, 2.21392685306626, 2.569406763990129, 2.81605547898406], [2.777039242377823, 2.7726934883728758, 2.3092978529237205, 2.706108535347943, 2.055248637068992, 2.2391392532645638, 2.621659437177148, 2.1020008550915623, 2.6459736800449134, 2.3010701006057306], [2.7148575506328285, 2.022576111152601, 2.4163273371601757, 2.178088880985987, 2.3136584092750514, 2.333089927178831, 2.8441518683970584, 2.070269605683082, 2.1679286095574613, 2.033256395204141], [2.2853419734398095, 2.4083848022388423, 2.6498246964788996, 2.449467179407055, 2.342743431295889, 2.013609006314256, 2.231360745622054, 2.14219630948984, 2.5325684803576918, 2.304173208733885], [2.715970498158554, 2.244126825717735, 2.827821389834357, 2.64152169098033, 2.194645459034198, 2.7399651459068175, 2.935325677737188, 2.2106022460367813, 2.732300944690067, 2.2743113162155737], [2.14197348765052, 2.192962563269832, 2.460337502861197, 2.64067055277801, 2.675101732932767, 2.9006887624389357, 2.951966610692729, 2.673905620445685, 2.841748390546171, 2.4851304265543654], [2.508674158735195, 2.0972293203350914, 2.7807411309166126, 2.96360518344688, 2.1177974666790087, 2.8364793700553714, 2.0621796619202235, 2.6773425195789615, 2.379474839260512, 2.1037938746102913], [2.529845688694612, 2.2128073163508666, 2.8280733001659564, 2.5673557275709746, 2.6253060160869297, 2.2433313719876704, 2.209410665891572, 2.4379780027632956, 2.172284787071063, 2.683298499701382], [2.113501461273042, 2.927359841780409, 2.71364210902337, 2.9768288286217865, 2.0827269686250633, 2.650062080968685, 2.9697854160224595, 2.8022383406906495, 2.943238021436831, 2.591302576257129], [2.4879968550415237, 2.2528898737331953, 2.7059331368938118, 2.425066434056891, 2.3236081722884716, 2.624066824055219, 2.4441020382641594, 2.400619285942052, 2.940315021975313, 2.660269424438661], [2.976022588768585, 2.2464451398578538, 2.0924652235933054, 2.149587197279633, 2.5095337903859267, 2.4944744162824977, 2.466183388184362, 2.810592165354637, 2.377015634532489, 2.9192574118385455], [2.407772293921848, 2.8103259162159926, 2.2068054725121953, 2.5880643674596, 2.830204770952686, 2.063466839520324, 2.316460174948212, 2.259338034764857, 2.885083754668311, 2.2428863597463837], [2.0050957660211917, 2.6782889416464775, 2.23383903688732, 2.221403639846429, 2.738213536780315, 2.7992306676341276, 2.747782639689117, 2.599989796495597, 2.9965963522855703, 2.602070500035445], [2.6484906761098714, 2.4881724096780324, 2.3808312664561657, 2.124334190114578, 2.463778797706324, 2.0250753269231256, 2.8408306440244235, 2.7988401495749753, 2.1791379274433496, 2.42609200749063], [2.8108219508155323, 2.4260476624237506, 2.3933303057485906, 2.0308558934777103, 2.612290498278018, 2.3528765478448035, 2.61846582109333, 2.957741841033922, 2.8167933519005897, 2.964583544576131], [2.8873887179931432, 2.924232988982617, 2.13392861711704, 2.4508073715056615, 2.9599067426460772, 2.287844093580303, 2.4546209395820138, 2.643114639923415, 2.963432207917639, 2.9588201592552825], [2.067582522508728, 2.841148903871409, 2.2851919140461905, 2.7897466862273697, 2.20743492998556, 2.4602005203179287, 2.7792401292763627, 2.7895377575743727, 2.9555295045920604, 2.726843707908075], [2.24551251625784, 2.4168461802772203, 2.288381473552195, 2.900197680465178, 2.9681523367781155, 2.14762025852613, 2.890221539034144, 2.6882658255197627, 2.0480962960663454, 2.935993144122866], [2.1499518530303643, 2.2681688784498535, 2.4448063040382277, 2.9256615217224713, 2.44354256179178, 2.766990833976308, 2.7000151452618146, 2.2743896495455087, 2.6977243103537916, 2.4996226059743387], [2.097172709216226, 2.418694687168612, 2.421673772585894, 2.5325972486749877, 2.1472019950163443, 2.6990062903210723, 2.1663062107259874, 2.6858401305552193, 2.1719978617291753, 2.773464645334223], [2.914739288020428, 2.4831702274528933, 2.9972663086326166, 2.843118823353188, 2.4725163159506747, 2.3043411631086985, 2.8421734131346046, 2.007481341933036, 2.5519106433679184, 2.6184453620424364], [2.7387132600771817, 2.4744347099504025, 2.9841983033446584, 2.450148612751751, 2.277888793252638, 2.180772745600963, 2.087800145727817, 2.0759743197430724, 2.2425739512825187, 2.161113449910812], [2.861857399060086, 2.99927431871357, 2.826969292298405, 2.845034917676563, 2.4083277823615568, 2.2825393857866985, 2.9882663225319734, 2.823085027723998, 2.4947560091062115, 2.1647510489677666], [2.3976383723602557, 2.5682218846776066, 2.851430413622983, 2.0269790246235466, 2.628799189843654, 2.420974259531935, 2.395589994638718, 2.864315607529566, 2.331238105921345, 2.4621325568522234], [2.9968915889687295, 2.2064970456770343, 2.126256456966487, 2.7191714478381903, 2.0058564880260996, 2.6579300123247527, 2.206659450669493, 2.1017492241309155, 2.496360079918289, 2.583018606341961], [2.4100481269242726, 2.1953382113358835, 2.180287138052584, 2.9667309387643384, 2.0928875891027836, 2.849398599269689, 2.570407662910492, 2.2950180077980447, 2.2262233683281587, 2.7694870449779723], [2.6115976632143583, 2.2805891206226168, 2.3883619793012887, 2.7306133012507576, 2.7790407113017834, 2.8756493122148687, 2.5855377006396454, 2.7050166399260847, 2.8354757435148024, 2.0722908717325406], [2.1499845959812998, 2.9695851406175606, 2.9946276017930185, 2.60242599351371, 2.833584631682083, 2.126866574866768, 2.664959541492448, 2.4590693534264183, 2.405008966909146, 2.6062057649897965], [2.5283367559260843, 2.016148910662297, 2.6598798454834665, 2.362702635215238, 2.9365691884211937, 2.0363548929442383, 2.296459347414273, 2.8714566104527393, 2.63965087205215, 2.890026125558878], [2.560356134057024, 2.457557502870165, 2.035014071778682, 2.282420606667713, 2.2032035227174074, 2.69081640154521, 2.462463743561151, 2.8890622463122417, 2.6061322860964564, 2.3162101343620223], [2.4131808757109123, 2.71095475926424, 2.9962356373894186, 2.203855745799879, 2.8150087088110505, 2.8266698296240693, 2.806109702794994, 2.095445186877589, 2.8344351548243583, 2.770907460085243], [2.017712734324999, 2.3311156778592723, 2.9996730793029887, 2.4837612230357937, 2.329307221852507, 2.7319529256950856, 2.86833734982343, 2.1095166984515443, 2.4504192401088303, 2.868071474464155], [2.568718320240187, 2.9581863369992565, 2.179315006072556, 2.4673329867657823, 2.416295310808616, 2.8849609780502687, 2.6859724956885365, 2.922549839560526, 2.4482671839166743, 2.0960362942016326], [2.1366204546666294, 2.5628388897526957, 2.116322931977823, 2.9337354812224516, 2.233651118387704, 2.5643357535309117, 2.752295010886263, 2.3096929538246322, 2.115670825324197, 2.092076002213103], [2.897688831940204, 2.7766848607093557, 2.379062578245099, 2.5545967736161197, 2.3262120718784876, 2.8003157498453457, 2.377889758423217, 2.1417151625874356, 2.7037051103064815, 2.364325121640344], [2.177288110210629, 2.3389797095970946, 2.1769908630096353, 2.456423931751651, 2.6804335369968872, 2.251987242419243, 2.6611175937195366, 2.37437722242369, 2.077488328173313, 2.4249657910534257], [2.1783238956232793, 2.907979997219922, 2.351391660973071, 2.3903523975981593, 2.7922042974450174, 2.1789634539373917, 2.3616864178501715, 2.6628701979618397, 2.4513328959771052, 2.8102321781790476], [2.893285053521514, 2.763375988297986, 2.463961477998315, 2.2235947492313533, 2.1207050055759913, 2.176916101702259, 2.6474114230609986, 2.533200462371542, 2.8958790216034096, 2.451870552671144], [2.306518827958923, 2.773036651678522, 2.4072530836831745, 2.399031001024945, 2.3986783906607094, 2.3320391391264383, 2.0597817569625114, 2.608424544544056, 2.480130298276477, 2.983668257017185], [2.549964857676782, 2.8248735724637024, 2.3502270023188467, 2.2386068508953127, 2.754643845875064, 2.8764102640720437, 2.5253144128641902, 2.517060037236925, 2.5960494317365557, 2.822520840011395], [2.2413514708894406, 2.8076297293333874, 2.401327605456646, 2.738067527687477, 2.6125256673784643, 2.572497913839668, 2.9234727003147474, 2.1691629714502016, 2.2450379515078525, 2.246288054576805], [2.6364769539985833, 2.4820016563274527, 2.3429819409143002, 2.3402609484785324, 2.4188884830563366, 2.5338462820992516, 2.514098144067331, 2.7040302342074374, 2.607081302516457, 2.3441161574953373], [2.259349347761505, 2.5637476455809725, 2.324124923778358, 2.293639012567944, 2.176080384200524, 2.7943389616999377, 2.441617294983014, 2.090381906180987, 2.1253498995220395, 2.523718744818013], [2.9510516150671493, 2.306251707178437, 2.637704329389944, 2.593046567357305, 2.957456513395785, 2.7290161031648426, 2.6996494834696847, 2.0973372163377273, 2.9669253805821665, 2.0204591318702976], [2.4795508361483662, 2.691784819746365, 2.454355306774769, 2.8903233033220754, 2.3086865624261605, 2.2037937772597243, 2.2092304890927075, 2.1978821915974107, 2.630244351704509, 2.564812233538788], [2.523274794524903, 2.0054143755106186, 2.6620109278720645, 2.048637235196745, 2.891817808868489, 2.927404038673486, 2.1212474953787006, 2.798622000526758, 2.29228776409388, 2.164698644802249], [2.3504093840000815, 2.924466619709482, 2.051209927039106, 2.247919411505672, 2.840060036168145, 2.0929950273849594, 2.6055215785213512, 2.1087591810339847, 2.7489604646568058, 2.7475764995635035], [2.804032813717555, 2.4320556665051307, 2.943133758425679, 2.264620062967008, 2.627333732827334, 2.2578565078324253, 2.7461793374914016, 2.7379705484777492, 2.2490434456620148, 2.9762709227290083], [2.674698197884876, 2.9920267725468856, 2.7899404598665276, 2.053813980756585, 2.47932374428179, 2.691779796896167, 2.186771487311507, 2.916294699230545, 2.209496697564036, 2.001085904171321], [2.6507017492786513, 2.8671696164299485, 2.583820001276364, 2.8492136138484057, 2.645805632042847, 2.94145051531368, 2.663070852907169, 2.3283179983166677, 2.7339135272600323, 2.9351972573604637], [2.304420666165643, 2.986357157967233, 2.0306971311166704, 2.9779909688757464, 2.5827018844087624, 2.9069390134765074, 2.707779702822429, 2.2630060902908555, 2.431744346095285, 2.9880421470067855], [2.6947638420321236, 2.9991577580172675, 2.0735825291670302, 2.624535182655311, 2.9178464346864343, 2.55679167302072, 2.3211680156049885, 2.1502515331117307, 2.7653717371698554, 2.360694306876325], [2.561012917913274, 2.222995883400838, 2.536826020779847, 2.788695502591425, 2.4682513917241393, 2.0083810000377547, 2.081167023259593, 2.0854655260186417, 2.9707908219084853, 2.26790302833586], [2.527418205580538, 2.910013097312914, 2.3805536107482967, 2.60240892063436, 2.702179057368687, 2.3691065666203834, 2.2108604687004405, 2.171538689181715, 2.528913560157714, 2.4617045438339624], [2.453213954984615, 2.4563101865128836, 2.9730484771594816, 2.027721631243033, 2.0317660444378776, 2.2940493148624217, 2.41226041091325, 2.5213310753617866, 2.457859165764807, 2.942998537980567], [2.0741824146570274, 2.723208247625995, 2.71632987995978, 2.314610663266008, 2.4194112547211386, 2.020141398212539, 2.892420592373522, 2.814660963147192, 2.578902453466083, 2.2042067934153518], [2.42183869780181, 2.790475264967016, 2.8949861228563654, 2.9553229902772262, 2.1192617832249345, 2.227306898228572, 2.286261295969781, 2.3173339565572717, 2.8681647881714465, 2.5248477866782735], [2.2460300020393684, 2.4588066535559174, 2.333928278868795, 2.1336715740583916, 2.6621485583623428, 2.5106006007440396, 2.510999825117485, 2.0233999737330683, 2.1971741178660857, 2.2612114516763704], [2.9254088251908588, 2.934568955966641, 2.7028994696248487, 2.7241245477361713, 2.561562328606895, 2.3069015411299314, 2.366873229554885, 2.8718244674016695, 2.978967470090179, 2.3583756284845685], [2.8285370790720052, 2.5828450236585048, 2.07535187002249, 2.340935497234914, 2.249034603455253, 2.520288498613458, 2.8966089529021817, 2.4932756269095586, 2.486747868516737, 2.8513740612299223], [2.4676709778518755, 2.1281528321499104, 2.449779701719095, 2.912897086459435, 2.03445362416257, 2.5402367522449776, 2.573516819946021, 2.8169574757272375, 2.6271816101023706, 2.23272446060756], [2.0322308554103414, 2.036963879842131, 2.291722364358941, 2.9990033014498234, 2.1988807514302118, 2.5551310431845415, 2.953167159249662, 2.315378868802646, 2.3430191826832303, 2.2547664858767194], [2.8561706319387588, 2.936060317433985, 2.615491690934454, 2.41119101317307, 2.8183328588074823, 2.73005039890024, 2.710179452643642, 2.2544451640898524, 2.5047904262254788, 2.1251979242495374], [2.9394201245898652, 2.31827802927766, 2.5437346546710295, 2.2862216330368987, 2.18463920037147, 2.778429584221882, 2.8691015794240693, 2.6573957605280394, 2.8144764372580546, 2.230715406772336], [2.555886097163981, 2.1836578599915546, 2.137182634242779, 2.897091522609367, 2.286637695300317, 2.38830261977457, 2.2858037071048916, 2.2794193012154658, 2.1042087551345703, 2.863478466097162], [2.69417379108651, 2.7389175449478094, 2.9998366711139517, 2.4979835331871754, 2.3034086154672537, 2.1310163937049578, 2.075417740284374, 2.8909151637926347, 2.2133203015637966, 2.197722794725628], [2.036944051135177, 2.594353479073257, 2.479006850396459, 2.1097471279029847, 2.504588370281386, 2.5923763199956964, 2.2017666850465014, 2.244045414663197, 2.6968047267160493, 2.3921824114067483], [2.782813946060917, 2.8261969446607784, 2.98133395561485, 2.507325539077746, 2.5549122614040147, 2.858705148139756, 2.859751964341751, 2.5986255078680296, 2.249618023876315, 2.1036368085700277], [2.5243499168477923, 2.023124327012245, 2.842380431510208, 2.2935579339263352, 2.27988987373398, 2.1323543227110653, 2.6648393726713553, 2.4164294963334356, 2.876426014079239, 2.0709500112799435], [2.691890910656091, 2.6267800356895923, 2.06710236529515, 2.6449906275327493, 2.8106230601015847, 2.607679914957175, 2.380273613774195, 2.0105434439676952, 2.087159918181671, 2.0390381347580027], [2.3966083679181067, 2.864101540468296, 2.066288851330482, 2.106079028359681, 2.3709570233294683, 2.626666368928177, 2.9494610124713434, 2.4678016492556196, 2.8871179146366646, 2.024312467726119], [2.115246567953674, 2.4138030433341466, 2.655133434094248, 2.9160336074679654, 2.0748391145423053, 2.661844872326932, 2.367862546199002, 2.169436766531346, 2.8366234882841384, 2.2880662644372665], [2.153049567766555, 2.0410116509757104, 2.447110439388357, 2.6408989222670924, 2.7088259786628175, 2.964799984153344, 2.493568333153277, 2.232429362521602, 2.347082801390539, 2.4081789351533605], [2.200756771362187, 2.819148693419554, 2.917810486622143, 2.960043317686283, 2.2266454263006006, 2.3399048152313764, 2.615207963388594, 2.0324436490609994, 2.4540592598035147, 2.727765571070451], [2.522426202620435, 2.8022885523379037, 2.7658504432017095, 2.6533171289871866, 2.0525429504217727, 2.054766423356846, 2.375478060557075, 2.1139684261732556, 2.6708625207038628, 2.1674636904543383], [2.921993885159665, 2.398161340711128, 2.392578325174002, 2.2324881230017435, 2.8245587226937245, 2.055653936032431, 2.7418844201416026, 2.4786850208836193, 2.2420349104650366, 2.2529946326336754], [2.9807554588150076, 2.750819081188944, 2.186753376694841, 2.9027459806663507, 2.119611937554161, 2.656317206297669, 2.2103964674209844, 2.913896936429275, 2.6226240389454163, 2.4580752905589973], [2.6353927477094823, 2.87786470568683, 2.099077273377885, 2.6776714779097865, 2.659924668630161, 2.5919149145833766, 2.25194867555662, 2.872538709652731, 2.417202132335568, 2.0402425909682087], [2.4627545027537865, 2.630148288678806, 2.0422043667157674, 2.9995404374633514, 2.5623587772157785, 2.88813618547195, 2.9084777264065744, 2.594959103689202, 2.034268985445907, 2.2723229828907354], [2.8594858547357873, 2.0274973003230707, 2.8501958446693694, 2.0122885534022465, 2.6881859155923293, 2.422572978897841, 2.647196143391148, 2.650653882777165, 2.77452691014585, 2.399906002227321], [2.588114397555672, 2.5377121114388994, 2.262222883469772, 2.7851135454733607, 2.0809973750398796, 2.5613066656890173, 2.491086744241032, 2.6949351745465178, 2.350508419006773, 2.501006223751487], [2.1753166197634974, 2.1630281165442264, 2.1867196215490297, 2.3713062586373685, 2.7985958353713634, 2.983412421813954, 2.738127551238657, 2.227869987401732, 2.196409703460231, 2.1745354766777605], [2.537161857269587, 2.3161426090855066, 2.324217164792585, 2.7504871563855096, 2.4164327406250274, 2.864293942181165, 2.6737143009337987, 2.3848493561333823, 2.8301908638258686, 2.20225735761327], [2.811409504007832, 2.586439050837955, 2.0391276883953386, 2.1736072724105284, 2.0887181518640654, 2.6937892111323065, 2.815342887321195, 2.4416578538406983, 2.6384279464675404, 2.849348651876666], [2.8764902058504007, 2.38231372714065, 2.1513608698648, 2.460125539303792, 2.138327215169185, 2.9722394793676665, 2.073131254149311, 2.646197100675993, 2.402705694659134, 2.315291943064966], [2.649398892684833, 2.6363685835196566, 2.7278040511955366, 2.0124592018116454, 2.454676030984463, 2.4146823367270525, 2.212474217710743, 2.6830280876516692, 2.2060831014423012, 2.7761533904139504], [2.954449622996119, 2.3463830451659895, 2.714285268655868, 2.10017066129587, 2.113682409580832, 2.930893404196695, 2.6884605091929377, 2.4128359542118414, 2.0835562873004707, 2.6586553477293937], [2.8449976732332125, 2.5492613771770136, 2.6476530981663964, 2.016610797889057, 2.865837525014989, 2.286387457431439, 2.9817445177821127, 2.8541879434861293, 2.615466847447668, 2.373945532777278], [2.1538784769010495, 2.5791762491950534, 2.146649244553278, 2.851441692618284, 2.528766011317158, 2.4255486175721677, 2.9924586235816255, 2.5894827876710114, 2.321035322518333, 2.486999820932919], [2.356977354439183, 2.8838693697752924, 2.261961252989143, 2.34318899101329, 2.5242931962002375, 2.7121884942207686, 2.4295714461934828, 2.875366727385185, 2.052839044061993, 2.4675742100364357], [2.0588049965254074, 2.152564844317056, 2.264349236054824, 2.581130101429344, 2.919395649534343, 2.315533012569081, 2.609558530027355, 2.5414075597407613, 2.764269967112684, 2.0369780154819823], [2.6828247085491754, 2.2171174235750186, 2.6759672432333637, 2.9729766435590887, 2.7015334234590487, 2.9785512515232684, 2.3564216527866715, 2.976043792374135, 2.5680726183459197, 2.387486110690487], [2.6398186737060976, 2.3544923822353376, 2.037576199585288, 2.8110336879044358, 2.555017211821357, 2.167820019930496, 2.3501064345155696, 2.456252181053823, 2.2511370177928436, 2.3851030792821346], [2.350142553306152, 2.2902865178111025, 2.3455355737066585, 2.8441053747202654, 2.709114375574286, 2.617177867112412, 2.423807997507548, 2.181855189290471, 2.866529335901345, 2.9141091737216436], [2.1999796145933925, 2.0385909794796815, 2.8860361236025045, 2.866396889829741, 2.4203227514492545, 2.199056867337271, 2.093768027093251, 2.223789264055741, 2.6660491184832766, 2.5820509833459715], [2.1595692204628447, 2.7760144553057597, 2.8106208533045045, 2.4854335029053076, 2.2467487835155033, 2.102331934139095, 2.963745763353449, 2.5461175553096496, 2.6611892422198107, 2.187547413919676], [2.3179363094803747, 2.7926358457768137, 2.5851307980002574, 2.785663579351604, 2.198086652507077, 2.5002378821651865, 2.835335062916413, 2.4703054447658817, 2.462336883398793, 2.680368168552804], [2.3346923997703533, 2.4717427746347056, 2.0653828946289057, 2.6668028792620992, 2.541106344964561, 2.518392855465658, 2.439933406777991, 2.4266600726004617, 2.233260628361415, 2.7491598509090336], [2.674365057066405, 2.132803666351747, 2.881592368436316, 2.9340366854735267, 2.220143514610811, 2.223518912075818, 2.907785721644901, 2.1029748945734665, 2.7402317083220633, 2.794500910607123], [2.0671092143735925, 2.773426017184753, 2.0422073489533723, 2.5516875630577394, 2.7948766782258616, 2.8804104790600347, 2.887495516505896, 2.798625565474609, 2.3282553739400145, 2.2112622827699506], [2.748315126264757, 2.157270822245977, 2.128680449158501, 2.788628284052612, 2.629430376307541, 2.9794595021453336, 2.03998871553937, 2.9474908711356647, 2.3082341592215605, 2.401281210742331], [2.7198343185718006, 2.5489243648285838, 2.924622348148495, 2.1634954116780363, 2.0592595044787867, 2.930266955459764, 2.0578649451476863, 2.1001952669276394, 2.084381142861388, 2.498704209429558], [2.6234276638889495, 2.4415228710258576, 2.4345860100779237, 2.8545826615756997, 2.5061712309359407, 2.9277906420738873, 2.9656517841095216, 2.8272191041465256, 2.6287855993819043, 2.8438766546343355], [2.0056321743337553, 2.7177912284223833, 2.5415946321376, 2.073112933107359, 2.0897014341618445, 2.238060304609488, 2.3981864500350927, 2.436779364134753, 2.1062488926878467, 2.776685494168882], [2.5671159889679824, 2.8583981341324067, 2.307287598693838, 2.133841361616665, 2.4973340660269785, 2.0303054888364827, 2.7118798579061667, 2.4518912919396403, 2.670325206631157, 2.3366517205694777], [2.4568106860433883, 2.6701436943109327, 2.0810153474890067, 2.0386808968619388, 2.4998981443571555, 2.6517274766567125, 2.36906604013961, 2.7198136699516686, 2.7261689972328114, 2.6475702391691724], [2.6804692496028926, 2.018175365122452, 2.4057073210034234, 2.7866123791186146, 2.606307951931667, 2.2564215164709953, 2.9542904636874017, 2.7671464869154225, 2.676140409390839, 2.0268570609053724], [2.748194609835866, 2.674819405651315, 2.8028377512614044, 2.361442008034121, 2.401495429383828, 2.548728785669442, 2.761715745357878, 2.735211197557849, 2.595380314675734, 2.180644230451371], [2.6957073648819, 2.652554313190932, 2.7099802784501996, 2.1800950164608874, 2.121211404792864, 2.976808992305145, 2.0495745887284094, 2.8295152105498285, 2.4326509121756903, 2.093887346829943], [2.515507918392908, 2.861427676716276, 2.4419017013890594, 2.9511168715227667, 2.2158327038036383, 2.1882699568714203, 2.753467159914219, 2.9452432973090703, 2.873529184204784, 2.374181672420068], [2.899711813910489, 2.181639426709314, 2.0028230868500634, 2.652805648991298, 2.25444686994106, 2.7146200313748334, 2.698415921412465, 2.8158014406313248, 2.930369277970343, 2.5858566472452056], [2.6100885607147264, 2.1648006819330403, 2.2568437330384525, 2.1207843104010013, 2.886874991193838, 2.798637190403915, 2.0257499109853097, 2.210451946267214, 2.7591665971468986, 2.787635839458587], [2.3958404156257442, 2.5830102081611224, 2.135255684692868, 2.0315063540301197, 2.6270862810797055, 2.243236083568254, 2.763415596647662, 2.503357098458711, 2.979088054969176, 2.0455651411304174], [2.728487602751962, 2.656424014709901, 2.0504123927407196, 2.7680981327837673, 2.3463156660188798, 2.7178984589667796, 2.3985450671594166, 2.5584354914554166, 2.9088481940075317, 2.638983445137516], [2.9079258748988317, 2.60912649227451, 2.171977454191892, 2.3060496446608223, 2.56013509828922, 2.8906810919990846, 2.666016037996641, 2.458977490009514, 2.3071412347236233, 2.9124592318429587], [2.8567602786127995, 2.268059823984761, 2.671798445199548, 2.257639307089802, 2.0027964916981054, 2.518834205151476, 2.274357028106402, 2.262835582405173, 2.590525441706067, 2.59014944339963], [2.0644160892150216, 2.8801251674221975, 2.5720874206347073, 2.790590520543753, 2.606923998398538, 2.0785918110354134, 2.986506953586882, 2.61437009118933, 2.739838652511492, 2.6210398578289964], [2.0726838975996826, 2.5037904158281625, 2.864148204466235, 2.854086018929392, 2.1029631220506495, 2.9044633144837686, 2.6019525143848403, 2.9362071286711027, 2.9305584708996113, 2.175218404276224], [2.2320543729109685, 2.7326273674140955, 2.4408151420162363, 2.6344527463490772, 2.0621345529774446, 2.9547202671812096, 2.2088525282698335, 2.4885582711959575, 2.427682934029576, 2.160976766656316], [2.333307453156543, 2.045639190141617, 2.9988953852937406, 2.3398721635568145, 2.2475042419444478, 2.805733066546169, 2.516227795541673, 2.168103168766584, 2.271866176688297, 2.5727195645500114], [2.0661583239365466, 2.577386862748722, 2.7561926122676788, 2.0689358149701906, 2.0469239918287467, 2.1081495007997706, 2.648139228276592, 2.3754028845155193, 2.4480195614402973, 2.1897952833831145], [2.894739772128568, 2.8963483742224834, 2.4364269507629226, 2.7187179940577173, 2.6228885994336766, 2.1935687091714158, 2.3566275834364587, 2.141069704670996, 2.708958891628419, 2.1979680543367017], [2.8730530732756465, 2.3643320231115528, 2.292900880505489, 2.0197001502587684, 2.9568264082851776, 2.3672439290521585, 2.571457949245745, 2.6815213871342864, 2.283932121950227, 2.0002761486597933], [2.8658530186884086, 2.3614850350209275, 2.412805474950807, 2.998417987761584, 2.3433521218938456, 2.042522163474806, 2.600526056244786, 2.6254995886772243, 2.3801555951683637, 2.994810208418811], [2.9162641136229333, 2.441854895143658, 2.010110021891778, 2.4885912023148316, 2.250106870190269, 2.05622373266924, 2.9877665292089244, 2.067047826033653, 2.6892807831843784, 2.559843219218765], [2.147450323989995, 2.2856962654819952, 2.509458151570325, 2.459651373856782, 2.798588435672918, 2.170619926235208, 2.587695081204151, 2.8232967296639417, 2.7642852316666158, 2.509554142637429], [2.6505499568875277, 2.6730572868009976, 2.385502755143053, 2.0724507888683315, 2.2485857647507634, 2.8158770864053504, 2.9183799747448105, 2.492026683755983, 2.2271182791521023, 2.0412200586687996], [2.6004878750625355, 2.65947558216038, 2.3489972488647455, 2.915346010446347, 2.0469300784144724, 2.833312633522888, 2.62987985390688, 2.5199955431719867, 2.843361261085819, 2.8623579174909146], [2.599908424605485, 2.9402728524074084, 2.8761246040257458, 2.4473016568671464, 2.9860397878179654, 2.0807839567106603, 2.873922455808922, 2.1455490496852114, 2.3434840813776785, 2.8219587893729257], [2.8413056293339043, 2.089632504408513, 2.669520905103364, 2.237202443177762, 2.044413509974458, 2.9568595139395977, 2.1059162267737657, 2.5097629927107428, 2.8167820179759193, 2.6381828572264845], [2.7222060400341217, 2.3947792475091965, 2.797719718060162, 2.185723852844739, 2.202247404672146, 2.493342269875563, 2.7884666199952877, 2.9268236905528004, 2.4681527731068114, 2.22516767419631], [2.824974654594261, 2.5036317146780998, 2.6276634045684584, 2.633720089397548, 2.9754561202456644, 2.9235099883463285, 2.070901245397118, 2.162830907650019, 2.8677020615773103, 2.479999621308058], [2.377837995236661, 2.781531255419562, 2.9869517657481213, 2.094467288754467, 2.8811695799814783, 2.997429727890142, 2.286330991100287, 2.286134925790516, 2.124582515008095, 2.892803949031688], [2.4979148272524436, 2.766389610435722, 2.1807510546488107, 2.912847471751201, 2.83643322892298, 2.409434512735707, 2.811481003699835, 2.5267406482167076, 2.2218072940187974, 2.8971815062345248], [2.269727908063122, 2.087508279148854, 2.5055315623617203, 2.332059460754037, 2.665843229248573, 2.2116379516110727, 2.728304983743742, 2.5432258445113796, 2.6986755613234954, 2.025281385930076], [2.985887629514375, 2.7381205856765023, 2.9434624183651166, 2.5962656040633423, 2.997142643314613, 2.333703572958947, 2.2575476140173696, 2.575545626010968, 2.570696010055193, 2.1506666949370916], [2.5641075507622, 2.1963604151484657, 2.7862407918799934, 2.6194803653796503, 2.9364020727884297, 2.656084411919467, 2.1993886221962553, 2.6699536466479286, 2.0027214589546416, 2.228460329869101], [2.6824484841440652, 2.4768694776123255, 2.3746327583764884, 2.280412059547465, 2.4052829911692437, 2.4886828527214298, 2.555274594849175, 2.3873941784286874, 2.656157529398672, 2.240761208678248], [2.515789071549329, 2.8434272337992716, 2.5799270299963553, 2.6136058774071325, 2.2415814739851427, 2.729171118907857, 2.818855420779821, 2.6384780387749016, 2.4656231968830986, 2.407120664436011], [2.557456307087015, 2.210627852968934, 2.953295260441547, 2.86316284225718, 2.766227418346758, 2.115789991713034, 2.172531068003542, 2.227932307503849, 2.0992270355035494, 2.362649351586772], [2.3191441679740756, 2.358000006813665, 2.0928162248685553, 2.942303601204437, 2.6698580986762113, 2.7932998560476374, 2.625954043535579, 2.5106451182415785, 2.1525185081255813, 2.6164752860394525], [2.8449935520632548, 2.982140702027383, 2.705664366929329, 2.2108426247682043, 2.7317789176069516, 2.123930642459414, 2.9015567496145716, 2.4216317079396896, 2.080172881640191, 2.7152429650100225], [2.138089494093046, 2.191622262422995, 2.031611103331625, 2.277345570212929, 2.4489783818388897, 2.8774362624694962, 2.4047637709509857, 2.1982706639329637, 2.608842560953482, 2.826308074929148], [2.9854262575811314, 2.286138163855628, 2.14397595777766, 2.5194830847953398, 2.128652591129472, 2.345490316588656, 2.3759508569745447, 2.3079367524146472, 2.5351481156540765, 2.2929963140465386], [2.587110332196759, 2.723203459552092, 2.206338929274377, 2.995340066497122, 2.186166422329802, 2.5519516047636124, 2.5040784825139726, 2.6250265499817695, 2.1730627150120636, 2.436548974886686], [2.575010396887226, 2.1826400621556985, 2.406505134369209, 2.2987827389331184, 2.085139021983894, 2.2670059341109194, 2.9280433774228904, 2.957463789902296, 2.9648876583634847, 2.696642653210007], [2.186041484130197, 2.1217991031278323, 2.364944665181821, 2.1444794236723252, 2.85794714089399, 2.9634915891297196, 2.866147145778306, 2.476607604867195, 2.756919507882188, 2.3550261842256486], [2.7156894393201165, 2.0717048150681814, 2.924487081444253, 2.9775402693978363, 2.9917736214451756, 2.3769839764459038, 2.899453047985401, 2.949807690823301, 2.626498604314212, 2.8412586972502227], [2.8181947009352273, 2.933656830823941, 2.690245374520538, 2.041856978650868, 2.167440363384107, 2.0505187356014667, 2.5716896119876207, 2.1723069185425055, 2.8723478574445576, 2.81747147024036], [2.958375959878225, 2.3178501586519373, 2.410112285249584, 2.7386526770672663, 2.806144969155587, 2.0870062699335343, 2.0671968896091797, 2.4207191668323174, 2.3749617723837013, 2.9496491304778942], [2.860130698810405, 2.458756506141202, 2.930240900099363, 2.176209035839581, 2.903317133678088, 2.818170617482406, 2.2576223285696737, 2.8410122677621112, 2.00696101132765, 2.8638474221383454], [2.912455576490924, 2.323665128081431, 2.0024235258513867, 2.5303579139045445, 2.711206353503993, 2.2023691926191713, 2.2637332834440667, 2.212679746813906, 2.1543132834158136, 2.8045336004202888], [2.2902644832115913, 2.1145076430885665, 2.3195339148494023, 2.546749964349799, 2.7265103160976216, 2.3850993049032665, 2.184734245241904, 2.6266607511225177, 2.851773103547334, 2.043890347039336], [2.7482837772734094, 2.3952582398594746, 2.1574504667083545, 2.8293922761784467, 2.051538762226457, 2.2124881714197713, 2.2273087819826864, 2.049667517455059, 2.132673733757687, 2.714931869700605], [2.2731416032349143, 2.108773199528338, 2.1289453365369124, 2.6893525389490542, 2.982454329246339, 2.980672185574244, 2.0302034617598212, 2.9171241725780286, 2.475285664395179, 2.3737195357908405], [2.7121127144457633, 2.0566828728664617, 2.493304951036725, 2.681884756451331, 2.272711806179057, 2.054784777057213, 2.421797157158953, 2.1794305180466034, 2.0495249477439517, 2.8936978681518646], [2.6719338357447895, 2.975360937391914, 2.559083710341798, 2.7970556906530377, 2.323083769323131, 2.260837822689602, 2.404316629332198, 2.383708237208002, 2.3280093929903103, 2.987732301303416], [2.148275046114257, 2.495686777646159, 2.072375665061652, 2.8338587915398765, 2.970026259482435, 2.2833170968028202, 2.711604919368048, 2.155452135838763, 2.651457360542264, 2.934666194212901], [2.04367806925063, 2.249980863738613, 2.4219251090640284, 2.2627675187597527, 2.6340971319190953, 2.7648958263414953, 2.327630987532002, 2.8821864931962784, 2.1584903679151894, 2.4563907260206257], [2.011109526279585, 2.9617563601952464, 2.0280489643783604, 2.8080293722482192, 2.8273054083056355, 2.6642615507572853, 2.3639235741306974, 2.2501511456747605, 2.7917587807186584, 2.3021232057755316], [2.519520293321356, 2.607542045854954, 2.45743103658415, 2.003034568882845, 2.9460669117536638, 2.294842883569209, 2.8209647899121384, 2.5395713996302574, 2.8793851040996605, 2.111157493631547], [2.466900648037047, 2.163798366364548, 2.6406123223122533, 2.304591763710452, 2.28434242322534, 2.5939704911626964, 2.5320432782689224, 2.847948099896748, 2.7394316805151298, 2.3334308452859194], [2.2259750044120237, 2.7731912229908815, 2.265211848368132, 2.8108213347298046, 2.7571947265336303, 2.840535516657219, 2.661480613703975, 2.0492844368097023, 2.320443770427759, 2.358309960165072], [2.686434931688599, 2.1731251402099554, 2.147336700439589, 2.1020503708138243, 2.588217888566646, 2.554311398301013, 2.146824530759674, 2.1920314299789228, 2.1868630255740538, 2.89901582341624], [2.9831067937701397, 2.291811785171731, 2.8396162429910654, 2.710999411783436, 2.9549451720486375, 2.4196384678090017, 2.0085738556698347, 2.065426745207829, 2.877291801860638, 2.5478853974984883], [2.3176104561688406, 2.991592916573213, 2.981135084016091, 2.949473834156474, 2.0076716963147176, 2.5679047295805786, 2.321803806000468, 2.2910213982275787, 2.4084578851329073, 2.8537606498286476], [2.0842059381230835, 2.2479153687153164, 2.8942384464421655, 2.1246171017493705, 2.0054720752404656, 2.9138321737137485, 2.6623723443835092, 2.8111400067268084, 2.3726376131424627, 2.6755859688598447], [2.633491639031614, 2.0316289052369894, 2.2811032117226095, 2.2277757512592666, 2.6253586381973877, 2.4631972669876543, 2.3478488347607773, 2.9989993340766756, 2.2411436688624726, 2.6038980677827253], [2.0858899026263047, 2.344889650639418, 2.524439262916319, 2.6424955329191375, 2.193140184712409, 2.390522866995515, 2.336839394122532, 2.2370199013829124, 2.74373449798793, 2.4669542520682732], [2.4033202023423925, 2.914501762312035, 2.2535571182606464, 2.5957749831528334, 2.1073545344010647, 2.8898743295292015, 2.853184223621302, 2.0520178153278157, 2.8687759488500313, 2.9003531501619593], [2.7628957612034646, 2.240320342893341, 2.0839070694399306, 2.5305697240576204, 2.271394450371151, 2.102230859456677, 2.6269801501297425, 2.9917009519273883, 2.916796164088451, 2.134245060441108], [2.1132654161191238, 2.074647382884338, 2.5606408712076902, 2.1533164461108085, 2.0610072533419435, 2.7189773902643997, 2.478030261657588, 2.3563226380752025, 2.510315498058216, 2.8069478209848606], [2.4272725900093413, 2.1023674413268862, 2.7163427171668815, 2.1264952949026155, 2.6079425034256545, 2.8127230745078595, 2.418416913421141, 2.0486863253767216, 2.6595905430223876, 2.773026206889668], [2.793810520643909, 2.932500840163004, 2.4632671161995874, 2.8551763689292153, 2.23253189982467, 2.919298225204264, 2.210693403840826, 2.7842962456595526, 2.6995409362615446, 2.5942401363382572], [2.1030640040003274, 2.787276860955359, 2.547198179699837, 2.943207101867754, 2.4304104206577684, 2.418538864442712, 2.9580657886698773, 2.4964017243091274, 2.4612226804388078, 2.4978928186699596], [2.2250124258843105, 2.050884394143661, 2.986006924748402, 2.499964447685236, 2.868741640415278, 2.4751210960352896, 2.3750111955403557, 2.5612346089142983, 2.5794314449600364, 2.354308727401115], [2.2871791790681453, 2.612999987430906, 2.918082653709048, 2.4549918967863507, 2.652413828367129, 2.0960170384205847, 2.8809671652933613, 2.542238317364226, 2.9269882014369237, 2.750338687133371], [2.347976432125935, 2.9017947379458042, 2.118505216207132, 2.8890638023120743, 2.5653535793451963, 2.9222503057773266, 2.6277444853470837, 2.058562212562445, 2.3452958059301223, 2.8515826129052524], [2.8120568496427056, 2.9785758118758654, 2.3637961556368206, 2.7785376189930124, 2.8046874871312393, 2.0567273709528284, 2.561397526354192, 2.490805324353605, 2.364221328764038, 2.770144741463974], [2.5440597804320593, 2.162556602287467, 2.381074191185193, 2.4096341761598237, 2.8096559604111224, 2.425354865468693, 2.8160828187265126, 2.5280769027444094, 2.8912630450256396, 2.3786475851791558], [2.58605686757004, 2.8482551223503294, 2.349872219055345, 2.57058096345616, 2.788212010991755, 2.3043307250147, 2.418329522556091, 2.493174458999029, 2.4445852854620664, 2.3883380194967305], [2.923455420816953, 2.48080741575387, 2.616159411217906, 2.650837108102622, 2.8396672169637545, 2.5842602526411813, 2.130706494042913, 2.3588220881913937, 2.0277018127909376, 2.5317368542451724], [2.535178673120642, 2.866558856324361, 2.399663146731608, 2.1696033815392983, 2.7343210923270465, 2.7918335086122337, 2.3650516636495342, 2.4436824696530097, 2.29843125529473, 2.7155191322119], [2.7089573307270034, 2.3461817803439793, 2.3073542919125916, 2.454004560112863, 2.448867521819002, 2.6652915363005527, 2.6734900795994467, 2.518738114409535, 2.606294895096973, 2.1561951014184477], [2.3825864751412227, 2.375205079760974, 2.645023251290876, 2.9213553651907493, 2.4296103293636153, 2.5124983801961007, 2.846741133301985, 2.5638724602071448, 2.202740424325172, 2.7164743032298904], [2.4413546791404217, 2.7330351575918184, 2.0044937019058744, 2.6462088432359288, 2.0374167719840353, 2.5002603446157394, 2.9356479184094995, 2.6127865819827916, 2.3433040814131947, 2.8527435984828946], [2.3803032041727414, 2.724441795382786, 2.822504203811252, 2.922762286781561, 2.1191934961387675, 2.8911374295611916, 2.7068204531172833, 2.111465966468278, 2.938491087746838, 2.0954731188903777], [2.6824766684903727, 2.435895166481662, 2.404096440729838, 2.4335208012325724, 2.0229392193828497, 2.749085234006693, 2.8525027386926363, 2.559567729563698, 2.182332159593586, 2.404756115189677], [2.2834243238813094, 2.0765278870592363, 2.5822010631910848, 2.239860213840159, 2.302164900764762, 2.6487816493856444, 2.1925841711522245, 2.9037768984240113, 2.9158722769341083, 2.436036213089251], [2.2174831935434063, 2.491867886182227, 2.435326007924055, 2.8557185559645624, 2.268271924495351, 2.836215066702687, 2.4254314014139995, 2.253117058941188, 2.9655304672201606, 2.7245597640465413], [2.5798855782236756, 2.368882955882588, 2.1366434428124914, 2.8407253701903623, 2.408286365098429, 2.8561607203429564, 2.7177166988569583, 2.8593383783154556, 2.8759010570486776, 2.9872914821453826], [2.389751775494749, 2.7811074596476413, 2.2645708631819073, 2.370722885152547, 2.8482653065533583, 2.842808417875693, 2.0869041663688837, 2.1001553104980175, 2.3972903678146187, 2.2629092147544054], [2.4102956855529953, 2.988163580885711, 2.603102383737157, 2.853806096206389, 2.4331325018321084, 2.12416332335851, 2.8760750637459505, 2.3681909654047866, 2.109283715299574, 2.1307113100426354], [2.2904676491986296, 2.1713664126346526, 2.972542489387647, 2.927191685590996, 2.5174303723527665, 2.5396584665736652, 2.5758713417136017, 2.435630144149589, 2.722949538158639, 2.166233017557188], [2.570416746872837, 2.6552766261312497, 2.9881889984827286, 2.6378580120360646, 2.2351444607358206, 2.352650269625093, 2.086559509263967, 2.7240528407378926, 2.8516597152363565, 2.670376561093335], [2.671357361831334, 2.960730960990322, 2.0411683455776926, 2.3354009930545345, 2.06552409885784, 2.5750473671613, 2.5110671924278534, 2.693495750804491, 2.5440794206844135, 2.686055767105241], [2.9982126137626843, 2.1426580752225624, 2.2566471913295527, 2.692174793915923, 2.8904319355957333, 2.9428053255560687, 2.885996214849205, 2.608831596227393, 2.335588889656709, 2.131776430293693], [2.0958750151563357, 2.6160481697678897, 2.764493294123553, 2.706990129893149, 2.478735130246938, 2.638381534876456, 2.2052350076505878, 2.1021668632717323, 2.6007923485736804, 2.099138534083942], [2.5299290116118196, 2.16477454659052, 2.9750286161257398, 2.824758460174867, 2.741084704745043, 2.160769834099703, 2.9440463350612607, 2.517749106479721, 2.3316797885064244, 2.6973367873466425], [2.5472548112985147, 2.72001821413844, 2.7965042205189903, 2.0759475320977394, 2.120148021320833, 2.221248995831604, 2.340137696766167, 2.4549030119593627, 2.406538143988587, 2.8617973042932157], [2.6835771706743534, 2.527476349800623, 2.6227378815561786, 2.586402796725392, 2.00897296123503, 2.7862191510885608, 2.828861545758805, 2.73463754203619, 2.91393048756413, 2.4068492473695855], [2.4564597528636236, 2.0969164615039, 2.634343742918179, 2.9381747368011, 2.1304174234921915, 2.183823444458666, 2.2168978303718108, 2.8501058031520206, 2.073747298019441, 2.237460348888849], [2.7010842978639156, 2.7490836199978133, 2.3367686270970127, 2.105245683533509, 2.1568107661046767, 2.9483404993194684, 2.6178946491236514, 2.5656795840653803, 2.4797206110422554, 2.889922912417452], [2.965796880013146, 2.1078285925632665, 2.9559467520705893, 2.764818053190845, 2.976351179052194, 2.8809505128637007, 2.193809037446883, 2.740007467960305, 2.285031055810024, 2.3721917743039667], [2.6934516912607793, 2.5571851472910123, 2.3916128429341326, 2.2927601710354173, 2.0529524941606625, 2.1584296249171038, 2.5476289934082117, 2.7163491021457413, 2.4991393141207614, 2.690140089254043], [2.1249237063328863, 2.3952409603298985, 2.529314410415724, 2.5024268605660884, 2.672878718883852, 2.3465048965122337, 2.3113487996315647, 2.8709706064287124, 2.4866643271671016, 2.2231111692190164], [2.1198163692009064, 2.2890538846147153, 2.7497854130024173, 2.020947313578904, 2.6597656447912192, 2.7660675785565974, 2.7647839546312354, 2.324422644940369, 2.2435036325266937, 2.885408562592505], [2.9046225336085154, 2.887472553234461, 2.838553249957553, 2.1015934392783366, 2.8843828136436884, 2.6042220094827555, 2.922329073290384, 2.542508934693734, 2.1187925777276444, 2.4863533113145593], [2.7639457415592004, 2.930351231805277, 2.167860344836756, 2.411569880889087, 2.6218835330509145, 2.5535268086646368, 2.6570818537874916, 2.1807719854122727, 2.496100744323516, 2.9305466921341328], [2.8453677172969267, 2.2842962938509412, 2.631476511313894, 2.476319863414101, 2.4166108977452008, 2.980158735327059, 2.1133866569708086, 2.036858876901455, 2.6420699099048846, 2.2499807685127156], [2.4045568453348745, 2.3700260453509956, 2.62579971091607, 2.918252777767882, 2.5485312236586877, 2.762879368447014, 2.640455280454936, 2.977383768422559, 2.3323124349123794, 2.0495882168848922], [2.8786471140882925, 2.4683945653860477, 2.1220798112945736, 2.592182520945235, 2.1420662304681977, 2.5601769378710184, 2.7914695144504913, 2.363662853858615, 2.23291498928238, 2.933484884408592], [2.6056748319675833, 2.8446292112327463, 2.0355190129847816, 2.692841616011396, 2.9579566267356574, 2.844269621692103, 2.834730571613865, 2.189525360881544, 2.2670235137199466, 2.698221163954578], [2.740308983004826, 2.0808395877373576, 2.4356146802630874, 2.415304116272768, 2.3161397837814732, 2.738475390575092, 2.2627550429054972, 2.823716192765407, 2.133008294663996, 2.8181308627101043], [2.0029400311292784, 2.5316066971547038, 2.2795158815121583, 2.4249374093559366, 2.6832299742924492, 2.7294970377566745, 2.617069576970851, 2.79784623466643, 2.165608280891311, 2.33496788017166], [2.633154507859825, 2.4568021824000126, 2.9558657788040286, 2.4810100308046175, 2.818452513731484, 2.160688425305443, 2.756231934613187, 2.613270076903806, 2.251789172194798, 2.3826269914396008], [2.017590391401269, 2.247327792964721, 2.8291729274065713, 2.8902231209948965, 2.1202588115609653, 2.899711675389244, 2.053533898903786, 2.0616681356048803, 2.3707789979020006, 2.787528436345316], [2.6099587964072444, 2.5362323096498254, 2.2946028819621196, 2.7369149417225516, 2.8184468328748773, 2.0739470889902325, 2.0048298947362078, 2.9896524970038536, 2.6918245235109404, 2.782588962894789], [2.6033390104434475, 2.6835694372366956, 2.5136773599989137, 2.8897384106357875, 2.2151872424135948, 2.0663052199415244, 2.716071231288918, 2.1454859671869047, 2.266707036164216, 2.0172980231410707], [2.4546210272653033, 2.4830005412991873, 2.747550668983532, 2.0070657842792183, 2.4981845895520465, 2.9639862517027016, 2.9165581799082814, 2.640260564799003, 2.894571138701102, 2.946890149587862], [2.093403193547462, 2.6698898456423077, 2.267030524597631, 2.897978627592159, 2.918869652011034, 2.2564341016170966, 2.0528456811433315, 2.398415742317069, 2.547475505005628, 2.0515929495420906], [2.170095210801782, 2.2334995455901225, 2.3996069425753577, 2.046827775547142, 2.822092011322502, 2.189012636200685, 2.840919297724284, 2.455250102613701, 2.2360225215844123, 2.5485111195852124], [2.317747884895324, 2.2610651890590105, 2.144302085707836, 2.8483195459359063, 2.3797629845400383, 2.0878857158458737, 2.1623644237881834, 2.183617403426496, 2.43440832612505, 2.4333340355641857], [2.2311824122132085, 2.373258297148986, 2.333388814685134, 2.5192794100805687, 2.4520403629363328, 2.885639302318862, 2.6386190448458797, 2.569119142910573, 2.9539794505194523, 2.970954188078502], [2.640757124298041, 2.1139046705370093, 2.0174587056610243, 2.4278656657628748, 2.171117374071741, 2.514660003528725, 2.648798545053163, 2.2370352395388444, 2.6932790469695904, 2.84250958084605], [2.8233710097907143, 2.894398720868107, 2.6383166033543572, 2.185369807564825, 2.90819192211502, 2.9053306483403656, 2.3182851178488217, 2.546011594670324, 2.1896082671060415, 2.6576292693670043], [2.9128060142662084, 2.3959170063367434, 2.025789405278019, 2.4114006184532464, 2.980807532945595, 2.811342475120595, 2.4858280007898452, 2.48893675301174, 2.977336588708753, 2.56178265134083], [2.731896695337462, 2.864611707926595, 2.1877944690269757, 2.081091944417664, 2.6888236946490567, 2.3262082958811914, 2.187181155584048, 2.3209184003792966, 2.3239305273261843, 2.6047636104516516], [2.029726768973346, 2.7900219261463857, 2.4857375850866585, 2.3286841147030106, 2.858405480211287, 2.47657740241074, 2.584526970297378, 2.65561074743492, 2.7508159446964067, 2.11965704544558], [2.2477643003108323, 2.821727074410089, 2.9745875431331825, 2.9666576288745294, 2.1858248404509033, 2.7395423162873818, 2.0633299811829566, 2.8118473317391155, 2.860220503959164, 2.627590843558197], [2.4501963029564724, 2.7920589246192784, 2.8861351281250966, 2.7764536903198067, 2.995654909570197, 2.9098202364700243, 2.7303845190820146, 2.399076881311167, 2.979270652142538, 2.8109824046848426], [2.4751568910866473, 2.506314121334303, 2.4893928961906324, 2.7290227007687973, 2.032683102097309, 2.016868493812737, 2.8146437054970326, 2.6768798035989305, 2.788992149110804, 2.8213487535454855], [2.2539987335992966, 2.437154566900152, 2.9350025251522864, 2.1246829172215635, 2.5913583336608115, 2.7507494406575725, 2.6717607988239838, 2.513120978651063, 2.560833858577591, 2.900135964827979], [2.7161911137162313, 2.976498310549795, 2.2370419827112693, 2.7321258696932853, 2.8523532628512354, 2.202521609964869, 2.8920031702862112, 2.685318959977945, 2.12935326017731, 2.550684683212574], [2.236032226051665, 2.0921079561212466, 2.0576880945959757, 2.6650443994807027, 2.049686217402035, 2.5947027270678116, 2.802810590418865, 2.8024880739069005, 2.9381674536999833, 2.5426388732321556], [2.0582393540895483, 2.1275579131199986, 2.224124612459635, 2.6267800050211596, 2.1462927889473487, 2.7637240004467936, 2.82220380622279, 2.7124126951741996, 2.47977348973898, 2.371466257134532], [2.4484853764268593, 2.2256861892658764, 2.5610768193774263, 2.934033744580052, 2.5095745431477083, 2.9095107572305148, 2.8210003034070374, 2.4337792766158874, 2.462666479857108, 2.5178262396974103], [2.2515787965864344, 2.921857738800342, 2.052613672654091, 2.8944488200783427, 2.5695050301705704, 2.7978328147606666, 2.4981501402311337, 2.9432620186226965, 2.353955428654052, 2.117433167543166], [2.937021247669015, 2.782161631562646, 2.9408487668350123, 2.388159000726065, 2.2158677028038007, 2.3770989234232593, 2.4640175417942123, 2.2237041611064123, 2.9071327019119977, 2.885668174241788], [2.3636099906930363, 2.4116137952461143, 2.5440109074941963, 2.94064927016589, 2.234232840815324, 2.822191798145367, 2.2921777649604547, 2.397813951776361, 2.2415710977842203, 2.9130065764920077], [2.5062408529940607, 2.792803379399916, 2.865022325349651, 2.9249014057153473, 2.660247314123592, 2.1909173837223435, 2.7077143532509598, 2.183467020222225, 2.9827782440206816, 2.097038788672984], [2.9418624835726206, 2.8777123307368164, 2.5271766008873544, 2.3807209445051565, 2.2164197698234975, 2.4525133261893037, 2.1187150079912347, 2.082640525816789, 2.5919550392462725, 2.890777937547065], [2.381406073743907, 2.3080854592560476, 2.7172562408384966, 2.8173242736895934, 2.9787982976750054, 2.027586210666782, 2.3239544657727906, 2.6566493983920414, 2.1063270397452714, 2.9453403010619494], [2.7566608558001087, 2.0281137955602224, 2.7945154355912853, 2.189542990919196, 2.4668775111068895, 2.772354022787555, 2.2777133825442974, 2.760023466363598, 2.6332263456487484, 2.88111483736901], [2.7371436090258925, 2.7743879064178536, 2.494015541183823, 2.4411087608059123, 2.053222434371559, 2.6057931682879563, 2.583575951605781, 2.1833750487727555, 2.77683211414253, 2.8584874091526347], [2.397141347394672, 2.65406348402751, 2.200870415753686, 2.7270559742829508, 2.597830245670411, 2.1689419904268084, 2.529933620174915, 2.342447730426572, 2.6092531331415563, 2.2499926496806273], [2.774622920530002, 2.628270155821405, 2.271044964017542, 2.133830208598904, 2.6219806559748333, 2.577822683592804, 2.3658702771000666, 2.0406713470820654, 2.046978380192356, 2.6128012527193705], [2.676441816694247, 2.9934940147756164, 2.455953054358498, 2.0980337801239894, 2.646583096656417, 2.586311115248769, 2.223681436247351, 2.212139171041629, 2.7452709774554203, 2.811612361333527], [2.4944284466096978, 2.7494988755334786, 2.5374022201654776, 2.2238970261879487, 2.693965568364869, 2.8559515402459663, 2.3576404625986678, 2.050980393547367, 2.3403568724414976, 2.565002757367196], [2.7392071270731404, 2.9722342275401816, 2.2755351941394197, 2.089150308952707, 2.157986291038258, 2.319743694399742, 2.4457408599055146, 2.065134604300391, 2.0022980419345, 2.680882303283915], [2.9192986159880814, 2.20277079214722, 2.949165798257827, 2.1532644472264115, 2.0175808187021795, 2.5811368954236644, 2.646290058300179, 2.7256161106642214, 2.5417374989220374, 2.7761340141996134], [2.9370727510895103, 2.0236160086898267, 2.5684983467066402, 2.949146179732028, 2.717900156863029, 2.134832930391607, 2.1563546414145387, 2.570198321905846, 2.1907743636892087, 2.1369805032471656], [2.9859828163357185, 2.6462486189098184, 2.183238206007449, 2.6758508079677004, 2.262753739863136, 2.8053194692561036, 2.194519438989551, 2.7911254209418432, 2.9810604868712574, 2.3937871285253016], [2.6901593419006895, 2.440632487420479, 2.542254632972933, 2.3591303113784727, 2.67658153332754, 2.29825450692428, 2.943046044424839, 2.7508653461156514, 2.7600683697567416, 2.266385464269014], [2.2885959171484207, 2.7782585367584627, 2.3464120360734877, 2.2548271396059647, 2.1203920507451057, 2.8374532063181976, 2.8340898097833533, 2.4661401833375765, 2.3762638644377674, 2.8392799620041793], [2.736398985014941, 2.8984735925644336, 2.9823661147715876, 2.1259942206533067, 2.7705923222957507, 2.937170172764197, 2.909871001939449, 2.0992031989612645, 2.6214157055449623, 2.7702707883334536], [2.6103445692974785, 2.395956919261504, 2.43188819903448, 2.707412395305243, 2.5386706044578795, 2.6215339523339787, 2.0533858006584342, 2.689654993821593, 2.6336759422529794, 2.7335810844896837], [2.299175660674726, 2.739025471199428, 2.1001231634187234, 2.7289692409512045, 2.091974583178523, 2.4208909992517644, 2.841584401346796, 2.3177693842521156, 2.9518789511857055, 2.5961970235210243], [2.6634570223972425, 2.6645728607920756, 2.152700030159501, 2.9020663189359177, 2.0702836569751577, 2.736323572514346, 2.195239441968716, 2.1685095946719892, 2.1762425486608885, 2.6620380886627935], [2.3094246550134025, 2.5834845789125223, 2.0605858537904536, 2.2209506934519707, 2.879257313613974, 2.6008119434870838, 2.9016090088560933, 2.2043590956026984, 2.0038571229749382, 2.754802147119165], [2.031181675560064, 2.057872808552131, 2.443419813584967, 2.7806812963469487, 2.844511727241545, 2.3168916121791976, 2.809004648169082, 2.9454763482891653, 2.134651840492489, 2.712946208624273], [2.561630716693781, 2.5646061219515204, 2.7635617339608305, 2.0471341271089742, 2.781986617687826, 2.541353320716238, 2.894366091321634, 2.937624703474152, 2.383669776247609, 2.3836358800870805], [2.029611654891494, 2.6754324017232523, 2.0842351894626985, 2.91727322867279, 2.145806146064648, 2.2195802482408884, 2.9139645670082017, 2.210799180678778, 2.036453066135456, 2.9207425580641493], [2.5940636677271582, 2.904841056592902, 2.5345666129268327, 2.31624727453147, 2.5202517842314514, 2.4577742472232034, 2.142515084238037, 2.14426478990863, 2.421722099403966, 2.560439348531199], [2.3702134381077578, 2.973410157811626, 2.0335103197975974, 2.015336151930869, 2.3230025482923313, 2.2470379307041193, 2.4636066429771697, 2.521927964289529, 2.786717264127956, 2.819244725937726], [2.488840001061277, 2.647410097414374, 2.8137304909833105, 2.276324712226938, 2.6402403115751705, 2.6409323458624305, 2.8332423240056266, 2.951896761087734, 2.1880076669635478, 2.0655162452813762]]\n",
      "Averages: [2.4659293838155394, 2.460278202516166, 2.601744280560977, 2.453676189587766, 2.5334559846576385, 2.600026382016215, 2.327959939610259, 2.4182765271763906, 2.437696454220634, 2.562421872328922, 2.5986580244173556, 2.4464421904859597, 2.384674242300587, 2.543281314042184, 2.528923942728785, 2.5739643787429443, 2.617034349255338, 2.5725406618791227, 2.444852496144913, 2.432826813641802, 2.5885884982366187, 2.4818262606947283, 2.5256307669386833, 2.4944881343251355, 2.4417808673915453, 2.5901210010067484, 2.4090853173726425, 2.6569500435548288, 2.3854561930643707, 2.5980285440992543, 2.355061339886274, 2.5338387204392263, 2.460447267249746, 2.4310235711596997, 2.335756400644266, 2.4375451540773607, 2.4910255754426225, 2.5374640993872113, 2.5326737702384, 2.4019618910766463, 2.477291836679387, 2.6443079396041713, 2.407794352787455, 2.4929742546083977, 2.6386076769891167, 2.337384134744281, 2.476945249124653, 2.403014279516035, 2.5091681113991022, 2.623241979769546, 2.512541184519411, 2.4754861093322296, 2.4630769687997462, 2.3540356922448833, 2.5294302998342078, 2.400051085476057, 2.3364188491103466, 2.4680382518377977, 2.4287764901305438, 2.5983071020606396, 2.446938616366899, 2.545617597767459, 2.4552600987645263, 2.5753317169488716, 2.44372441725665, 2.6304238769538766, 2.4589336587424904, 2.451970366862527, 2.3389989047549227, 2.5890233243709995, 2.487429512230854, 2.519151574323332, 2.5447973543491904, 2.4044143841310825, 2.479756616969182, 2.5221479998824528, 2.5367810236368937, 2.34906075236132, 2.427885741723684, 2.5244579662254774, 2.438800610398201, 2.4757774329780915, 2.5434472471779186, 2.5440011826584326, 2.390005589773308, 2.495243715037532, 2.4304955624664792, 2.4575947545250374, 2.5872037115926867, 2.481766102771295, 2.5057462531982133, 2.6170651708530395, 2.611649261919327, 2.5005993836963194, 2.5216440194312186, 2.677525148783268, 2.433222939341486, 2.446095713552012, 2.6713675304380278, 2.51736840473374, 2.5446703286818204, 2.6672616959944406, 2.360701261710212, 2.5831229192111316, 2.4373599664973806, 2.5578236630270643, 2.378540830815135, 2.4611285524733537, 2.5666896431945365, 2.654095248040605, 2.454596458100799, 2.292625641750428, 2.377713997333023, 2.52571739647222, 2.379777905587045, 2.4314794745435155, 2.409678273692948, 2.538881564355301, 2.334224839028012, 2.3310371749881, 2.4359554941484447, 2.487601235653796, 2.4349111792840263, 2.438916821960649, 2.4502298095036923, 2.5950272327419093, 2.389811541879191, 2.442729554866205, 2.519624125697486, 2.4879977639705766, 2.4795919071820647, 2.6051492991761, 2.570016096788941, 2.571851217163058, 2.65501858883363, 2.618607302769357, 2.525720305207197, 2.5257796933757017, 2.6504503881726977, 2.4905478428968038, 2.37228987155828, 2.5276718366065536, 2.463577512755682, 2.527370978439848, 2.6123495681314677, 2.5418201627161747, 2.4929348579824, 2.657220997944752, 2.5863237331225046, 2.427679481140428, 2.593382252339692, 2.4630699242229808, 2.632849893646821, 2.477489511619012, 2.627891253704013, 2.590148256991375, 2.52239537036647, 2.5211041548499606, 2.4748716546484775, 2.456177400463252, 2.6735590863249183, 2.3677041653487483, 2.5846257659013956, 2.3977916201969607, 2.388865514684796, 2.512744866715147, 2.47171988811144, 2.5662744607975356, 2.5006663652481325, 2.3418357181689324, 2.409483861298514, 2.5662586587173224, 2.3412850027819223, 2.4584374428135716, 2.6327792315313228, 2.441972089395916, 2.4672773410582733, 2.5577985360515587, 2.485240625883099, 2.5413262863569646, 2.541040448662767, 2.43582981700311, 2.5194620468980524, 2.439185949826286, 2.6283987656853625, 2.528786646426947, 2.514494400214861, 2.6032752404203965, 2.3482071562812945, 2.643332790104056, 2.401994929083087, 2.680682538330237, 2.5246430803980457, 2.4496617304490007, 2.5042470593286823, 2.463190859329486, 2.5547974336928063, 2.666927959510455, 2.5319502744471887, 2.308343814210506, 2.481522610368139, 2.529267472465629, 2.406719500887843, 2.5584625656187807, 2.5374120446274118, 2.511962009759624, 2.6858289667768234, 2.3969304773416744, 2.6052978705689163, 2.5247464113886355, 2.3844898624492346, 2.616548267575163, 2.5826904161884174, 2.4964868756511955, 2.480271023456564, 2.600921294544909, 2.5438116966260895, 2.6436517987683206, 2.497513801388068, 2.43005779572803, 2.515636148348656, 2.4977394958951704, 2.415788932589096, 2.5140972485791906, 2.514080871606196, 2.418156131117439, 2.5090798078559247, 2.402896868258188, 2.4928864125285104, 2.5837788163311464, 2.4098912410995217, 2.4132436344323214, 2.6066159276052177, 2.503029179053969, 2.3288407956959403, 2.6136226256551254, 2.54451478473429, 2.318963169082739, 2.4537474186206154, 2.4614004988117637, 2.3662686372968644, 2.5453942695273954, 2.506039125143574, 2.519745337942704, 2.379065183276162, 2.5094308914664514, 2.318563341945595, 2.6581475058477113, 2.5072084304450235, 2.526969065068472, 2.5894581119990048, 2.476717305131658, 2.394218260256122, 2.3880582469618394, 2.634731438054423, 2.492871841544646, 2.4402117917202832, 2.4212250040233547, 2.606678449892425, 2.4158881035932387, 2.6311961090376337, 2.5860748797999515, 2.5480564817891875, 2.526775364919358, 2.5167001839965537, 2.5061280305375275, 2.4880417550876643, 2.408078360933427, 2.5617656958595547, 2.399173189131445, 2.497544510219907, 2.5151636953410907, 2.5020887844262734, 2.5834218809610445, 2.5024270701757887, 2.556074070901685, 2.375193826138511, 2.3334036766311397, 2.5348439860424135, 2.524435321503378, 2.6646618958092154, 2.366873390488853, 2.391852839912665, 2.3776081065188457, 2.342267479447127, 2.4456597068109005, 2.476269117201432, 2.5171520967269356, 2.3530450573119905, 2.4991061167276873, 2.4298220980545002, 2.487422201584432, 2.421001017202419, 2.6467118696575342, 2.5057619756493024, 2.3061192573384908, 2.345049437551446, 2.539456289528529, 2.5933587526252215, 2.4641639328220672, 2.5535210182119252, 2.505286240897699, 2.454596225269166, 2.3932300385262355, 2.4961923348645945, 2.5403874698851694, 2.563965400688047, 2.5372695818169806, 2.4635541141550648, 2.4924683762623507, 2.529610745492229, 2.4921281705693863, 2.391936392248705, 2.471969867483671, 2.5552795707443123, 2.472728318805918, 2.52764448765274, 2.450420835167683, 2.5339866848212846, 2.463317929177772, 2.4559963282537542, 2.6361331867318496, 2.355886740759709, 2.545454612427847, 2.513853626372883, 2.2483942595802096, 2.4367738252936864, 2.4557862955872207, 2.6543565164423715, 2.3751804739513505, 2.482915720717673, 2.5644594702157786, 2.635292028141479, 2.3993333577108955, 2.480858262523731, 2.530132645724366, 2.4991526255309324, 2.416807157207115, 2.597497445694765, 2.535323530036409, 2.5909396319188147, 2.6362792195048974, 2.4942391037077436, 2.4700618639819436, 2.5113510942643007, 2.4503308404531836, 2.535388715769674, 2.4571213028755188, 2.50985693120083, 2.5928643258375743, 2.375774754551401, 2.483290457909363, 2.4345367356350285, 2.529108467500879, 2.648602722326098, 2.5545088518255823, 2.529492769549331, 2.546875554385758, 2.432707980166744, 2.658241831232747, 2.4109620176210282, 2.4503632384414846, 2.4299725773122205, 2.514610094547141, 2.367925122182395, 2.500616279028194, 2.4145742471647513, 2.626724387824631, 2.517759736063215, 2.432771377247502, 2.5874021242021095, 2.4617612264206543, 2.5187361981756577, 2.5024902030751646, 2.350734981069072, 2.5112166431623764, 2.554422480091933, 2.4178003686615748, 2.69014985697379, 2.3632846482146475, 2.5503511670533925, 2.4733433079788614, 2.508060928576716, 2.5980764425492158, 2.4985349339729135, 2.531113364192906, 2.4116151089623363, 2.432744998313365, 2.4500579088168624, 2.565668559779607, 2.543334762993317, 2.3532475604801673, 2.3404902599793496, 2.6026555534039773, 2.289747943156854, 2.5556110933487703, 2.4886334728740245, 2.534892259151322, 2.505455266740978, 2.5943365946704264, 2.5743308676783228, 2.4858230762721747, 2.4517949173158295, 2.418551134244174, 2.5527605344712914, 2.4738915012000406, 2.542997554228068, 2.3908240776488494, 2.5494743514084597, 2.56509558685742, 2.4681960201886057, 2.5675280151755255, 2.6776308866224987, 2.36049615418077, 2.421386148716163, 2.4304040517406142, 2.4474703623271923, 2.643477102300758, 2.578539983643833, 2.384364133183777, 2.480485466995966, 2.5079924201499386, 2.6088951178051167, 2.4555396490905546, 2.5443780283962125, 2.567014351318836, 2.4454374845486755, 2.427439600165015, 2.558078418180073, 2.554017143216884, 2.521946845301091, 2.514375536560423, 2.360206038366866, 2.673196317590587, 2.331700454467093, 2.4253965417765073, 2.5119349039296583, 2.4534467345153548, 2.6487571527643476, 2.4633749611393503, 2.5696313681496203, 2.449509076457924, 2.590230194757228, 2.523051132973245, 2.441065160665228, 2.468916979525173, 2.4705196985546087, 2.4360075110760473, 2.4716025512900326, 2.5078679425629256, 2.458611040627813, 2.425894877519111, 2.368694912744706, 2.491618288979864, 2.4028646117328387, 2.5061185599184954, 2.5536139652148386, 2.4027348467652687, 2.528560096182294, 2.5563913977785537, 2.490381516342265, 2.5961836375391147, 2.534570743093887, 2.4645496938482663, 2.5737076716486857, 2.6188345558071804, 2.4067576679170477, 2.6146619485673814, 2.6857735566642615, 2.4973043165517645, 2.5994291793931774, 2.5970009962748266, 2.486889714999227, 2.490591597033144, 2.6015761031789686, 2.4806249021168485, 2.527524240029836, 2.576906266368, 2.363312218241018, 2.3835411129860296, 2.4388658815516915, 2.5915492293034195, 2.4617519676433823, 2.4403617270900924, 2.5854396927750423, 2.4155468456925204, 2.2936141059843855, 2.5572655937458704, 2.463505715111835, 2.584670492787933, 2.452422122766307, 2.571128239538857, 2.5287893121602467, 2.412716099380142, 2.5194550569736536, 2.4472176001436265, 2.561793635443439, 2.6498705758217826, 2.519852034567863, 2.340808982572047, 2.3849010271140383, 2.4007175870568673, 2.4180670513015907, 2.632126022656025, 2.4216316718344335, 2.4810505538616794, 2.395276446354335, 2.334424196766327, 2.501664918882323, 2.496410590775974, 2.700767836343922, 2.48228099494502, 2.6557174254031706, 2.5250101089757777, 2.6364791087710193, 2.5472926899432498, 2.4981008178621193, 2.5472070565007217, 2.6530257150062386, 2.4174328565811707, 2.4272243458958487, 2.3387159781247275, 2.5114889307966655, 2.4539656637980647, 2.350824518029662, 2.5560395864141383, 2.411290702751171, 2.4556212738500562, 2.4521418052217725, 2.600087469031016, 2.463681389991682, 2.5468379683757187, 2.5871295600406294, 2.4146890643520207, 2.3662472008944624, 2.4607885646998198, 2.346072984733044, 2.494407111156816, 2.5556372690645395, 2.452651904163037, 2.6205775890908334, 2.5093081620286677, 2.589411138308608, 2.3245336034148005, 2.4934080569904267, 2.555637604839812, 2.3481108360290017, 2.415883291543355, 2.4669127982490955, 2.4549216043935345, 2.5229689185824085, 2.4496832949151, 2.5480557216751327, 2.610418675807713, 2.4561402447381417, 2.4601932294478845, 2.380985414665391, 2.4281068450597783, 2.5348373600612204, 2.5090148073226892, 2.304396451690745, 2.5707456633263055, 2.5413190335491245, 2.5917177214825458, 2.617999714664746, 2.459748832319428, 2.535601771974334, 2.366556433825172, 2.428245961910431, 2.4135458139632675, 2.562325595217179, 2.586295581444625, 2.4891791009442654, 2.6402129257798164, 2.432908749963217, 2.430752015907339, 2.3136824390878865, 2.3473152692805046, 2.5675522651659364, 2.4747607789426302, 2.5153223982502038, 2.495542103721308, 2.614542988058144, 2.4700387572195224, 2.6826700977622147, 2.461271979554007, 2.3890494604538555, 2.5707695507553554, 2.624141423126178, 2.4703941792929838, 2.4315365888772056, 2.5642555125692676, 2.5501212597441287, 2.421211238671624, 2.39708910953626, 2.4679260800734664, 2.4253607662391596, 2.6208968419023346, 2.4849180850440797, 2.648220908262097, 2.3361228263269647, 2.535319367694049, 2.4104527758008794, 2.3849255552091377, 2.4158597556965264, 2.6658502351322193, 2.384518286999754, 2.3748255416225934, 2.453000828097191, 2.656981569911503, 2.4288441342495757, 2.6038096395937953, 2.4905147673589383, 2.503401257708817, 2.369917893116947, 2.537101835381859, 2.6063932785523467, 2.352206583219991, 2.6102572033737346, 2.4368269814188253, 2.6399409954570427, 2.564628631170824, 2.5192556336478247, 2.579094378817001, 2.5111991967236884, 2.387156105372017, 2.458730372688685, 2.458227137222697, 2.464654384034392, 2.5173928796508465, 2.521461032081492, 2.381330548859771, 2.527741139008285, 2.4847791870857705, 2.5357927225518435, 2.5466038004319755, 2.4934191667171453, 2.637068789669413, 2.530827554684393, 2.5426447890249735, 2.4480152049934127, 2.51549444939051, 2.5667162532341954, 2.4864427716318476, 2.422264623455386, 2.613615975120676, 2.4544710233156604, 2.3754503707447325, 2.5651089121247463, 2.5675752674570904, 2.5659375410330147, 2.322869446525097, 2.542927783395012, 2.4799134497010504, 2.4209927563993787, 2.428662660764258, 2.582987248159019, 2.416234613087384, 2.561787774308797, 2.444536796724159, 2.352119202934752, 2.614041777453249, 2.4002858109833025, 2.5100072990919804, 2.3368175196898293, 2.5470571279789427, 2.4926661511815387, 2.2911714533448126, 2.5416690063000433, 2.4378640138750716, 2.4100630667122958, 2.569287566420087, 2.464450527470897, 2.5534937981322487, 2.3770578082093747, 2.590248445073631, 2.4511896452967634, 2.5160403531834357, 2.4460594754460785, 2.5174015856755725, 2.486079429531099, 2.4924339150710595, 2.4936402242126987, 2.406403020615456, 2.3663794091547934, 2.571971307423787, 2.5712805320871, 2.587742638316599, 2.438149326598092, 2.6653102119722365, 2.4273671551138745, 2.6486392619249215, 2.612136492507052, 2.538211915612167, 2.3521915252164205, 2.556113382045038, 2.5202587177512292, 2.477650593870832, 2.5940441985277713, 2.2878936067066364, 2.5354761852222687, 2.4831645627596233, 2.4725640209275093, 2.468954808195693, 2.364540353443351, 2.5290072496366807, 2.425506689744933, 2.4481200923472244, 2.3623834878837386, 2.6719025978164774, 2.5724199391540337, 2.620478198102293, 2.3140763344045947, 2.31395826260116, 2.4896217486979184, 2.485169257322156, 2.5795990734558734, 2.539600741434067, 2.6319551775218786, 2.401348593543986, 2.519597834977085, 2.34550366144427, 2.700144009309285, 2.4652496229995364, 2.583521157093194, 2.516692023475586, 2.4166973399737794, 2.3953931227291294, 2.3964892249134317, 2.437695375124121, 2.6079044918390073, 2.7090822474627196, 2.515812251918466, 2.501077558006263, 2.6593511983796656, 2.4530231082275273, 2.3094204695227214, 2.335966983337822, 2.55165911943116, 2.5964485650170213, 2.452731752553815, 2.4509691376284324, 2.677068564469942, 2.52648670666893, 2.504157695607783, 2.461040798471041, 2.562251087732159, 2.4375583395521474, 2.5983807417192377, 2.6664096478503194, 2.5902456576308053, 2.5529287250599797, 2.517087366414446, 2.411395555132774, 2.6035162886996495, 2.3673618291641816, 2.669486150422683, 2.4947319409601834, 2.410039040086195, 2.455582668746422, 2.586417304371875, 2.5812318165272248, 2.523758518413056, 2.4503236649968074, 2.6472803061181756, 2.5189867624918607, 2.562763475230404, 2.381723942178641, 2.532219601919209, 2.3620052329355103, 2.5085337392765004, 2.5170199836034515, 2.4748561950932944, 2.605567111515082, 2.495736159243469, 2.492378210316102, 2.3592348121093294, 2.5958898047813337, 2.4630663871610876, 2.443541508544789, 2.471787812958309, 2.6038496796635306, 2.499523174051024, 2.719866076403423, 2.6179679108225917, 2.5464163012341787, 2.3991489115969857, 2.486469672013901, 2.4570558799220725, 2.475807466084464, 2.54057995847327, 2.333797103602186, 2.673150646378665, 2.5324999081615025, 2.478357134097105, 2.398026389228825, 2.59619098783965, 2.5622412410151307, 2.3981668658634656, 2.4742712549874093, 2.3851815436617456, 2.632292009961419, 2.41243017001056, 2.3966082024913904, 2.4759394224423956, 2.4498889705171023, 2.4436955975432655, 2.5293785953945704, 2.4178964398814387, 2.4541033316896628, 2.5801995774571647, 2.5123777896410653, 2.5395171356731856, 2.533250938616213, 2.485300354021241, 2.401532159245782, 2.52997473488457, 2.5137868218154127, 2.44181830292459, 2.477312789414185, 2.500337251032602, 2.6036092770405297, 2.507543684686088, 2.490783008631501, 2.4243991912792837, 2.6516994868096178, 2.4008356887827382, 2.5542663958651883, 2.4176040619270087, 2.49393187244356, 2.5628036626915205, 2.4447134107375184, 2.561195343916218, 2.533535603954582, 2.512877951681365, 2.408754846753174, 2.7053614221850544, 2.3383792907799004, 2.4565030715320795, 2.4860895192212396, 2.517812820414908, 2.581046947787881, 2.4741985428365796, 2.612047814254421, 2.57364901650364, 2.4621033761542983, 2.430736091836378, 2.577244846573189, 2.5790489650887096, 2.4293756047353763, 2.595449056236633, 2.594607149158967, 2.4342874949000715, 2.42998682061859, 2.3285104064167177, 2.516731463384936, 2.4411244071478846, 2.562542725029956, 2.446708919347843, 2.5056295661979364, 2.452476863517772, 2.626014400412697, 2.611534565867915, 2.490957860062451, 2.520462929084714, 2.6070389807762866, 2.5709239993961015, 2.606098115791673, 2.406779616669607, 2.614903839891352, 2.4859199665546132, 2.45479161349258, 2.585357912651892, 2.432889943541218, 2.508101491152677, 2.5717955110059014, 2.400326814513556, 2.3921198410817697, 2.4988827537008254, 2.5362120767338743, 2.5093403848889224, 2.7375197243494602, 2.513572884213119, 2.513066927923923, 2.6116267921848824, 2.4117737604545524, 2.408972407345134, 2.351899359656195, 2.4959672027593673, 2.3815932369137927, 2.5691122326978197, 2.525672024660918, 2.420204309373771, 2.500846788846398, 2.517951652723978, 2.490706991877906, 2.50624484347982, 2.367621123974852, 2.56992956738108, 2.5690432455999517, 2.479201703709678, 2.445444531791817, 2.396592544637075, 2.583871406795928, 2.466104053400888, 2.383347097870417, 2.4692863610049156, 2.648535569306483, 2.564327844371153, 2.4975716905727983, 2.6122216955010047, 2.5628129190458373, 2.598095021516828, 2.5346405927620075, 2.5191735194952245, 2.5144154074766703, 2.5319843179464363, 2.4885375211740395, 2.559610720200773, 2.5107251678762195, 2.571259304207108, 2.4727172273363585, 2.458122959772179, 2.5473521326434176, 2.6630832048916977, 2.4344485767341824, 2.4896924626065817, 2.5319341117317373, 2.5772183740215344, 2.5083927258495025, 2.5885123066409523, 2.430785602764426, 2.588715719074174, 2.4544497952213455, 2.609966513380885, 2.381834684246978, 2.5550551250565134, 2.624273130527492, 2.4599649470527867, 2.4463384455487076, 2.482355499843556, 2.629083049623163, 2.5713638816463282, 2.4676526231237985, 2.562978567215029, 2.5085079422053442, 2.5970391530794203, 2.476429293467961, 2.4567219003901455, 2.5509891614056803, 2.427779418847365, 2.553899872975264, 2.4117378938451073, 2.655268889607824, 2.415393582301581, 2.39418371635452, 2.3252807594887903, 2.59274604257375, 2.430738595626706, 2.606651296102558, 2.605194704625158, 2.4317220500980126, 2.5079763985405714, 2.629909236390635, 2.773003364928144, 2.5351302617042677, 2.57387981180723, 2.597409222314073, 2.478136661197734, 2.433257492235499, 2.582363972960588, 2.5400637628101497, 2.612167985207421, 2.516087799357297, 2.591113106747176, 2.508049396631611, 2.5262727760841885, 2.556014264369091, 2.55079419437667, 2.4477530590979706, 2.4073892845629348, 2.5449520823935465, 2.486912416306217, 2.374791265256777, 2.5512995049831435, 2.43853742037294, 2.591988613366788, 2.5727378038490643, 2.514171270621252, 2.6851756102843347, 2.541610446091325, 2.508758887898001, 2.4391433135738625, 2.45191424128223, 2.5076637979039864, 2.5859569089249645, 2.4153898240942353, 2.4596685965314853, 2.455400714397668, 2.5546140956461785]\n"
     ]
    },
    {
     "data": {
      "image/png": "[encoded data removed]",
      "text/plain": [
       "<Figure size 640x480 with 1 Axes>"
      ]
     },
     "metadata": {},
     "output_type": "display_data"
    }
   ],
   "source": [
    "import random\n",
    "from matplotlib import pyplot as plt\n",
    "\n",
    "def sample_one(*, start, end):\n",
    "    return start + (end - start) * random.random()\n",
    "\n",
    "def sample_many(*, start, end, n):\n",
    "    return [sample_one(start=start, end=end) for _ in range(n)]\n",
    "\n",
    "def create_population(*, start, end, n, size):\n",
    "    populations = [sample_many(start=start, end=end, n=n) for _ in range(size)]\n",
    "    averages = [average(pop) for pop in populations]\n",
    "    return populations, averages\n",
    "\n",
    "def average(array):\n",
    "    if len(array) == 0:\n",
    "        return 0\n",
    "    return sum(array) / len(array)\n",
    "\n",
    "populations, averages = create_population(start=2, end=3, n=10, size=1000)\n",
    "print(\"Populations:\", populations)\n",
    "print(\"Averages:\", averages)\n",
    "\n",
    "plt.figure()\n",
    "plt.hist(averages, bins=50)\n",
    "plt.show()\n"
   ]
  },
  {
   "cell_type": "code",
   "execution_count": null,
   "metadata": {
    "id": "3p1R9T9YtprZ"
   },
   "outputs": [],
   "source": []
  }
 ],
 "metadata": {
  "colab": {
   "collapsed_sections": [],
   "provenance": []
  },
  "kernelspec": {
   "display_name": "labs",
   "language": "python",
   "name": "python3"
  },
  "language_info": {
   "codemirror_mode": {
    "name": "ipython",
    "version": 3
   },
   "file_extension": ".py",
   "mimetype": "text/x-python",
   "name": "python",
   "nbconvert_exporter": "python",
   "pygments_lexer": "ipython3",
   "version": "3.13.1"
  }
 },
 "nbformat": 4,
 "nbformat_minor": 4
}
